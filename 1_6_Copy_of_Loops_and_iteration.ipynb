{
  "nbformat": 4,
  "nbformat_minor": 0,
  "metadata": {
    "colab": {
      "name": "1.6 Copy of Loops and iteration ",
      "provenance": [],
      "collapsed_sections": [],
      "authorship_tag": "ABX9TyPO0JLFxngFnwscpyJJpI7k",
      "include_colab_link": true
    },
    "kernelspec": {
      "name": "python3",
      "display_name": "Python 3"
    },
    "language_info": {
      "name": "python"
    }
  },
  "cells": [
    {
      "cell_type": "markdown",
      "metadata": {
        "id": "view-in-github",
        "colab_type": "text"
      },
      "source": [
        "<a href=\"https://colab.research.google.com/github/himanshu683663/EDA-1-/blob/main/1_6_Copy_of_Loops_and_iteration.ipynb\" target=\"_parent\"><img src=\"https://colab.research.google.com/assets/colab-badge.svg\" alt=\"Open In Colab\"/></a>"
      ]
    },
    {
      "cell_type": "markdown",
      "source": [
        "Hi this is himanshu singh"
      ],
      "metadata": {
        "id": "dp_7zTqXH7Of"
      }
    },
    {
      "cell_type": "markdown",
      "metadata": {
        "id": "W7WJLR0XFkh5"
      },
      "source": [
        "## Loops are important in Python or in any other programming language as they help you to execute a block of code repeatedly. You will often come face to face with situations where you would need to use a piece of code over and over but you don't want to write the same line of code multiple times."
      ]
    },
    {
      "cell_type": "markdown",
      "metadata": {
        "id": "8_UEbYDfFrzt"
      },
      "source": [
        "### In Python we have mainly two different types of loops :\n",
        "\n",
        "\n",
        "* <u>for loop</u> : In the context of most data science work, Python for loops are used to loop through an iterable object (like a list, tuple, set, etc.) and perform the same action for each entry. For example, a for loop would allow us to iterate through a list, performing the same action on each item in the list.\n",
        "\n",
        "\n",
        "* <u>while loop</u> : The while loop is somewhat similar to an if statement, it executes the code inside, if the condition is True. However, as opposed to the if statement, the while loop continues to execute the code repeatedly as long as the condition is True."
      ]
    },
    {
      "cell_type": "markdown",
      "metadata": {
        "id": "s95BqRh1cdQI"
      },
      "source": [
        "# for loops\n",
        "\n",
        "A <code>for</code> loop acts as an iterator in Python; it goes through items that are in a *sequence* or any other iterable item. Iterable is an object, which one can iterate over. Objects that we've learned about that we can iterate over include strings, lists, tuples, and even built-in iterables for dictionaries, such as keys or values.\n",
        "\n",
        "Here's the general format for a <code>for</code> loop in Python:\n",
        "\n",
        "    for item in object:\n",
        "        statements to do stuff        "
      ]
    },
    {
      "cell_type": "markdown",
      "metadata": {
        "id": "PV4Urar7kxKD"
      },
      "source": [
        "The variable name used for the item is completely up to the coder, so use your best judgment for choosing a name that makes sense and you will be able to understand when revisiting your code. This item name can then be referenced inside your loop, for example if you wanted to use <code>if</code> statements to perform checks.\n",
        "\n",
        "Let's go ahead and work through several example of <code>for</code> loops using a variety of data object types. We'll start simple and build more complexity later on."
      ]
    },
    {
      "cell_type": "markdown",
      "metadata": {
        "id": "8r83SXM_k-45"
      },
      "source": [
        "### <u> Example 1</u>\n",
        "\n",
        "\n",
        "#### Let us print each element of our list of strings using a for loop statement"
      ]
    },
    {
      "cell_type": "code",
      "metadata": {
        "id": "8DKrKFeFCBfS",
        "colab": {
          "base_uri": "https://localhost:8080/"
        },
        "outputId": "dfc131cf-9f3f-4c93-e668-35deaef5ae8d"
      },
      "source": [
        "# Consider the list of strings \n",
        "got_houses =['Stark','Arryn','Baratheon','Tully','Greyjoy','Lannister','Tyrell','Martell','Targaryen']\n",
        "print (got_houses[0:2])"
      ],
      "execution_count": null,
      "outputs": [
        {
          "output_type": "stream",
          "name": "stdout",
          "text": [
            "['Stark', 'Arryn']\n"
          ]
        }
      ]
    },
    {
      "cell_type": "code",
      "metadata": {
        "colab": {
          "base_uri": "https://localhost:8080/"
        },
        "id": "6PVWWlxnmuoe",
        "outputId": "deaf938c-44f9-457b-db6e-4dbcc653058c"
      },
      "source": [
        "for house in got_houses : \n",
        "  print(f'house {house}')"
      ],
      "execution_count": null,
      "outputs": [
        {
          "output_type": "stream",
          "name": "stdout",
          "text": [
            "house Stark\n",
            "house Arryn\n",
            "house Baratheon\n",
            "house Tully\n",
            "house Greyjoy\n",
            "house Lannister\n",
            "house Tyrell\n",
            "house Martell\n",
            "house Targaryen\n"
          ]
        }
      ]
    },
    {
      "cell_type": "code",
      "metadata": {
        "colab": {
          "base_uri": "https://localhost:8080/"
        },
        "id": "HmAnrZx3KiyP",
        "outputId": "831fee3c-753d-4a6b-e57d-2daaa0904ea8"
      },
      "source": [
        "# what if we want to print them in reverse order \n",
        "for house in got_houses [::-1]  :\n",
        "  print(f\"house {house}\")"
      ],
      "execution_count": null,
      "outputs": [
        {
          "output_type": "stream",
          "name": "stdout",
          "text": [
            "house Targaryen\n",
            "house Martell\n",
            "house Tyrell\n",
            "house Lannister\n",
            "house Greyjoy\n",
            "house Tully\n",
            "house Baratheon\n",
            "house Arryn\n",
            "house Stark\n"
          ]
        }
      ]
    },
    {
      "cell_type": "code",
      "metadata": {
        "colab": {
          "base_uri": "https://localhost:8080/"
        },
        "id": "CFoWQAk4LY-j",
        "outputId": "10e6c3c9-a409-478d-edc2-c9a17bd546fc"
      },
      "source": [
        "# what if we want to print first 4 element of list\n",
        "for house in got_houses  [0:4:1] :\n",
        "  print(f'house in {house}')"
      ],
      "execution_count": null,
      "outputs": [
        {
          "output_type": "stream",
          "name": "stdout",
          "text": [
            "house in Stark\n",
            "house in Arryn\n",
            "house in Baratheon\n",
            "house in Tully\n"
          ]
        }
      ]
    },
    {
      "cell_type": "markdown",
      "metadata": {
        "id": "ThizHrcmQASr"
      },
      "source": [
        "### Another interesting way to loop through the elements of a list is to use the <code>enumerate()</code> function. Using enumerate requires us two iterators index and element"
      ]
    },
    {
      "cell_type": "code",
      "metadata": {
        "id": "5wGcp53sK64f",
        "colab": {
          "base_uri": "https://localhost:8080/"
        },
        "outputId": "021deab0-2b30-4e76-e81a-464d656cd0b0"
      },
      "source": [
        "# print the function and elements associated within that .\n",
        "got_houses"
      ],
      "execution_count": null,
      "outputs": [
        {
          "output_type": "execute_result",
          "data": {
            "text/plain": [
              "['Stark',\n",
              " 'Arryn',\n",
              " 'Baratheon',\n",
              " 'Tully',\n",
              " 'Greyjoy',\n",
              " 'Lannister',\n",
              " 'Tyrell',\n",
              " 'Martell',\n",
              " 'Targaryen']"
            ]
          },
          "metadata": {},
          "execution_count": 9
        }
      ]
    },
    {
      "cell_type": "code",
      "metadata": {
        "colab": {
          "base_uri": "https://localhost:8080/"
        },
        "id": "14M7WYmtQsRn",
        "outputId": "d3930345-17db-4f73-d760-82eedb5037c7"
      },
      "source": [
        "# using enumerate function to loop through the element of list \n",
        "for numbers , house in enumerate(got_houses) :\n",
        "  print (f\"{numbers},house {house}\")\n"
      ],
      "execution_count": null,
      "outputs": [
        {
          "output_type": "stream",
          "name": "stdout",
          "text": [
            "0,house Stark\n",
            "1,house Arryn\n",
            "2,house Baratheon\n",
            "3,house Tully\n",
            "4,house Greyjoy\n",
            "5,house Lannister\n",
            "6,house Tyrell\n",
            "7,house Martell\n",
            "8,house Targaryen\n"
          ]
        }
      ]
    },
    {
      "cell_type": "code",
      "metadata": {
        "colab": {
          "base_uri": "https://localhost:8080/"
        },
        "id": "djuwPRW3S2gt",
        "outputId": "91f233ff-a38e-4a3c-d302-514a09b48856"
      },
      "source": [
        "# using enumerate function with just the function in loop \n",
        "for numbers , houses in enumerate(got_houses) : \n",
        "  print(f'{numbers}  {houses}')"
      ],
      "execution_count": null,
      "outputs": [
        {
          "output_type": "stream",
          "name": "stdout",
          "text": [
            "0  Stark\n",
            "1  Arryn\n",
            "2  Baratheon\n",
            "3  Tully\n",
            "4  Greyjoy\n",
            "5  Lannister\n",
            "6  Tyrell\n",
            "7  Martell\n",
            "8  Targaryen\n"
          ]
        }
      ]
    },
    {
      "cell_type": "code",
      "metadata": {
        "id": "8cU45UBbcJZm",
        "colab": {
          "base_uri": "https://localhost:8080/"
        },
        "outputId": "c8b113e1-9778-4397-f447-36bdd4158f85"
      },
      "source": [
        "# using enumerate function with just the function in loop \n",
        "for  numbers , house  in enumerate(got_houses) :\n",
        "  print( f\"The house no of house {house} is {numbers+1}\")\n"
      ],
      "execution_count": null,
      "outputs": [
        {
          "output_type": "stream",
          "name": "stdout",
          "text": [
            "The house no of house Stark is 1\n",
            "The house no of house Arryn is 2\n",
            "The house no of house Baratheon is 3\n",
            "The house no of house Tully is 4\n",
            "The house no of house Greyjoy is 5\n",
            "The house no of house Lannister is 6\n",
            "The house no of house Tyrell is 7\n",
            "The house no of house Martell is 8\n",
            "The house no of house Targaryen is 9\n"
          ]
        }
      ]
    },
    {
      "cell_type": "code",
      "metadata": {
        "colab": {
          "base_uri": "https://localhost:8080/"
        },
        "id": "MGVZlodbge3f",
        "outputId": "ae59c980-6129-4a06-d502-6b6f45d46077"
      },
      "source": [
        "x= 1,2\n",
        "print(x)\n",
        "type(x)"
      ],
      "execution_count": null,
      "outputs": [
        {
          "output_type": "stream",
          "name": "stdout",
          "text": [
            "(1, 2)\n"
          ]
        },
        {
          "output_type": "execute_result",
          "data": {
            "text/plain": [
              "tuple"
            ]
          },
          "metadata": {},
          "execution_count": 13
        }
      ]
    },
    {
      "cell_type": "code",
      "metadata": {
        "id": "ZCYXRYZGTlcO",
        "colab": {
          "base_uri": "https://localhost:8080/"
        },
        "outputId": "d8a09d18-7b5f-4777-8086-5f93373429bf"
      },
      "source": [
        "enumerate(got_houses)"
      ],
      "execution_count": null,
      "outputs": [
        {
          "output_type": "execute_result",
          "data": {
            "text/plain": [
              "<enumerate at 0x7f4bebf279b0>"
            ]
          },
          "metadata": {},
          "execution_count": 14
        }
      ]
    },
    {
      "cell_type": "code",
      "metadata": {
        "colab": {
          "base_uri": "https://localhost:8080/"
        },
        "id": "OXPTmpLZfTzx",
        "outputId": "21d72d8a-a8d9-458f-ea1c-b0f8cba7face"
      },
      "source": [
        "list(enumerate(got_houses))"
      ],
      "execution_count": null,
      "outputs": [
        {
          "output_type": "execute_result",
          "data": {
            "text/plain": [
              "[(0, 'Stark'),\n",
              " (1, 'Arryn'),\n",
              " (2, 'Baratheon'),\n",
              " (3, 'Tully'),\n",
              " (4, 'Greyjoy'),\n",
              " (5, 'Lannister'),\n",
              " (6, 'Tyrell'),\n",
              " (7, 'Martell'),\n",
              " (8, 'Targaryen')]"
            ]
          },
          "metadata": {},
          "execution_count": 15
        }
      ]
    },
    {
      "cell_type": "markdown",
      "metadata": {
        "id": "mqCY_9a7b_eR"
      },
      "source": [
        "### <u>Example 2</u>\n",
        "\n",
        "#### Suppose you are given a list of numbers. You need to find the corresponding squares of these numbers and zip them together in a dictionary"
      ]
    },
    {
      "cell_type": "code",
      "metadata": {
        "id": "iCsbWVQqcBh4"
      },
      "source": [
        "# The list of numbers \n",
        "list_of_numbers =[1,2,4,6,11,14,17,20]"
      ],
      "execution_count": null,
      "outputs": []
    },
    {
      "cell_type": "code",
      "metadata": {
        "colab": {
          "base_uri": "https://localhost:8080/"
        },
        "id": "njAcjZBFcT4y",
        "outputId": "444976ea-923c-4743-ba26-06664d819186"
      },
      "source": [
        "# Let us first print the squares \n",
        "for numbers in list_of_numbers :\n",
        "  square_numbers =numbers**2\n",
        "  print(f'The square of {numbers} is {square_numbers}')"
      ],
      "execution_count": null,
      "outputs": [
        {
          "output_type": "stream",
          "name": "stdout",
          "text": [
            "The square of 1 is 1\n",
            "The square of 2 is 4\n",
            "The square of 4 is 16\n",
            "The square of 6 is 36\n",
            "The square of 11 is 121\n",
            "The square of 14 is 196\n",
            "The square of 17 is 289\n",
            "The square of 20 is 400\n"
          ]
        }
      ]
    },
    {
      "cell_type": "markdown",
      "metadata": {
        "id": "Wylp3JiHmcC4"
      },
      "source": [
        "So this was a pretty straight forward way to print out these squares.\n",
        "Example 3\n",
        "Imagine a scenario where we not only needed to print these numbers for each iteration but also we need to store these elements somewhere else"
      ]
    },
    {
      "cell_type": "code",
      "metadata": {
        "colab": {
          "base_uri": "https://localhost:8080/"
        },
        "id": "QwX_abm5rpjG",
        "outputId": "611662ff-00ef-4a9d-ae19-0d84929f1c32"
      },
      "source": [
        "print(list_of_numbers)"
      ],
      "execution_count": null,
      "outputs": [
        {
          "output_type": "stream",
          "name": "stdout",
          "text": [
            "[1, 2, 4, 6, 11, 14, 17, 20]\n"
          ]
        }
      ]
    },
    {
      "cell_type": "markdown",
      "metadata": {
        "id": "S8VKBRudE-BW"
      },
      "source": [
        "So there is 3 different cases pl check this out and understand the difference in terms of square_number is in loop  or not in loop ."
      ]
    },
    {
      "cell_type": "code",
      "metadata": {
        "colab": {
          "base_uri": "https://localhost:8080/"
        },
        "id": "wb1lPkkzmVlQ",
        "outputId": "a15d3a7a-c6bc-4465-e89c-6b5ede3b60cf"
      },
      "source": [
        "# Let us first initialize a list where will be appending the squares in each iteration .\n",
        "square_numbers = []\n",
        "for  numbers in list_of_numbers :\n",
        "  square =numbers**2  \n",
        " # Use the append method to add the no one by one by our list .\n",
        "  square_numbers.append(square)\n",
        "  print(square_numbers)\n",
        "\n"
      ],
      "execution_count": null,
      "outputs": [
        {
          "output_type": "stream",
          "name": "stdout",
          "text": [
            "[1]\n",
            "[1, 4]\n",
            "[1, 4, 16]\n",
            "[1, 4, 16, 36]\n",
            "[1, 4, 16, 36, 121]\n",
            "[1, 4, 16, 36, 121, 196]\n",
            "[1, 4, 16, 36, 121, 196, 289]\n",
            "[1, 4, 16, 36, 121, 196, 289, 400]\n"
          ]
        }
      ]
    },
    {
      "cell_type": "markdown",
      "metadata": {
        "id": "JMh3SOuZBOHk"
      },
      "source": [
        "**# Pl check out the differences  in between ther due to indentation difference it happens because in 2nd one it start from the start and in first one print function happpen in for loop () .**"
      ]
    },
    {
      "cell_type": "code",
      "metadata": {
        "colab": {
          "base_uri": "https://localhost:8080/"
        },
        "id": "aaeMjspfzWVS",
        "outputId": "06d0b33f-a07f-4217-8891-8474eb4facff"
      },
      "source": [
        "# for zipping purpose we use  these square_numbers\n",
        "# Let us first initialize a list where will be appending the squares in each iteration .\n",
        "square_numbers = []\n",
        "for  numbers in list_of_numbers :\n",
        "  square =numbers**2  \n",
        " # Use the append method to add the no one by one by our list .\n",
        "  square_numbers.append(square)\n",
        "print(square_numbers)  "
      ],
      "execution_count": null,
      "outputs": [
        {
          "output_type": "stream",
          "name": "stdout",
          "text": [
            "[1, 4, 16, 36, 121, 196, 289, 400]\n"
          ]
        }
      ]
    },
    {
      "cell_type": "code",
      "metadata": {
        "colab": {
          "base_uri": "https://localhost:8080/"
        },
        "id": "cJ7I0kAoLmCy",
        "outputId": "c0376a18-6187-43f3-bfad-23e417398f59"
      },
      "source": [
        "# Let us zip the original number and square together and get the dictionary \n",
        "\n",
        "square_dict = dict(zip(list_of_numbers,square_numbers))\n",
        "print(square_dict)"
      ],
      "execution_count": null,
      "outputs": [
        {
          "output_type": "stream",
          "name": "stdout",
          "text": [
            "{1: 1, 2: 4, 4: 16, 6: 36, 11: 121, 14: 196, 17: 289, 20: 400}\n"
          ]
        }
      ]
    },
    {
      "cell_type": "markdown",
      "metadata": {
        "id": "dv7QWgGUEdMX"
      },
      "source": [
        "& In Third case where  square_number  =[ ]  falls in for loop and resultant is 400 ."
      ]
    },
    {
      "cell_type": "code",
      "metadata": {
        "colab": {
          "base_uri": "https://localhost:8080/"
        },
        "id": "mR1mSh5wBKhj",
        "outputId": "f7cb00d1-8b87-4ee1-cf9a-f69f5fc003a3"
      },
      "source": [
        "for  numbers in list_of_numbers :\n",
        "  square_numbers =[]\n",
        "  square =numbers**2  \n",
        " # Use the append method to add the no one by one by our list .\n",
        "  square_numbers.append(square)\n",
        "print(square_numbers) "
      ],
      "execution_count": null,
      "outputs": [
        {
          "output_type": "stream",
          "name": "stdout",
          "text": [
            "[400]\n"
          ]
        }
      ]
    },
    {
      "cell_type": "markdown",
      "metadata": {
        "id": "k7hf6fQKQYLc"
      },
      "source": [
        " ### <u> Example 4</u> (i)\n",
        "####  Now suppose we only want to print the squares of those numbers which are even. Let us see how we can do this . "
      ]
    },
    {
      "cell_type": "code",
      "metadata": {
        "colab": {
          "base_uri": "https://localhost:8080/"
        },
        "id": "96xQFn1RQW2V",
        "outputId": "1b5df5e7-049e-4e59-c4f3-facf82b027f8"
      },
      "source": [
        "print(list_of_numbers)"
      ],
      "execution_count": null,
      "outputs": [
        {
          "output_type": "stream",
          "name": "stdout",
          "text": [
            "[1, 2, 4, 6, 11, 14, 17, 20]\n"
          ]
        }
      ]
    },
    {
      "cell_type": "code",
      "metadata": {
        "colab": {
          "base_uri": "https://localhost:8080/"
        },
        "id": "000jjGvvE4SE",
        "outputId": "61e3094f-0cf4-485e-bef8-1a1af289f06b"
      },
      "source": [
        "# Here we will use if - else condition along with for loop  .\n",
        "for numbers in list_of_numbers :\n",
        "  if numbers % 2 == 0 :\n",
        "    square_numbers = numbers**2\n",
        "    print(f'The square number of {numbers} is {square_numbers}')\n",
        "  else:\n",
        "     print(f' I am an odd number {numbers}. My master prohibits me from printing these odd number strange but okay') \n",
        "  \n"
      ],
      "execution_count": null,
      "outputs": [
        {
          "output_type": "stream",
          "name": "stdout",
          "text": [
            " I am an odd number 1. My master prohibits me from printing these odd number strange but okay\n",
            "The square number of 2 is 4\n",
            "The square number of 4 is 16\n",
            "The square number of 6 is 36\n",
            " I am an odd number 11. My master prohibits me from printing these odd number strange but okay\n",
            "The square number of 14 is 196\n",
            " I am an odd number 17. My master prohibits me from printing these odd number strange but okay\n",
            "The square number of 20 is 400\n"
          ]
        }
      ]
    },
    {
      "cell_type": "markdown",
      "metadata": {
        "id": "blCg9CQkUOK7"
      },
      "source": [
        "Example 4 (ii)\n",
        "Now suppose we only want to print the squares of those numbers which are odd . Let us see how we can do this ."
      ]
    },
    {
      "cell_type": "code",
      "metadata": {
        "colab": {
          "base_uri": "https://localhost:8080/"
        },
        "id": "lnkaOuz4URJc",
        "outputId": "973637d8-502a-4991-8798-7fdb6e6e92c9"
      },
      "source": [
        "# Here we will use if - else condition along with for loop  .\n",
        "for numbers in list_of_numbers :\n",
        "  if numbers % 2 != 0 :\n",
        "    square_numbers = numbers**2\n",
        "    print(f'The square number of {numbers} is {square_numbers}')\n",
        "  else:\n",
        "     print(f' I am an odd number {numbers}. My master prohibits me from printing these odd number strange but okay') "
      ],
      "execution_count": null,
      "outputs": [
        {
          "output_type": "stream",
          "name": "stdout",
          "text": [
            "The square number of 1 is 1\n",
            " I am an odd number 2. My master prohibits me from printing these odd number strange but okay\n",
            " I am an odd number 4. My master prohibits me from printing these odd number strange but okay\n",
            " I am an odd number 6. My master prohibits me from printing these odd number strange but okay\n",
            "The square number of 11 is 121\n",
            " I am an odd number 14. My master prohibits me from printing these odd number strange but okay\n",
            "The square number of 17 is 289\n",
            " I am an odd number 20. My master prohibits me from printing these odd number strange but okay\n"
          ]
        }
      ]
    },
    {
      "cell_type": "markdown",
      "metadata": {
        "id": "PwVLaE8hvU0N"
      },
      "source": [
        "### <code>range()</code> function is a pretty useful function to get a sequence of numbers. It takes three arguments : start, stop, step"
      ]
    },
    {
      "cell_type": "code",
      "metadata": {
        "colab": {
          "base_uri": "https://localhost:8080/"
        },
        "id": "Fptdsc9yvmNK",
        "outputId": "0f6df76b-f336-4482-9f70-a227f50f952d"
      },
      "source": [
        "# Obviously integer is not iterable so that's why it is it will give list of string .\n",
        "list(range(0,10,2))"
      ],
      "execution_count": null,
      "outputs": [
        {
          "output_type": "execute_result",
          "data": {
            "text/plain": [
              "[0, 2, 4, 6, 8]"
            ]
          },
          "metadata": {},
          "execution_count": 26
        }
      ]
    },
    {
      "cell_type": "code",
      "metadata": {
        "colab": {
          "base_uri": "https://localhost:8080/"
        },
        "id": "GB8zRrtwzchn",
        "outputId": "4d704d20-e130-4202-eaaf-e55bda085b41"
      },
      "source": [
        "print(range(1,10,1))"
      ],
      "execution_count": null,
      "outputs": [
        {
          "output_type": "stream",
          "name": "stdout",
          "text": [
            "range(1, 10)\n"
          ]
        }
      ]
    },
    {
      "cell_type": "code",
      "metadata": {
        "id": "NeqaUMCpfr0u",
        "colab": {
          "base_uri": "https://localhost:8080/"
        },
        "outputId": "935ffe56-0f31-4361-a2bf-a0886310ff48"
      },
      "source": [
        "list(range(1,10))"
      ],
      "execution_count": null,
      "outputs": [
        {
          "output_type": "execute_result",
          "data": {
            "text/plain": [
              "[1, 2, 3, 4, 5, 6, 7, 8, 9]"
            ]
          },
          "metadata": {},
          "execution_count": 28
        }
      ]
    },
    {
      "cell_type": "code",
      "metadata": {
        "colab": {
          "base_uri": "https://localhost:8080/"
        },
        "id": "LqIwD-CBw0VG",
        "outputId": "a3f77226-7654-44bf-8f8c-22cb6252edde"
      },
      "source": [
        "type(range(1,10,1))"
      ],
      "execution_count": null,
      "outputs": [
        {
          "output_type": "execute_result",
          "data": {
            "text/plain": [
              "range"
            ]
          },
          "metadata": {},
          "execution_count": 29
        }
      ]
    },
    {
      "cell_type": "code",
      "metadata": {
        "colab": {
          "base_uri": "https://localhost:8080/"
        },
        "id": "zdbkumXs4d4N",
        "outputId": "3c456b04-504a-488b-d27d-eb78db597721"
      },
      "source": [
        "# Let us print the square of  natural no \n",
        "for number in range(0,10,2):\n",
        "  square_no =number**2\n",
        "  print(f'The square of {number} is {square_no}')\n"
      ],
      "execution_count": null,
      "outputs": [
        {
          "output_type": "stream",
          "name": "stdout",
          "text": [
            "The square of 0 is 0\n",
            "The square of 2 is 4\n",
            "The square of 4 is 16\n",
            "The square of 6 is 36\n",
            "The square of 8 is 64\n"
          ]
        }
      ]
    },
    {
      "cell_type": "markdown",
      "metadata": {
        "id": "XuFqZzAo5o8y"
      },
      "source": [
        "####<u> Write the code to print first 10 even natural no ?"
      ]
    },
    {
      "cell_type": "code",
      "metadata": {
        "colab": {
          "base_uri": "https://localhost:8080/"
        },
        "id": "CkEtQKPX5n_k",
        "outputId": "e08c1ae5-4cd1-4903-f9e2-15af25454c27"
      },
      "source": [
        "# Let us print first 10 even natural no  you can check whether this no is natural no \n",
        "for  number in range(0,21,2) :\n",
        "  print(number)\n"
      ],
      "execution_count": null,
      "outputs": [
        {
          "output_type": "stream",
          "name": "stdout",
          "text": [
            "0\n",
            "2\n",
            "4\n",
            "6\n",
            "8\n",
            "10\n",
            "12\n",
            "14\n",
            "16\n",
            "18\n",
            "20\n"
          ]
        }
      ]
    },
    {
      "cell_type": "markdown",
      "metadata": {
        "id": "ZXVYacDq6trw"
      },
      "source": [
        "#### <u> Write the code to print  square of first 10 even number ."
      ]
    },
    {
      "cell_type": "code",
      "metadata": {
        "colab": {
          "base_uri": "https://localhost:8080/"
        },
        "id": "5mXJyn5A61Ob",
        "outputId": "9b35ea3d-9c76-4e94-8dbb-96b1ec7a6d14"
      },
      "source": [
        "for number in range(0,21,2) :\n",
        "  square_number =number **2\n",
        "  print(f'The square of this {number} is {square_number}')"
      ],
      "execution_count": null,
      "outputs": [
        {
          "output_type": "stream",
          "name": "stdout",
          "text": [
            "The square of this 0 is 0\n",
            "The square of this 2 is 4\n",
            "The square of this 4 is 16\n",
            "The square of this 6 is 36\n",
            "The square of this 8 is 64\n",
            "The square of this 10 is 100\n",
            "The square of this 12 is 144\n",
            "The square of this 14 is 196\n",
            "The square of this 16 is 256\n",
            "The square of this 18 is 324\n",
            "The square of this 20 is 400\n"
          ]
        }
      ]
    },
    {
      "cell_type": "code",
      "metadata": {
        "colab": {
          "base_uri": "https://localhost:8080/"
        },
        "id": "ZyNAHP4J6Q-9",
        "outputId": "39367d56-a931-4d09-8e9c-0a1691efae56"
      },
      "source": [
        "list(range(0,21,2))"
      ],
      "execution_count": null,
      "outputs": [
        {
          "output_type": "execute_result",
          "data": {
            "text/plain": [
              "[0, 2, 4, 6, 8, 10, 12, 14, 16, 18, 20]"
            ]
          },
          "metadata": {},
          "execution_count": 33
        }
      ]
    },
    {
      "cell_type": "markdown",
      "metadata": {
        "id": "0e8ToZao9HSC"
      },
      "source": [
        "####<u> 2nd way of doing this "
      ]
    },
    {
      "cell_type": "code",
      "metadata": {
        "colab": {
          "base_uri": "https://localhost:8080/"
        },
        "id": "4W_CoFi06Nuh",
        "outputId": "3607ff80-5e00-4190-f15e-5a1c05695297"
      },
      "source": [
        "for number in range(2,21,2) :\n",
        "  if number%2 ==0 :\n",
        "    square_number =number**2\n",
        "    print(square_number)"
      ],
      "execution_count": null,
      "outputs": [
        {
          "output_type": "stream",
          "name": "stdout",
          "text": [
            "4\n",
            "16\n",
            "36\n",
            "64\n",
            "100\n",
            "144\n",
            "196\n",
            "256\n",
            "324\n",
            "400\n"
          ]
        }
      ]
    },
    {
      "cell_type": "markdown",
      "metadata": {
        "id": "gFrIRc1j-90e"
      },
      "source": [
        "###<u> Find the sum of first 10 natural no ?"
      ]
    },
    {
      "cell_type": "code",
      "metadata": {
        "id": "EG-lvQiU-fZE"
      },
      "source": [
        "i =list(range(0,10,1))"
      ],
      "execution_count": null,
      "outputs": []
    },
    {
      "cell_type": "code",
      "metadata": {
        "colab": {
          "base_uri": "https://localhost:8080/"
        },
        "id": "5HFPhiba_a5P",
        "outputId": "fb65639c-25d0-4c4f-b20f-ab10ceaebf05"
      },
      "source": [
        "print(i)\n",
        "len(i)"
      ],
      "execution_count": null,
      "outputs": [
        {
          "output_type": "stream",
          "name": "stdout",
          "text": [
            "[0, 1, 2, 3, 4, 5, 6, 7, 8, 9]\n"
          ]
        },
        {
          "output_type": "execute_result",
          "data": {
            "text/plain": [
              "10"
            ]
          },
          "metadata": {},
          "execution_count": 36
        }
      ]
    },
    {
      "cell_type": "code",
      "metadata": {
        "colab": {
          "base_uri": "https://localhost:8080/"
        },
        "id": "0xjD0r8B_n6G",
        "outputId": "4bb8da48-bbdf-4435-8633-a1bc41af6eee"
      },
      "source": [
        "for natural_no in i :\n",
        "  sum_no = sum(i)  \n",
        "print(sum_no)"
      ],
      "execution_count": null,
      "outputs": [
        {
          "output_type": "stream",
          "name": "stdout",
          "text": [
            "45\n"
          ]
        }
      ]
    },
    {
      "cell_type": "markdown",
      "metadata": {
        "id": "zI_rDBtYc5Sy"
      },
      "source": [
        "### <u> Example 5<u>\n",
        "#### Next suppose we wanted to find the sum of the squares of our numbers in the list"
      ]
    },
    {
      "cell_type": "code",
      "metadata": {
        "colab": {
          "base_uri": "https://localhost:8080/"
        },
        "id": "zw5J-88Vc61F",
        "outputId": "ce412d11-dbaf-4e5d-e15b-3822392e2b86"
      },
      "source": [
        "list_of_numbers = [1,2,4,6,11,14,17,20]\n",
        "print(list_of_numbers)"
      ],
      "execution_count": null,
      "outputs": [
        {
          "output_type": "stream",
          "name": "stdout",
          "text": [
            "[1, 2, 4, 6, 11, 14, 17, 20]\n"
          ]
        }
      ]
    },
    {
      "cell_type": "markdown",
      "metadata": {
        "id": "A0gAokzGgKR_"
      },
      "source": [
        "****<u> there is 2 way  either print function in for loop so that it will keep on adding until it exahaust the list or put print function() outside the loop so that it will give total result ."
      ]
    },
    {
      "cell_type": "code",
      "metadata": {
        "colab": {
          "base_uri": "https://localhost:8080/"
        },
        "id": "vX6ZY5dLdtM8",
        "outputId": "0f115f84-290c-4781-c205-96c01d16b3aa"
      },
      "source": [
        "# let us initialize the sum of square with 0 . This makes sense right\n",
        "sum_square = 0\n",
        "\n",
        "for number in list_of_numbers :\n",
        "  sum_square = sum_square + number**2 \n",
        "  print(sum_square)\n",
        "\n",
        "#  Now we have added the square of all number in our list \n",
        "#print(f'The sum of square of our list no is {sum_square}')\n"
      ],
      "execution_count": null,
      "outputs": [
        {
          "output_type": "stream",
          "name": "stdout",
          "text": [
            "1\n",
            "5\n",
            "21\n",
            "57\n",
            "178\n",
            "374\n",
            "663\n",
            "1063\n"
          ]
        }
      ]
    },
    {
      "cell_type": "markdown",
      "metadata": {
        "id": "HJcu8F8Cg27p"
      },
      "source": [
        "## **OR**"
      ]
    },
    {
      "cell_type": "code",
      "metadata": {
        "colab": {
          "base_uri": "https://localhost:8080/"
        },
        "id": "znZJet4ygHY3",
        "outputId": "693243ca-d54a-4411-af2a-7c31af2f21b1"
      },
      "source": [
        "# let us initialize the sum of square with 0 . This makes sense right\n",
        "sum_square = 0\n",
        "\n",
        "for number in list_of_numbers :\n",
        "  sum_square = sum_square + number**2 \n",
        " \n",
        "\n",
        "#  Now we have added the square of all number in our list \n",
        "print(f'The sum of square of our list no is {sum_square}')"
      ],
      "execution_count": null,
      "outputs": [
        {
          "output_type": "stream",
          "name": "stdout",
          "text": [
            "The sum of square of our list no is 1063\n"
          ]
        }
      ]
    },
    {
      "cell_type": "markdown",
      "metadata": {
        "id": "cISGfLXzj0K-"
      },
      "source": [
        "### Up till now, we have only implemented for loops for list objects. From the last week, we know that there are other objects in Python which are sequence of elements such as strings, tuples etc. Let us try and apply for loop to iterate over their elements.\n",
        "\n",
        "### <u> Example 6</u>\n",
        "##### We are given a sentence : \"I am the one who knocks!\""
      ]
    },
    {
      "cell_type": "code",
      "metadata": {
        "id": "_Ow2ElkQj2cQ"
      },
      "source": [
        "# Let us first quote the sentence in string variable \n",
        "heisenberg_quote ='I am the on who door knocks !'"
      ],
      "execution_count": null,
      "outputs": []
    },
    {
      "cell_type": "markdown",
      "metadata": {
        "id": "f2X_RsNDpDSP"
      },
      "source": [
        "####<u> The next step is to print all the characters which are seperated by whitespace .\n",
        "\n",
        "```\n",
        "# This is formatted as code\n",
        "```\n",
        "\n"
      ]
    },
    {
      "cell_type": "code",
      "metadata": {
        "colab": {
          "base_uri": "https://localhost:8080/"
        },
        "id": "ApxF7qdKon6J",
        "outputId": "370405d5-f459-44b6-ec3e-ff23119d9459"
      },
      "source": [
        "# Let's apply for loop to do the above task \n",
        "for index ,char in enumerate(heisenberg_quote)   :\n",
        "  print(f'The index is {index} and Character is {char}')\n"
      ],
      "execution_count": null,
      "outputs": [
        {
          "output_type": "stream",
          "name": "stdout",
          "text": [
            "The index is 0 and Character is I\n",
            "The index is 1 and Character is  \n",
            "The index is 2 and Character is a\n",
            "The index is 3 and Character is m\n",
            "The index is 4 and Character is  \n",
            "The index is 5 and Character is t\n",
            "The index is 6 and Character is h\n",
            "The index is 7 and Character is e\n",
            "The index is 8 and Character is  \n",
            "The index is 9 and Character is o\n",
            "The index is 10 and Character is n\n",
            "The index is 11 and Character is  \n",
            "The index is 12 and Character is w\n",
            "The index is 13 and Character is h\n",
            "The index is 14 and Character is o\n",
            "The index is 15 and Character is  \n",
            "The index is 16 and Character is d\n",
            "The index is 17 and Character is o\n",
            "The index is 18 and Character is o\n",
            "The index is 19 and Character is r\n",
            "The index is 20 and Character is  \n",
            "The index is 21 and Character is k\n",
            "The index is 22 and Character is n\n",
            "The index is 23 and Character is o\n",
            "The index is 24 and Character is c\n",
            "The index is 25 and Character is k\n",
            "The index is 26 and Character is s\n",
            "The index is 27 and Character is  \n",
            "The index is 28 and Character is !\n"
          ]
        }
      ]
    },
    {
      "cell_type": "markdown",
      "metadata": {
        "id": "TZESdIYiuHdm"
      },
      "source": [
        "### We saw how we can iterate through each element of our string. What if you wanted to iterate through each word of the sentence and not each element. There is an important method available with strings known as <code>split()</code> method. \n",
        "\n",
        "#### This method returns the list of words separated by the character we want to separate them by.\n",
        "\n",
        "### <u> Example 7</u>"
      ]
    },
    {
      "cell_type": "code",
      "metadata": {
        "id": "nPweeAuZp_rW"
      },
      "source": [
        "heisenberg_quote = \"It ceases to exist without me. No, you clearly don't know who you're talking to, so let me clue you in. I am not in danger, Skyler. I am the danger.\""
      ],
      "execution_count": null,
      "outputs": []
    },
    {
      "cell_type": "code",
      "metadata": {
        "colab": {
          "base_uri": "https://localhost:8080/"
        },
        "id": "urlh8OVDvQ0a",
        "outputId": "083a4b60-a5a8-458d-98ec-09aac78e9091"
      },
      "source": [
        "words_by_walter =heisenberg_quote.split( )\n",
        "print(words_by_walter)"
      ],
      "execution_count": null,
      "outputs": [
        {
          "output_type": "stream",
          "name": "stdout",
          "text": [
            "['It', 'ceases', 'to', 'exist', 'without', 'me.', 'No,', 'you', 'clearly', \"don't\", 'know', 'who', \"you're\", 'talking', 'to,', 'so', 'let', 'me', 'clue', 'you', 'in.', 'I', 'am', 'not', 'in', 'danger,', 'Skyler.', 'I', 'am', 'the', 'danger.']\n"
          ]
        }
      ]
    },
    {
      "cell_type": "code",
      "metadata": {
        "colab": {
          "base_uri": "https://localhost:8080/"
        },
        "id": "yPI0pmKGuUXs",
        "outputId": "26c24f77-614b-4722-96ea-131bfc765168"
      },
      "source": [
        "for word  in words_by_walter :\n",
        "  if word  not in ['I','you']:\n",
        "    print(f'The word is {word}')"
      ],
      "execution_count": null,
      "outputs": [
        {
          "output_type": "stream",
          "name": "stdout",
          "text": [
            "The word is It\n",
            "The word is ceases\n",
            "The word is to\n",
            "The word is exist\n",
            "The word is without\n",
            "The word is me.\n",
            "The word is No,\n",
            "The word is clearly\n",
            "The word is don't\n",
            "The word is know\n",
            "The word is who\n",
            "The word is you're\n",
            "The word is talking\n",
            "The word is to,\n",
            "The word is so\n",
            "The word is let\n",
            "The word is me\n",
            "The word is clue\n",
            "The word is in.\n",
            "The word is am\n",
            "The word is not\n",
            "The word is in\n",
            "The word is danger,\n",
            "The word is Skyler.\n",
            "The word is am\n",
            "The word is the\n",
            "The word is danger.\n"
          ]
        }
      ]
    },
    {
      "cell_type": "markdown",
      "metadata": {
        "id": "5td2I3vazwGs"
      },
      "source": [
        "### We can also iterate through each element of tuple as well. \n",
        "\n",
        "### <u> Example 8 </u>"
      ]
    },
    {
      "cell_type": "code",
      "metadata": {
        "id": "FGA6G02ezt8D"
      },
      "source": [
        "# Suppose we have tuple of days \n",
        "days = ('Monday' ,'Tuesday' ,'Wednesday' ,'Thursday' ,'Friday','Saturday','Sunday')"
      ],
      "execution_count": null,
      "outputs": []
    },
    {
      "cell_type": "code",
      "metadata": {
        "colab": {
          "base_uri": "https://localhost:8080/"
        },
        "id": "4DuXHn6yxfmr",
        "outputId": "8b44f22a-4a7d-4480-ecef-b66344a0a562"
      },
      "source": [
        "for day in days :\n",
        "  print(f'Today is {day}')"
      ],
      "execution_count": null,
      "outputs": [
        {
          "output_type": "stream",
          "name": "stdout",
          "text": [
            "Today is Monday\n",
            "Today is Tuesday\n",
            "Today is Wednesday\n",
            "Today is Thursday\n",
            "Today is Friday\n",
            "Today is Saturday\n",
            "Today is Sunday\n"
          ]
        }
      ]
    },
    {
      "cell_type": "markdown",
      "metadata": {
        "id": "oqlQ-Q_R3ciG"
      },
      "source": [
        "Tuples have a special quality when it comes to for loops. If you are iterating through a sequence that contains tuples, the item can actually be the tuple itself, this is an example of tuple unpacking. During the for loop we will be unpacking the tuple inside of a sequence and we can access the individual items inside that tuple! ."
      ]
    },
    {
      "cell_type": "markdown",
      "metadata": {
        "id": "7FTuOhww3lhD"
      },
      "source": [
        "#### Remember from earlier we had a list of tuples of country-city\n",
        "\n",
        "### <u> Example 9</u>"
      ]
    },
    {
      "cell_type": "code",
      "metadata": {
        "id": "NaB3UcYT0Wel"
      },
      "source": [
        "country_city_river_list = [('India','New Delhi','Ganga'),('Australia','Canberra','Rovers'),('United States','Washington DC','Missouri'),('England','London','Thames')]"
      ],
      "execution_count": null,
      "outputs": []
    },
    {
      "cell_type": "code",
      "metadata": {
        "colab": {
          "base_uri": "https://localhost:8080/"
        },
        "id": "4i1TUJWS7283",
        "outputId": "37250db7-0253-429e-eefd-4358c0c94fa2"
      },
      "source": [
        "#equate no of iterator = no of elements present in each tuple here is is 3 elements in tuple . \n",
        "for  country ,city ,river in country_city_river_list :\n",
        "  #print(country,city,river)\n",
        "  print(f'The capital of {country} is {city} and The main river is {river}')\n",
        "  "
      ],
      "execution_count": null,
      "outputs": [
        {
          "output_type": "stream",
          "name": "stdout",
          "text": [
            "The capital of India is New Delhi and The main river is Ganga\n",
            "The capital of Australia is Canberra and The main river is Rovers\n",
            "The capital of United States is Washington DC and The main river is Missouri\n",
            "The capital of England is London and The main river is Thames\n"
          ]
        }
      ]
    },
    {
      "cell_type": "markdown",
      "metadata": {
        "id": "IHPSqPDyBW4N"
      },
      "source": [
        "### Finally we can iterate through the items of a dictionary as well. \n",
        "\n",
        "### <u> Example 10 </u>"
      ]
    },
    {
      "cell_type": "code",
      "metadata": {
        "colab": {
          "base_uri": "https://localhost:8080/"
        },
        "id": "OkFeT7ZMBYyl",
        "outputId": "12b161dd-4d52-43ba-b289-ec653e0aa8a1"
      },
      "source": [
        "# Let's convert list of tuples to a dictionary \n",
        "country_city_list = [('India','New Delhi'),('Australia','Canberra'),('United States','Washington DC'),('England','London')]\n",
        "print(country_city_list)"
      ],
      "execution_count": null,
      "outputs": [
        {
          "output_type": "stream",
          "name": "stdout",
          "text": [
            "[('India', 'New Delhi'), ('Australia', 'Canberra'), ('United States', 'Washington DC'), ('England', 'London')]\n"
          ]
        }
      ]
    },
    {
      "cell_type": "code",
      "metadata": {
        "colab": {
          "base_uri": "https://localhost:8080/"
        },
        "id": "suHiuDLmCizI",
        "outputId": "c79aafe0-b3c5-4eba-f079-96e8ced0c7d7"
      },
      "source": [
        "# convert the same in dictionary \n",
        "country_city_dict =dict(country_city_list)\n",
        "print(country_city_dict)"
      ],
      "execution_count": null,
      "outputs": [
        {
          "output_type": "stream",
          "name": "stdout",
          "text": [
            "{'India': 'New Delhi', 'Australia': 'Canberra', 'United States': 'Washington DC', 'England': 'London'}\n"
          ]
        }
      ]
    },
    {
      "cell_type": "markdown",
      "metadata": {
        "id": "nNsa8PyzNAg9"
      },
      "source": [
        "####<u> There is 2 way to find items in (keys , value ) from dict \n",
        " ### 1. Is through for loop \n",
        " ### 2. Is through item  method "
      ]
    },
    {
      "cell_type": "code",
      "metadata": {
        "colab": {
          "base_uri": "https://localhost:8080/"
        },
        "id": "ukNcIuOtEF_5",
        "outputId": "51cc0146-55c6-4793-ece0-ecd87cd0f036"
      },
      "source": [
        "# for items in country_city_dict\n",
        "for items in country_city_dict :\n",
        "  print(items)\n",
        "        "
      ],
      "execution_count": null,
      "outputs": [
        {
          "output_type": "stream",
          "name": "stdout",
          "text": [
            "India\n",
            "Australia\n",
            "United States\n",
            "England\n"
          ]
        }
      ]
    },
    {
      "cell_type": "code",
      "metadata": {
        "colab": {
          "base_uri": "https://localhost:8080/"
        },
        "id": "dFtvbtArNzk8",
        "outputId": "03ad5832-e076-4b3d-b1b5-3d02226ba793"
      },
      "source": [
        "# OR\n",
        "print(country_city_dict.items())"
      ],
      "execution_count": null,
      "outputs": [
        {
          "output_type": "stream",
          "name": "stdout",
          "text": [
            "dict_items([('India', 'New Delhi'), ('Australia', 'Canberra'), ('United States', 'Washington DC'), ('England', 'London')])\n"
          ]
        }
      ]
    },
    {
      "cell_type": "code",
      "metadata": {
        "colab": {
          "base_uri": "https://localhost:8080/"
        },
        "id": "q_hkfv_eOKT-",
        "outputId": "5d1b3770-44fa-423c-d2fb-e60bac3ebc1e"
      },
      "source": [
        "# We can use list function in order to remove dict_items () .\n",
        "print(list(country_city_dict.items()))"
      ],
      "execution_count": null,
      "outputs": [
        {
          "output_type": "stream",
          "name": "stdout",
          "text": [
            "[('India', 'New Delhi'), ('Australia', 'Canberra'), ('United States', 'Washington DC'), ('England', 'London')]\n"
          ]
        }
      ]
    },
    {
      "cell_type": "code",
      "metadata": {
        "colab": {
          "base_uri": "https://localhost:8080/"
        },
        "id": "uKF5QW2xPBt9",
        "outputId": "3db08c12-2f67-4e63-adc8-91e99521d04e"
      },
      "source": [
        "# You can find out the keys \n",
        "print(country_city_dict.keys())\n",
        "# use list function to remove dict_items\n",
        "print(list(country_city_dict.keys()))"
      ],
      "execution_count": null,
      "outputs": [
        {
          "output_type": "stream",
          "name": "stdout",
          "text": [
            "dict_keys(['India', 'Australia', 'United States', 'England'])\n",
            "['India', 'Australia', 'United States', 'England']\n"
          ]
        }
      ]
    },
    {
      "cell_type": "code",
      "metadata": {
        "colab": {
          "base_uri": "https://localhost:8080/"
        },
        "id": "YcH9ggHkQCUr",
        "outputId": "637d9b84-2ad6-4f79-910f-221fc12b0441"
      },
      "source": [
        "#  You can use find out the values \n",
        "print(country_city_dict.values())\n",
        "# We can remove dict_values by using list function .\n",
        "print(list(country_city_dict.values()))"
      ],
      "execution_count": null,
      "outputs": [
        {
          "output_type": "stream",
          "name": "stdout",
          "text": [
            "dict_values(['New Delhi', 'Canberra', 'Washington DC', 'London'])\n",
            "['New Delhi', 'Canberra', 'Washington DC', 'London']\n"
          ]
        }
      ]
    },
    {
      "cell_type": "markdown",
      "metadata": {
        "id": "zzeZcM0jRHk-"
      },
      "source": [
        "#### And of course you can iterate through the list of keys and list of values independently depending upon the scenario"
      ]
    },
    {
      "cell_type": "markdown",
      "metadata": {
        "id": "nq-rUJ4VRV4u"
      },
      "source": [
        "###<u> We can iterate  through the set  too let's see  how "
      ]
    },
    {
      "cell_type": "code",
      "metadata": {
        "colab": {
          "base_uri": "https://localhost:8080/"
        },
        "id": "tc93pFw9QQRO",
        "outputId": "fb99bd57-09f6-44ba-ccc8-adfc2298df0e"
      },
      "source": [
        "for elem in {1,2,3,4,5} :\n",
        "  print(elem)"
      ],
      "execution_count": null,
      "outputs": [
        {
          "output_type": "stream",
          "name": "stdout",
          "text": [
            "1\n",
            "2\n",
            "3\n",
            "4\n",
            "5\n"
          ]
        }
      ]
    },
    {
      "cell_type": "code",
      "metadata": {
        "colab": {
          "base_uri": "https://localhost:8080/",
          "height": 201
        },
        "id": "pkOQQSrsRrJE",
        "outputId": "66c85be8-9f2c-42d5-bd4f-b2b10cb55ece"
      },
      "source": [
        "### No because sets has no index \n",
        "for index, char in enumerate(elem):\n",
        "  print(f'{index} ,{char}')"
      ],
      "execution_count": null,
      "outputs": [
        {
          "output_type": "error",
          "ename": "TypeError",
          "evalue": "ignored",
          "traceback": [
            "\u001b[0;31m---------------------------------------------------------------------------\u001b[0m",
            "\u001b[0;31mTypeError\u001b[0m                                 Traceback (most recent call last)",
            "\u001b[0;32m<ipython-input-59-c817a1eff544>\u001b[0m in \u001b[0;36m<module>\u001b[0;34m()\u001b[0m\n\u001b[1;32m      1\u001b[0m \u001b[0;31m### No because sets has no index\u001b[0m\u001b[0;34m\u001b[0m\u001b[0;34m\u001b[0m\u001b[0;34m\u001b[0m\u001b[0m\n\u001b[0;32m----> 2\u001b[0;31m \u001b[0;32mfor\u001b[0m \u001b[0mindex\u001b[0m\u001b[0;34m,\u001b[0m \u001b[0mchar\u001b[0m \u001b[0;32min\u001b[0m \u001b[0menumerate\u001b[0m\u001b[0;34m(\u001b[0m\u001b[0melem\u001b[0m\u001b[0;34m)\u001b[0m\u001b[0;34m:\u001b[0m\u001b[0;34m\u001b[0m\u001b[0;34m\u001b[0m\u001b[0m\n\u001b[0m\u001b[1;32m      3\u001b[0m   \u001b[0mprint\u001b[0m\u001b[0;34m(\u001b[0m\u001b[0;34mf'{index} ,{char}'\u001b[0m\u001b[0;34m)\u001b[0m\u001b[0;34m\u001b[0m\u001b[0;34m\u001b[0m\u001b[0m\n",
            "\u001b[0;31mTypeError\u001b[0m: 'int' object is not iterable"
          ]
        }
      ]
    },
    {
      "cell_type": "markdown",
      "metadata": {
        "id": "x4wpt_bGZHaW"
      },
      "source": [
        "# <u>While Loops </u>\n",
        "\n",
        "### The <code>while</code> statement in Python is one of the most general ways to perform iteration. A <code>while</code> statement will repeatedly execute a single statement or group of statements as long as the condition is true. The reason it is called a 'loop' is because the code statements are looped through over and over again until the condition is no longer met.\n",
        "\n",
        "### The general format of a while loop is:\n",
        "\n",
        "    while test:\n",
        "        code statements\n",
        "    else:\n",
        "        final code statements\n",
        "\n",
        "\n",
        "\n",
        "        In while loops we have to do  3 steps \n",
        "        1. Initialization \n",
        "        2. Check Condition \n",
        "        3. Check increment / decrement \n",
        "\n",
        "    \n",
        "\n",
        "### Let’s look at a few simple <code>while</code> loops in action."
      ]
    },
    {
      "cell_type": "code",
      "metadata": {
        "colab": {
          "base_uri": "https://localhost:8080/"
        },
        "id": "C9DfWsxEZvpN",
        "outputId": "9c3bc037-b069-47ff-e6dd-42fa8fef5f6a"
      },
      "source": [
        "x = 0\n",
        "while x < 10 :\n",
        "  print(f'x is currently {x}')\n",
        "  print(' x is less than 10 adding 1 to x')\n",
        "  x =x+1\n",
        "# OR\n",
        "# x=x+1  \n",
        "\n"
      ],
      "execution_count": null,
      "outputs": [
        {
          "output_type": "stream",
          "name": "stdout",
          "text": [
            "x is currently 0\n",
            " x is less than 10 adding 1 to x\n",
            "x is currently 1\n",
            " x is less than 10 adding 1 to x\n",
            "x is currently 2\n",
            " x is less than 10 adding 1 to x\n",
            "x is currently 3\n",
            " x is less than 10 adding 1 to x\n",
            "x is currently 4\n",
            " x is less than 10 adding 1 to x\n",
            "x is currently 5\n",
            " x is less than 10 adding 1 to x\n",
            "x is currently 6\n",
            " x is less than 10 adding 1 to x\n",
            "x is currently 7\n",
            " x is less than 10 adding 1 to x\n",
            "x is currently 8\n",
            " x is less than 10 adding 1 to x\n",
            "x is currently 9\n",
            " x is less than 10 adding 1 to x\n"
          ]
        }
      ]
    },
    {
      "cell_type": "markdown",
      "metadata": {
        "id": "HeMeSL1wcQGS"
      },
      "source": [
        "### Notice how many times the print statements occurred and how the <code>while</code> loop kept going until the False condition was met, which occurred once x==10. It's important to note that once this occurred the code stopped. Let's see how we could add an <code>else</code> statement:"
      ]
    },
    {
      "cell_type": "code",
      "metadata": {
        "colab": {
          "base_uri": "https://localhost:8080/"
        },
        "id": "MlgCi_Iwc_uw",
        "outputId": "95a75fb2-7124-462e-b043-c74b1b6aab4d"
      },
      "source": [
        "x = 0\n",
        "while  x<5 :\n",
        "  print(f'x is currently {x}' )\n",
        "  print('x is less than 5 adding one element to x ')\n",
        "  x =x+1\n",
        "   \n",
        "\n",
        "else :\n",
        "    print ('\\n')\n",
        "    print('All Done')\n",
        " \n"
      ],
      "execution_count": null,
      "outputs": [
        {
          "output_type": "stream",
          "name": "stdout",
          "text": [
            "x is currently 0\n",
            "x is less than 5 adding one element to x \n",
            "x is currently 1\n",
            "x is less than 5 adding one element to x \n",
            "x is currently 2\n",
            "x is less than 5 adding one element to x \n",
            "x is currently 3\n",
            "x is less than 5 adding one element to x \n",
            "x is currently 4\n",
            "x is less than 5 adding one element to x \n",
            "\n",
            "\n",
            "All Done\n"
          ]
        }
      ]
    },
    {
      "cell_type": "markdown",
      "metadata": {
        "id": "FqAzgXO5krRj"
      },
      "source": [
        "## break, continue, pass\n",
        "\n",
        "### We can use <code>break</code>, <code>continue</code>, and <code>pass</code> statements in our loops to add additional functionality for various cases. The three statements are defined by:\n",
        "\n",
        "    break: Breaks out of the current closest enclosing loop.\n",
        "    continue: Goes to the top of the closest enclosing loop.\n",
        "    pass: Does nothing at all.\n",
        "    \n",
        "    \n",
        "### Thinking about <code>break</code> and <code>continue</code> statements, the general format of the <code>while</code> loop looks like this:\n",
        "\n",
        "    while test: \n",
        "        code statement\n",
        "        if test: \n",
        "            break\n",
        "        if test: \n",
        "            continue \n",
        "    else:\n",
        "\n",
        "### <code>break</code> and <code>continue</code> statements can appear anywhere inside the loop’s body, but we will usually put them further nested in conjunction with an <code>if</code> statement to perform an action based on some condition.\n"
      ]
    },
    {
      "cell_type": "code",
      "metadata": {
        "colab": {
          "base_uri": "https://localhost:8080/"
        },
        "id": "E5j0ur4-kszb",
        "outputId": "9f8e24e9-cef4-48ba-fbfc-deecc9c6c2dc"
      },
      "source": [
        "x  = 0\n",
        "while  x < 10 :\n",
        "  print(f'x is currently {x} ')\n",
        "  print(f'x is less than 10 adding 1 element to x ')\n",
        "  x=x+1\n",
        "  if x==3 :\n",
        "    print('x==3')\n",
        "    break\n",
        "  else: \n",
        "    print('continuing')\n",
        "    continue\n",
        "\n"
      ],
      "execution_count": null,
      "outputs": [
        {
          "output_type": "stream",
          "name": "stdout",
          "text": [
            "x is currently 0 \n",
            "x is less than 10 adding 1 element to x \n",
            "continuing\n",
            "x is currently 1 \n",
            "x is less than 10 adding 1 element to x \n",
            "continuing\n",
            "x is currently 2 \n",
            "x is less than 10 adding 1 element to x \n",
            "x==3\n"
          ]
        }
      ]
    },
    {
      "cell_type": "markdown",
      "metadata": {
        "id": "oOVo8GzWyG7m"
      },
      "source": [
        ""
      ]
    },
    {
      "cell_type": "markdown",
      "metadata": {
        "id": "QXy5MbsVsqqk"
      },
      "source": [
        "While Loop "
      ]
    },
    {
      "cell_type": "markdown",
      "metadata": {
        "id": "l3s6SprWs1ta"
      },
      "source": [
        "Q1. Write a program to print the following using while loop\n",
        "\n",
        "a. First 10 Even numbers\n",
        "\n",
        "b. First 10 Odd numbers\n",
        "\n",
        "c. First 10 Natural numbers\n",
        "\n",
        "d. First 10 Whole numbers\n",
        "\n",
        "Show Answer"
      ]
    },
    {
      "cell_type": "code",
      "metadata": {
        "id": "b_aHMKZVywFb",
        "colab": {
          "base_uri": "https://localhost:8080/"
        },
        "outputId": "b46d719b-7a78-4ae2-b547-bd559b676ba6"
      },
      "source": [
        "# a first 10 even numbers \n",
        "x=2\n",
        "while x<=20 :\n",
        "  print(x)\n",
        "  x=x+2\n",
        "  \n",
        "  \n"
      ],
      "execution_count": null,
      "outputs": [
        {
          "output_type": "stream",
          "name": "stdout",
          "text": [
            "2\n",
            "4\n",
            "6\n",
            "8\n",
            "10\n",
            "12\n",
            "14\n",
            "16\n",
            "18\n",
            "20\n"
          ]
        }
      ]
    },
    {
      "cell_type": "code",
      "metadata": {
        "colab": {
          "base_uri": "https://localhost:8080/"
        },
        "id": "Bv6iBxeMtLhx",
        "outputId": "badc6e17-8b2d-4b53-afb8-fca9aaed5a81"
      },
      "source": [
        "#b first 10 odd numbers \n",
        "x=1\n",
        "while x<=20 :\n",
        "  print(x)\n",
        "  x=x+2\n",
        "  \n",
        "\n"
      ],
      "execution_count": null,
      "outputs": [
        {
          "output_type": "stream",
          "name": "stdout",
          "text": [
            "1\n",
            "3\n",
            "5\n",
            "7\n",
            "9\n",
            "11\n",
            "13\n",
            "15\n",
            "17\n",
            "19\n"
          ]
        }
      ]
    },
    {
      "cell_type": "code",
      "metadata": {
        "colab": {
          "base_uri": "https://localhost:8080/"
        },
        "id": "GZTTcSjOwdX0",
        "outputId": "4d7b1f0c-d8b1-401b-d892-59091ab3b157"
      },
      "source": [
        "#c first 10 natural numbers \n",
        "x=1\n",
        "while x<=20:\n",
        "  print(x)\n",
        "  x=x+1"
      ],
      "execution_count": null,
      "outputs": [
        {
          "output_type": "stream",
          "name": "stdout",
          "text": [
            "1\n",
            "2\n",
            "3\n",
            "4\n",
            "5\n",
            "6\n",
            "7\n",
            "8\n",
            "9\n",
            "10\n",
            "11\n",
            "12\n",
            "13\n",
            "14\n",
            "15\n",
            "16\n",
            "17\n",
            "18\n",
            "19\n",
            "20\n"
          ]
        }
      ]
    },
    {
      "cell_type": "code",
      "metadata": {
        "colab": {
          "base_uri": "https://localhost:8080/"
        },
        "id": "Ol-8Oi5XxZry",
        "outputId": "46b7bf2b-8669-4fab-947c-db9ca51afdb8"
      },
      "source": [
        "#d first 10 whole numbers \n",
        "x=0\n",
        "while x<=20 :\n",
        "  print(x)\n",
        "  x=x+1"
      ],
      "execution_count": null,
      "outputs": [
        {
          "output_type": "stream",
          "name": "stdout",
          "text": [
            "0\n",
            "1\n",
            "2\n",
            "3\n",
            "4\n",
            "5\n",
            "6\n",
            "7\n",
            "8\n",
            "9\n",
            "10\n",
            "11\n",
            "12\n",
            "13\n",
            "14\n",
            "15\n",
            "16\n",
            "17\n",
            "18\n",
            "19\n",
            "20\n"
          ]
        }
      ]
    },
    {
      "cell_type": "markdown",
      "metadata": {
        "id": "PgjLkqMhq3ak"
      },
      "source": [
        "\n",
        "\n",
        "\n",
        "#### After these brief but simple examples, you should feel comfortable using <code>while</code> statements in your code.\n",
        "\n",
        "#### **A word of caution however! It is possible to create an infinitely running loop with <code>while</code> statements.**\n",
        "After these brief but simple examples, you should feel comfortable using while statements in your code.\n",
        "A word of caution however! It is possible to create an infinitely running loop with while statements."
      ]
    },
    {
      "cell_type": "code",
      "metadata": {
        "colab": {
          "base_uri": "https://localhost:8080/"
        },
        "id": "Zx1gnXrcnP5Q",
        "outputId": "6bddae1f-c24a-419e-9147-4cc40dfea515"
      },
      "source": [
        "x= ['ab' ,'cd']\n",
        "for i in x :\n",
        "  i.upper()\n",
        "  print(x)"
      ],
      "execution_count": null,
      "outputs": [
        {
          "output_type": "stream",
          "name": "stdout",
          "text": [
            "['ab', 'cd']\n",
            "['ab', 'cd']\n"
          ]
        }
      ]
    },
    {
      "cell_type": "code",
      "metadata": {
        "colab": {
          "base_uri": "https://localhost:8080/"
        },
        "id": "xwUhh_ZC3Vjc",
        "outputId": "a2514265-412b-4694-bb43-4a689f0ab68e"
      },
      "source": [
        "x =0 \n",
        "while x<100 :\n",
        "  x=x+2\n",
        "print(x)  "
      ],
      "execution_count": null,
      "outputs": [
        {
          "output_type": "stream",
          "name": "stdout",
          "text": [
            "100\n"
          ]
        }
      ]
    },
    {
      "cell_type": "markdown",
      "metadata": {
        "id": "N75E70uX92Jm"
      },
      "source": [
        "8. Write a program to print table of a number entered from the user"
      ]
    },
    {
      "cell_type": "code",
      "metadata": {
        "id": "Jv_lW2PQ47h6",
        "colab": {
          "base_uri": "https://localhost:8080/"
        },
        "outputId": "27df60a4-bf36-4108-9f6b-6a56ae7701f7"
      },
      "source": [
        "print('number\\t','multiple\\t','multiplication\\t\\t\\t')\n",
        "table_no =int(input(\"Enter any number \"))\n",
        "for i in  range(1,11,1) :\n",
        "  print(f'{table_no}\\t\\t {i}\\t\\t{table_no*i}')\n"
      ],
      "execution_count": null,
      "outputs": [
        {
          "output_type": "stream",
          "name": "stdout",
          "text": [
            "number\t multiple\t multiplication\t\t\t\n",
            "Enter any number 45\n",
            "45\t\t 1\t\t45\n",
            "45\t\t 2\t\t90\n",
            "45\t\t 3\t\t135\n",
            "45\t\t 4\t\t180\n",
            "45\t\t 5\t\t225\n",
            "45\t\t 6\t\t270\n",
            "45\t\t 7\t\t315\n",
            "45\t\t 8\t\t360\n",
            "45\t\t 9\t\t405\n",
            "45\t\t 10\t\t450\n"
          ]
        }
      ]
    },
    {
      "cell_type": "markdown",
      "metadata": {
        "id": "iNSmykVjWU4Y"
      },
      "source": [
        "11. Write a program to find the sum of the digits of a number accepted from the user."
      ]
    },
    {
      "cell_type": "code",
      "metadata": {
        "id": "OOi3E35U956y"
      },
      "source": [
        "# whenever we use input function we need to use iterable (in the form of integer)"
      ],
      "execution_count": null,
      "outputs": []
    },
    {
      "cell_type": "code",
      "metadata": {
        "id": "yTC0HfvIsbAy",
        "colab": {
          "base_uri": "https://localhost:8080/"
        },
        "outputId": "15d8fb7b-288d-4757-c36f-30f269e8cfd2"
      },
      "source": [
        "sum_of_no =(input(\"Enter any no  \"))"
      ],
      "execution_count": null,
      "outputs": [
        {
          "name": "stdout",
          "output_type": "stream",
          "text": [
            "Enter any no  23\n"
          ]
        }
      ]
    },
    {
      "cell_type": "code",
      "metadata": {
        "id": "mKr7odS11m6p",
        "colab": {
          "base_uri": "https://localhost:8080/"
        },
        "outputId": "07901470-b1bc-4e2d-a86b-ffd0380cc25d"
      },
      "source": [
        "f = 0\n",
        "for i in sum_of_no :\n",
        "  f=f+int(i)\n",
        "print(f'The sum of no is : {f}')"
      ],
      "execution_count": null,
      "outputs": [
        {
          "output_type": "stream",
          "name": "stdout",
          "text": [
            "The sum of no is : 5\n"
          ]
        }
      ]
    },
    {
      "cell_type": "markdown",
      "metadata": {
        "id": "vtTjzYmRGmlT"
      },
      "source": [
        "Q11. Write a program to find the sum of the digits of a number accepted from the user."
      ]
    },
    {
      "cell_type": "code",
      "metadata": {
        "id": "srJC-lumGF-y"
      },
      "source": [
        ""
      ],
      "execution_count": null,
      "outputs": []
    },
    {
      "cell_type": "code",
      "metadata": {
        "colab": {
          "base_uri": "https://localhost:8080/"
        },
        "id": "8uO_9N9IibG2",
        "outputId": "90d864d8-ec07-4111-f0f7-3968c3d5b5a1"
      },
      "source": [
        "# 1st alternative \n",
        "num1 =(input(\"Enter any No\" ''))"
      ],
      "execution_count": null,
      "outputs": [
        {
          "name": "stdout",
          "output_type": "stream",
          "text": [
            "Enter any No33\n"
          ]
        }
      ]
    },
    {
      "cell_type": "code",
      "metadata": {
        "colab": {
          "base_uri": "https://localhost:8080/"
        },
        "id": "sNmVZ5ODimcS",
        "outputId": "5ff1ee56-6fdb-4d2f-a759-d3770cf501c9"
      },
      "source": [
        "f=0\n",
        "for i in num1 :\n",
        "  type(i)\n",
        "  f=f+int(i)\n",
        "  print(f)"
      ],
      "execution_count": null,
      "outputs": [
        {
          "output_type": "stream",
          "name": "stdout",
          "text": [
            "3\n",
            "6\n"
          ]
        }
      ]
    },
    {
      "cell_type": "code",
      "metadata": {
        "id": "H5O8Rxr2t7Yz"
      },
      "source": [
        ""
      ],
      "execution_count": null,
      "outputs": []
    },
    {
      "cell_type": "code",
      "metadata": {
        "id": "Du3QLR43iR_e"
      },
      "source": [
        "# 2nd alternative \n",
        "num2 =int(input(\"Enter any no\" ''))"
      ],
      "execution_count": null,
      "outputs": []
    },
    {
      "cell_type": "code",
      "metadata": {
        "id": "E5DBVU8Gxm3F"
      },
      "source": [
        "a=0\n",
        "b=0\n",
        "\n",
        "len2 =(str(num2))\n",
        "type(len2)\n",
        "      "
      ],
      "execution_count": null,
      "outputs": []
    },
    {
      "cell_type": "code",
      "metadata": {
        "id": "VDqP1gOFxxtO"
      },
      "source": [
        "for i in len2 :\n",
        "  a=num2%10\n",
        "  print(a)\n",
        "  b=num2//10\n",
        "  c=b+a\n",
        "  print(f'The sum of no is {c}')"
      ],
      "execution_count": null,
      "outputs": []
    },
    {
      "cell_type": "markdown",
      "metadata": {
        "id": "vfuTbFIA7lTO"
      },
      "source": [
        ""
      ]
    },
    {
      "cell_type": "markdown",
      "metadata": {
        "id": "TBrURWIi8jVS"
      },
      "source": [
        "Q13. Write a program to reverse the number accepted from user."
      ]
    },
    {
      "cell_type": "code",
      "metadata": {
        "id": "2g9fEKBLz3Ov"
      },
      "source": [
        ""
      ],
      "execution_count": null,
      "outputs": []
    },
    {
      "cell_type": "code",
      "metadata": {
        "id": "2ADq-zx78QSk"
      },
      "source": [
        "# 1st alternative\n",
        "num4 =input(\"Enter any no \"' ')"
      ],
      "execution_count": null,
      "outputs": []
    },
    {
      "cell_type": "code",
      "metadata": {
        "id": "rUf4c3Zz8tF5"
      },
      "source": [
        "type(num4)\n"
      ],
      "execution_count": null,
      "outputs": []
    },
    {
      "cell_type": "code",
      "metadata": {
        "id": "ODZ-0X8i85ry"
      },
      "source": [
        "print(num4[::-1])\n",
        "  \n"
      ],
      "execution_count": null,
      "outputs": []
    },
    {
      "cell_type": "code",
      "metadata": {
        "id": "z8XId_uH9iFK"
      },
      "source": [
        "# 2nd alternative\n",
        "num0 =int(input(\"Enter any no\" ''))"
      ],
      "execution_count": null,
      "outputs": []
    },
    {
      "cell_type": "code",
      "metadata": {
        "id": "RN6g-buoCmi8"
      },
      "source": [
        "a=0\n",
        "b=0\n",
        "c=0\n",
        "\n",
        "len3 = str(num0)"
      ],
      "execution_count": null,
      "outputs": []
    },
    {
      "cell_type": "code",
      "metadata": {
        "id": "i78AMhPoCzqR"
      },
      "source": [
        "for i in len3 :\n",
        "  a=num0%10\n",
        "  b=num0//10\n",
        "  c=f'({a}{b})'\n",
        "  print(c)"
      ],
      "execution_count": null,
      "outputs": []
    },
    {
      "cell_type": "code",
      "metadata": {
        "id": "nTJSpmR7C8fe"
      },
      "source": [
        "a=num0 %10\n",
        "print(a)"
      ],
      "execution_count": null,
      "outputs": []
    },
    {
      "cell_type": "markdown",
      "metadata": {
        "id": "pytZChV5TXuD"
      },
      "source": [
        "Q16. Write a program to print the factorial of a number accepted from user."
      ]
    },
    {
      "cell_type": "code",
      "metadata": {
        "id": "2fqr3VGGTYhs"
      },
      "source": [
        ""
      ],
      "execution_count": null,
      "outputs": []
    },
    {
      "cell_type": "code",
      "metadata": {
        "id": "2TWvdNY1NlbK"
      },
      "source": [
        "num5=int(input(\"Enter any no \" ''))"
      ],
      "execution_count": null,
      "outputs": []
    },
    {
      "cell_type": "code",
      "metadata": {
        "id": "GpFk_n4tOkAI"
      },
      "source": [
        "f=1\n",
        "\n",
        "for i in range(1,num5+1) :\n",
        "  f=f*int(i)\n",
        "print(f)\n",
        "  "
      ],
      "execution_count": null,
      "outputs": []
    },
    {
      "cell_type": "code",
      "metadata": {
        "id": "5UYR7yhcPh-6"
      },
      "source": [
        "#Assessment related question \n",
        "\n"
      ],
      "execution_count": null,
      "outputs": []
    },
    {
      "cell_type": "code",
      "metadata": {
        "id": "9ZTWzx2EFiWB"
      },
      "source": [
        "string = \"my name is x\"\n",
        "for i in string:\n",
        "    print (i, end=\", \") "
      ],
      "execution_count": null,
      "outputs": []
    },
    {
      "cell_type": "code",
      "metadata": {
        "id": "xSTFVfNfFi6Q"
      },
      "source": [
        "for i in range(0):\n",
        "    print(i) "
      ],
      "execution_count": null,
      "outputs": []
    },
    {
      "cell_type": "code",
      "metadata": {
        "id": "alCBiJe3GJQr"
      },
      "source": [
        "x = 'abcd'\n",
        "for i in x:\n",
        "    print(i)\n",
        "    x.upper() "
      ],
      "execution_count": null,
      "outputs": []
    },
    {
      "cell_type": "code",
      "metadata": {
        "id": "uEn9okpRGt2B"
      },
      "source": [
        "x = ['ab', 'cd']\n",
        "for i in x:\n",
        "    i.upper()\n",
        "print(x)"
      ],
      "execution_count": null,
      "outputs": []
    },
    {
      "cell_type": "code",
      "metadata": {
        "id": "JPhOXaakG0D5"
      },
      "source": [
        "d = {0: 'a', 1: 'b', 2: 'c'}\n",
        "for x, y in d.items():\n",
        "    print(x, y) "
      ],
      "execution_count": null,
      "outputs": []
    },
    {
      "cell_type": "code",
      "metadata": {
        "id": "q2qAfza2G6yh"
      },
      "source": [
        "for i in range(2.0):\n",
        "    print(i) "
      ],
      "execution_count": null,
      "outputs": []
    },
    {
      "cell_type": "code",
      "metadata": {
        "id": "Qcufx4pzHBrJ"
      },
      "source": [
        ""
      ],
      "execution_count": null,
      "outputs": []
    }
  ]
}