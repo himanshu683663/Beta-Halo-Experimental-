{
  "nbformat": 4,
  "nbformat_minor": 0,
  "metadata": {
    "colab": {
      "name": " 1.2Workbook Strings  and Rules of signange ****",
      "provenance": [],
      "collapsed_sections": [],
      "authorship_tag": "ABX9TyPQArc5/wM2lMKgtgGotLko",
      "include_colab_link": true
    },
    "kernelspec": {
      "name": "python3",
      "display_name": "Python 3"
    },
    "language_info": {
      "name": "python"
    }
  },
  "cells": [
    {
      "cell_type": "markdown",
      "metadata": {
        "id": "view-in-github",
        "colab_type": "text"
      },
      "source": [
        "<a href=\"https://colab.research.google.com/github/himanshu683663/Beta-Halo-Experimental--Google-Colab-/blob/main/1_2Workbook_Strings_and_Rules_of_signange_.ipynb\" target=\"_parent\"><img src=\"https://colab.research.google.com/assets/colab-badge.svg\" alt=\"Open In Colab\"/></a>"
      ]
    },
    {
      "cell_type": "markdown",
      "metadata": {
        "id": "oWVD7I1r4ugW"
      },
      "source": [
        "Q8. Write the output of the following code:                \n",
        "str1 = \"Welcome to my blog\"                   \n",
        "str2 = \"Welcome to my \\n Blog\"\n",
        "print(str1)\n",
        "print(str2)\n"
      ]
    },
    {
      "cell_type": "code",
      "metadata": {
        "id": "F8I2mWJb1iTh"
      },
      "source": [
        "str1 =\"Welcome to my blog\"\n",
        "str2 =\"Welcome to my \\n Blog \""
      ],
      "execution_count": null,
      "outputs": []
    },
    {
      "cell_type": "code",
      "metadata": {
        "colab": {
          "base_uri": "https://localhost:8080/"
        },
        "id": "XBSttGcG5T7R",
        "outputId": "d15eb867-f5ca-4109-bef4-58d9453c8dd3"
      },
      "source": [
        "print(str1)\n",
        "print(str2)"
      ],
      "execution_count": null,
      "outputs": [
        {
          "output_type": "stream",
          "name": "stdout",
          "text": [
            "Welcome to my blog\n",
            "Welcome to my \n",
            " Blog \n"
          ]
        }
      ]
    },
    {
      "cell_type": "markdown",
      "metadata": {
        "id": "B15WrzGF56CJ"
      },
      "source": [
        "Q9. Write the output of the following.                \n",
        "str1 = \"Welcome \\tto my Blog\"\n",
        "\n",
        "str2 = \"Welcome to\\n my \\tBlog\n",
        "\n",
        "print(str1)                \n",
        "print(str2)"
      ]
    },
    {
      "cell_type": "code",
      "metadata": {
        "id": "m9rOPvSZ5d44"
      },
      "source": [
        "str1 =\"Welcome \\tto my blog\"\n",
        "str2 =\"Welcome to \\n my \\t blog \""
      ],
      "execution_count": null,
      "outputs": []
    },
    {
      "cell_type": "code",
      "metadata": {
        "colab": {
          "base_uri": "https://localhost:8080/"
        },
        "id": "NW1zA6rB6zCx",
        "outputId": "6c313898-0052-47c7-c3d0-1136de9f0214"
      },
      "source": [
        "print(str1)\n"
      ],
      "execution_count": null,
      "outputs": [
        {
          "output_type": "stream",
          "name": "stdout",
          "text": [
            "Welcome to \n",
            " my \t blog \n"
          ]
        }
      ]
    },
    {
      "cell_type": "code",
      "metadata": {
        "colab": {
          "base_uri": "https://localhost:8080/"
        },
        "id": "6WyNePsSWEwi",
        "outputId": "d6cdbdfe-c737-4cd7-fc65-005784dab34b"
      },
      "source": [
        "print(str2)"
      ],
      "execution_count": null,
      "outputs": [
        {
          "output_type": "stream",
          "name": "stdout",
          "text": [
            "Welcome to \n",
            " my \t blog \n"
          ]
        }
      ]
    },
    {
      "cell_type": "markdown",
      "metadata": {
        "id": "akhc8durruyf"
      },
      "source": [
        "Q10. Write the output of the following.               \n",
        "\n",
        "str1 = “”” Welcome to my \n",
        "                blog.\n",
        "                This is for\n",
        "                Class X”””\n",
        "                print(str1)"
      ]
    },
    {
      "cell_type": "code",
      "metadata": {
        "colab": {
          "base_uri": "https://localhost:8080/"
        },
        "id": "Mv1pvhps6550",
        "outputId": "cb853086-89d0-4a39-d204-e892fd8e6480"
      },
      "source": [
        "str1= \"\"\"Welcome to my blog. This is  for class X \"\"\"\n",
        "print(str1)"
      ],
      "execution_count": null,
      "outputs": [
        {
          "output_type": "stream",
          "name": "stdout",
          "text": [
            "Welcome to my blog. This is  for class X \n"
          ]
        }
      ]
    },
    {
      "cell_type": "markdown",
      "metadata": {
        "id": "q_N5OWXxsmcU"
      },
      "source": [
        "1. Write the output of following code-\n",
        "\n",
        " a)                  str=\"hello\"\n",
        "                      print(str[:3])"
      ]
    },
    {
      "cell_type": "code",
      "metadata": {
        "id": "gbXy6HiEstDd"
      },
      "source": [
        "str= \"hello\""
      ],
      "execution_count": null,
      "outputs": []
    },
    {
      "cell_type": "code",
      "metadata": {
        "colab": {
          "base_uri": "https://localhost:8080/"
        },
        "id": "rOXU5fFfsvVq",
        "outputId": "8b17f37d-4f8c-458f-c0b1-0d75e0d3e9a4"
      },
      "source": [
        "print(str[::3])"
      ],
      "execution_count": null,
      "outputs": [
        {
          "output_type": "stream",
          "name": "stdout",
          "text": [
            "hl\n"
          ]
        }
      ]
    },
    {
      "cell_type": "markdown",
      "metadata": {
        "id": "dXLjjkJKtFzw"
      },
      "source": [
        "b)                 str=’My Blog’\n",
        "\n",
        "                    a=’ ‘\n",
        "\n",
        "                    for i in range(len(str)):\n",
        "                        a+=str[i]\n",
        "                      \n",
        "                     print(a)"
      ]
    },
    {
      "cell_type": "code",
      "metadata": {
        "id": "ww3q50yvtOhr",
        "colab": {
          "base_uri": "https://localhost:8080/"
        },
        "outputId": "98592a44-82be-439a-ab0f-2f84e07bceb5"
      },
      "source": [
        "str=\"My Blog\"\n",
        "a=\" \"\n",
        "\n",
        "for i in range (len(str)): \n",
        "  a=a+str[i]\n",
        "  print(a)\n",
        "  \n"
      ],
      "execution_count": null,
      "outputs": [
        {
          "output_type": "stream",
          "name": "stdout",
          "text": [
            " M\n",
            " My\n",
            " My \n",
            " My B\n",
            " My Bl\n",
            " My Blo\n",
            " My Blog\n"
          ]
        }
      ]
    },
    {
      "cell_type": "markdown",
      "metadata": {
        "id": "z2qbepafxn5q"
      },
      "source": [
        "j)     s='Welcome to My Site https://csiplearninghub.com '               \n",
        "       \n",
        "       print(s.find('come'))               \n",
        "       \n",
        "       print(s.find('o'))\n",
        "       \n",
        "       print(s.find('o', 10, 20))\n",
        "      \n",
        "       print(s.find('o', 5, 10))"
      ]
    },
    {
      "cell_type": "code",
      "metadata": {
        "colab": {
          "base_uri": "https://localhost:8080/"
        },
        "id": "kTLnj1V1wKxj",
        "outputId": "31345d47-2122-4cbe-963d-412492b401b3"
      },
      "source": [
        "nu =\"welcome to my site https:// csiplearninghub.com\"\n",
        "print(nu.find('come'))"
      ],
      "execution_count": null,
      "outputs": [
        {
          "output_type": "stream",
          "name": "stdout",
          "text": [
            "3\n"
          ]
        }
      ]
    },
    {
      "cell_type": "code",
      "metadata": {
        "colab": {
          "base_uri": "https://localhost:8080/"
        },
        "id": "0zBGZXfEwR0M",
        "outputId": "87350ddd-5cde-4250-f0d0-0293b8df27ec"
      },
      "source": [
        "print(nu.find('o'))"
      ],
      "execution_count": null,
      "outputs": [
        {
          "output_type": "stream",
          "name": "stdout",
          "text": [
            "4\n"
          ]
        }
      ]
    },
    {
      "cell_type": "code",
      "metadata": {
        "colab": {
          "base_uri": "https://localhost:8080/"
        },
        "id": "_2JnQ-ydy-ty",
        "outputId": "ec6f8df0-be39-46f0-c8d9-86ef2aea0d38"
      },
      "source": [
        "print(nu.find('o',10,20))"
      ],
      "execution_count": null,
      "outputs": [
        {
          "output_type": "stream",
          "name": "stdout",
          "text": [
            "-1\n"
          ]
        }
      ]
    },
    {
      "cell_type": "code",
      "metadata": {
        "colab": {
          "base_uri": "https://localhost:8080/"
        },
        "id": "IsYpuM4d0W3i",
        "outputId": "02eb1538-72a0-4cf6-f9b2-aee65b9b9fe9"
      },
      "source": [
        "print(nu.find('o',5,10))"
      ],
      "execution_count": null,
      "outputs": [
        {
          "output_type": "stream",
          "name": "stdout",
          "text": [
            "9\n"
          ]
        }
      ]
    },
    {
      "cell_type": "markdown",
      "metadata": {
        "id": "Q99H5hPV8InQ"
      },
      "source": [
        "\n",
        "Q8. What type of error is returned by following statement, if the length of string 'str1' is 10.\n",
        "\n",
        "                        print(str1[13])"
      ]
    },
    {
      "cell_type": "code",
      "metadata": {
        "colab": {
          "base_uri": "https://localhost:8080/",
          "height": 218
        },
        "id": "7MWVxEdk8Htq",
        "outputId": "0ecc4e40-b7d3-42f1-bb40-df88e405400c"
      },
      "source": [
        "str1='s','e','q','f','w','j','o'\n",
        "print(str1)\n",
        "len(str1)\n",
        "print(str[13])"
      ],
      "execution_count": null,
      "outputs": [
        {
          "output_type": "stream",
          "name": "stdout",
          "text": [
            "('s', 'e', 'q', 'f', 'w', 'j', 'o')\n"
          ]
        },
        {
          "output_type": "error",
          "ename": "IndexError",
          "evalue": "ignored",
          "traceback": [
            "\u001b[0;31m---------------------------------------------------------------------------\u001b[0m",
            "\u001b[0;31mIndexError\u001b[0m                                Traceback (most recent call last)",
            "\u001b[0;32m<ipython-input-43-8d5df7db8b65>\u001b[0m in \u001b[0;36m<module>\u001b[0;34m()\u001b[0m\n\u001b[1;32m      2\u001b[0m \u001b[0mprint\u001b[0m\u001b[0;34m(\u001b[0m\u001b[0mstr1\u001b[0m\u001b[0;34m)\u001b[0m\u001b[0;34m\u001b[0m\u001b[0;34m\u001b[0m\u001b[0m\n\u001b[1;32m      3\u001b[0m \u001b[0mlen\u001b[0m\u001b[0;34m(\u001b[0m\u001b[0mstr1\u001b[0m\u001b[0;34m)\u001b[0m\u001b[0;34m\u001b[0m\u001b[0;34m\u001b[0m\u001b[0m\n\u001b[0;32m----> 4\u001b[0;31m \u001b[0mprint\u001b[0m\u001b[0;34m(\u001b[0m\u001b[0mstr\u001b[0m\u001b[0;34m[\u001b[0m\u001b[0;36m13\u001b[0m\u001b[0;34m]\u001b[0m\u001b[0;34m)\u001b[0m\u001b[0;34m\u001b[0m\u001b[0;34m\u001b[0m\u001b[0m\n\u001b[0m",
            "\u001b[0;31mIndexError\u001b[0m: string index out of range"
          ]
        }
      ]
    },
    {
      "cell_type": "markdown",
      "metadata": {
        "id": "7UR6iFch-JmZ"
      },
      "source": [
        "Q9. Write the output of the following:\n",
        "str1 = \"Welcome to my Blog\"\n",
        "\n",
        "\n",
        "a. print(str1[-1])\n",
        "\n",
        "b. print(str1[9])"
      ]
    },
    {
      "cell_type": "code",
      "metadata": {
        "id": "TQE4lKzQ9D-O"
      },
      "source": [
        "str1 =\"Welcome to my blog\""
      ],
      "execution_count": null,
      "outputs": []
    },
    {
      "cell_type": "code",
      "metadata": {
        "colab": {
          "base_uri": "https://localhost:8080/"
        },
        "id": "sXVsaSXn-Ddm",
        "outputId": "a08d508f-f66c-4494-b80a-ce81824568ed"
      },
      "source": [
        "print(str1[-1])"
      ],
      "execution_count": null,
      "outputs": [
        {
          "output_type": "stream",
          "name": "stdout",
          "text": [
            "g\n"
          ]
        }
      ]
    },
    {
      "cell_type": "code",
      "metadata": {
        "colab": {
          "base_uri": "https://localhost:8080/"
        },
        "id": "enrd8Fd5CJqx",
        "outputId": "83a4fb5a-8138-4bc4-d853-e98426e7b03d"
      },
      "source": [
        "print(str1[9])"
      ],
      "execution_count": null,
      "outputs": [
        {
          "output_type": "stream",
          "name": "stdout",
          "text": [
            "o\n"
          ]
        }
      ]
    },
    {
      "cell_type": "markdown",
      "metadata": {
        "id": "lf6bJyFZDHDH"
      },
      "source": [
        "Boolean\n",
        "Q2. Write the output of the following:\n",
        "\n",
        ">>>'tie' == 'ties'\n",
        "\n",
        ">>>\"Amit\" != \"Amitabh\"\n",
        "\n",
        ">>>\"amit\" > \"Amitabh\"\n",
        "\n",
        "Show Answer\n"
      ]
    },
    {
      "cell_type": "code",
      "metadata": {
        "colab": {
          "base_uri": "https://localhost:8080/"
        },
        "id": "vnJWiLIhCM2h",
        "outputId": "177f0a38-44ea-4a27-8a0e-6c6a2ff97fcb"
      },
      "source": [
        "'tie'=='ties'"
      ],
      "execution_count": null,
      "outputs": [
        {
          "output_type": "execute_result",
          "data": {
            "text/plain": [
              "False"
            ]
          },
          "metadata": {},
          "execution_count": 47
        }
      ]
    },
    {
      "cell_type": "code",
      "metadata": {
        "colab": {
          "base_uri": "https://localhost:8080/"
        },
        "id": "xnyVAb94DeQc",
        "outputId": "5d1da799-1b40-4fa2-c6db-04a675cf58fb"
      },
      "source": [
        "'Amit'!='Amitabh'"
      ],
      "execution_count": null,
      "outputs": [
        {
          "output_type": "execute_result",
          "data": {
            "text/plain": [
              "True"
            ]
          },
          "metadata": {},
          "execution_count": 49
        }
      ]
    },
    {
      "cell_type": "markdown",
      "metadata": {
        "id": "WN6U8PXDB9ca"
      },
      "source": [
        "Q6. Write the output of the following.\n",
        "\n",
        "S = \"Welcome to my Blog\"\n",
        "\n",
        "print(S[2 : 3])\n",
        "\n",
        "print(S[2 : 10])\n",
        "\n",
        "print(S[-2 : ])\n",
        "\n",
        "print(S[-10 : -2 : 2])"
      ]
    },
    {
      "cell_type": "code",
      "metadata": {
        "id": "lG4RWkFPB-VN"
      },
      "source": [
        "s=\"Welcome to my Blog\""
      ],
      "execution_count": null,
      "outputs": []
    },
    {
      "cell_type": "code",
      "metadata": {
        "colab": {
          "base_uri": "https://localhost:8080/"
        },
        "id": "g3AeyxoHCJeS",
        "outputId": "9ef3c76a-5b84-4a7d-99a1-d031f2fcd404"
      },
      "source": [
        "print(s[2:3])"
      ],
      "execution_count": null,
      "outputs": [
        {
          "output_type": "stream",
          "name": "stdout",
          "text": [
            "l\n"
          ]
        }
      ]
    },
    {
      "cell_type": "code",
      "metadata": {
        "colab": {
          "base_uri": "https://localhost:8080/"
        },
        "id": "tsdZK3gGCZoA",
        "outputId": "49875720-facd-4895-f4fc-5777e8bb0f7f"
      },
      "source": [
        "print(s[2:10])"
      ],
      "execution_count": null,
      "outputs": [
        {
          "output_type": "stream",
          "name": "stdout",
          "text": [
            "lcome to\n"
          ]
        }
      ]
    },
    {
      "cell_type": "code",
      "metadata": {
        "colab": {
          "base_uri": "https://localhost:8080/"
        },
        "id": "W95zZHnGErQK",
        "outputId": "16e463a5-503f-4281-de33-d50b11e8f5e2"
      },
      "source": [
        "print(s[-2:])"
      ],
      "execution_count": null,
      "outputs": [
        {
          "output_type": "stream",
          "name": "stdout",
          "text": [
            "og\n"
          ]
        }
      ]
    },
    {
      "cell_type": "code",
      "metadata": {
        "colab": {
          "base_uri": "https://localhost:8080/"
        },
        "id": "tSQ5FL1xFAsk",
        "outputId": "5b02320c-8f34-447b-d61b-748c3cb4b4db"
      },
      "source": [
        "print(s[-10:-2:2])"
      ],
      "execution_count": null,
      "outputs": [
        {
          "output_type": "stream",
          "name": "stdout",
          "text": [
            "t yB\n"
          ]
        }
      ]
    },
    {
      "cell_type": "markdown",
      "metadata": {
        "id": "izfJO4J8GdEA"
      },
      "source": [
        "Q3. Write the output of the following\n",
        "\n",
        "str1 = \"Amit\"\n",
        "\n",
        "str2 = \"My Blog\"\n",
        "\n",
        "str3 = \"#blog\"\n",
        "\n",
        "str4 = \"My 1st Blog\"\n",
        "\n",
        "print(str1.isalpha())\n",
        "\n",
        "print(str2.isalpha())\n",
        "\n",
        "print(str3.isalpha())\n",
        "\n",
        "print(str4.isalpha())\n",
        "\n",
        "Specify the reason if any of the above print statement return False."
      ]
    },
    {
      "cell_type": "code",
      "metadata": {
        "id": "gdBYx1JQGf6w"
      },
      "source": [
        "str1 =\"Amit\"\n",
        "str2 =\"My Blog\"\n",
        "str3=\"#blog\"\n",
        "str4=\"My 1st Blog\""
      ],
      "execution_count": null,
      "outputs": []
    },
    {
      "cell_type": "markdown",
      "metadata": {
        "id": "J41jiJKGJziq"
      },
      "source": [
        "Q6. Write the output of the following:\n",
        "\n",
        ">>>a = 123\n",
        "\n",
        ">>>b = \"123\"\n",
        "\n",
        ">>>b.isdigit()\n",
        "\n",
        ">>>a.isdigit()"
      ]
    },
    {
      "cell_type": "code",
      "metadata": {
        "colab": {
          "base_uri": "https://localhost:8080/"
        },
        "id": "xsY7TiwtG2a8",
        "outputId": "d8623c9b-3565-4b6d-9bd5-97f28b6acdbb"
      },
      "source": [
        "b=\"123\"\n",
        "b.isdigit()"
      ],
      "execution_count": null,
      "outputs": [
        {
          "output_type": "execute_result",
          "data": {
            "text/plain": [
              "True"
            ]
          },
          "metadata": {},
          "execution_count": 18
        }
      ]
    },
    {
      "cell_type": "code",
      "metadata": {
        "colab": {
          "base_uri": "https://localhost:8080/",
          "height": 166
        },
        "id": "4eBR7XwPMGeL",
        "outputId": "722e6cc5-c575-4eb0-df6c-9a57e2615b9d"
      },
      "source": [
        "a=123\n",
        "a.isdigit()"
      ],
      "execution_count": null,
      "outputs": [
        {
          "output_type": "error",
          "ename": "AttributeError",
          "evalue": "ignored",
          "traceback": [
            "\u001b[0;31m---------------------------------------------------------------------------\u001b[0m",
            "\u001b[0;31mAttributeError\u001b[0m                            Traceback (most recent call last)",
            "\u001b[0;32m<ipython-input-20-4e70a3185e4d>\u001b[0m in \u001b[0;36m<module>\u001b[0;34m()\u001b[0m\n\u001b[0;32m----> 1\u001b[0;31m \u001b[0ma\u001b[0m\u001b[0;34m.\u001b[0m\u001b[0misdigit\u001b[0m\u001b[0;34m(\u001b[0m\u001b[0;34m)\u001b[0m\u001b[0;34m\u001b[0m\u001b[0;34m\u001b[0m\u001b[0m\n\u001b[0m",
            "\u001b[0;31mAttributeError\u001b[0m: 'int' object has no attribute 'isdigit'"
          ]
        }
      ]
    },
    {
      "cell_type": "markdown",
      "metadata": {
        "id": "9HCbwkqFULGY"
      },
      "source": [
        "**isalpha** Method\n",
        "\n",
        "The python is alpha() method returns the boolean value True if every character in a string is a letter ; otherwise ,it returns the Boolean value false .In python , a space is not an alphabetical characeter , so if a string contain a space the method will return False .\n"
      ]
    },
    {
      "cell_type": "markdown",
      "metadata": {
        "id": "TNBQvyZmVGla"
      },
      "source": [
        "\n",
        "Q3. Write the output of the following\n",
        "\n",
        "str1 = \"Amit\"\n",
        "\n",
        "str2 = \"My Blog\"\n",
        "\n",
        "str3 = \"#blog\"\n",
        "\n",
        "str4 = \"My 1st Blog\"\n",
        "\n",
        "print(str1.isalpha())\n",
        "\n",
        "print(str2.isalpha())\n",
        "\n",
        "print(str3.isalpha())\n",
        "\n",
        "print(str4.isalpha())"
      ]
    },
    {
      "cell_type": "code",
      "metadata": {
        "id": "j94uwIwuVCvD"
      },
      "source": [
        "str1 =\"Amit\"\n",
        "str2 =\"My Blog\"\n",
        "str3=\"#blog\"\n",
        "str4=\"My 1st Blog\""
      ],
      "execution_count": null,
      "outputs": []
    },
    {
      "cell_type": "code",
      "metadata": {
        "colab": {
          "base_uri": "https://localhost:8080/"
        },
        "id": "GfmMKf5SWFHT",
        "outputId": "8dcdcba4-c70a-414d-a80c-13a53eef2736"
      },
      "source": [
        "print(str1.isalpha())"
      ],
      "execution_count": null,
      "outputs": [
        {
          "output_type": "stream",
          "name": "stdout",
          "text": [
            "True\n"
          ]
        }
      ]
    },
    {
      "cell_type": "code",
      "metadata": {
        "colab": {
          "base_uri": "https://localhost:8080/"
        },
        "id": "4JADx3l7WI6B",
        "outputId": "2ea8ae9d-f913-4627-81e3-a4a27bf55c4c"
      },
      "source": [
        "print(str2.isalpha())"
      ],
      "execution_count": null,
      "outputs": [
        {
          "output_type": "stream",
          "name": "stdout",
          "text": [
            "False\n"
          ]
        }
      ]
    },
    {
      "cell_type": "code",
      "metadata": {
        "colab": {
          "base_uri": "https://localhost:8080/"
        },
        "id": "TiocKLP_XRIf",
        "outputId": "2c4f5966-12ad-4ac0-93ac-d53bf5a1b571"
      },
      "source": [
        "print(str3.isalpha())"
      ],
      "execution_count": null,
      "outputs": [
        {
          "output_type": "stream",
          "name": "stdout",
          "text": [
            "False\n"
          ]
        }
      ]
    },
    {
      "cell_type": "code",
      "metadata": {
        "colab": {
          "base_uri": "https://localhost:8080/"
        },
        "id": "gKKAm9BXXZMm",
        "outputId": "2954c066-b8ad-402b-de02-d699cca21d9c"
      },
      "source": [
        "print(str4.isalpha())"
      ],
      "execution_count": null,
      "outputs": [
        {
          "output_type": "stream",
          "name": "stdout",
          "text": [
            "False\n"
          ]
        }
      ]
    },
    {
      "cell_type": "markdown",
      "metadata": {
        "id": "uGDwq4ehZZLr"
      },
      "source": [
        "Q10. Write the output of the following:\n",
        "\n",
        ">>>s = \"My blog\"\n",
        "\n",
        ">>>s.upper()\n",
        "\n",
        ">>>s.lower()\n",
        "\n",
        ">>>s.islower()\n",
        "\n",
        ">>>s.isupper()\n",
        "\n",
        ">>>s.isalpha()\n",
        "\n",
        ">>>s.isdigit()\n"
      ]
    },
    {
      "cell_type": "code",
      "metadata": {
        "id": "4yvC5G-qZcGf"
      },
      "source": [
        "s=\"My blog\""
      ],
      "execution_count": null,
      "outputs": []
    },
    {
      "cell_type": "code",
      "metadata": {
        "colab": {
          "base_uri": "https://localhost:8080/"
        },
        "id": "__RBdgthZcTT",
        "outputId": "44d48cdd-8c15-4221-f9cc-f72a07f03d59"
      },
      "source": [
        "print(s.isupper())"
      ],
      "execution_count": null,
      "outputs": [
        {
          "output_type": "stream",
          "name": "stdout",
          "text": [
            "False\n"
          ]
        }
      ]
    },
    {
      "cell_type": "markdown",
      "metadata": {
        "id": "wmiegcKGwegK"
      },
      "source": [
        "# **Split Function**\n",
        "Split function basically divides a string into a list . as we will see in example .\n",
        "\n",
        "here split(seperator,maxsplit) is classified "
      ]
    },
    {
      "cell_type": "code",
      "metadata": {
        "id": "kAVZFhe5yk0D"
      },
      "source": [
        "str1= \"Welcome to my vlog\""
      ],
      "execution_count": null,
      "outputs": []
    },
    {
      "cell_type": "code",
      "metadata": {
        "colab": {
          "base_uri": "https://localhost:8080/"
        },
        "id": "PNTr13C2aG9E",
        "outputId": "25d6ed3b-1cda-4bc2-f864-af9544610620"
      },
      "source": [
        "print(str1.split())"
      ],
      "execution_count": null,
      "outputs": [
        {
          "output_type": "stream",
          "name": "stdout",
          "text": [
            "['Welcome', 'to', 'my', 'vlog']\n"
          ]
        }
      ]
    },
    {
      "cell_type": "markdown",
      "metadata": {
        "id": "SpItBmIr19ek"
      },
      "source": [
        "\n",
        "Q6. Write the output of the following:\n",
        "a = \"Mummy?Papa?Brother?Sister?Uncle\" \n",
        "\n",
        "print(a.split())\n",
        "\n",
        "print(a.split('?')\n",
        "\n",
        "print(a.split('?',1)\n",
        "\n",
        "print(a.split('?',3)\n",
        "\n",
        "print(a.split('?',10)\n",
        "\n",
        "print(a.split('?',-1)"
      ]
    },
    {
      "cell_type": "code",
      "metadata": {
        "id": "g4RfR2avxPgF"
      },
      "source": [
        "a=\"Mummy?Papa?Brother?Sister?Uncle\"\n"
      ],
      "execution_count": null,
      "outputs": []
    },
    {
      "cell_type": "code",
      "metadata": {
        "colab": {
          "base_uri": "https://localhost:8080/"
        },
        "id": "eEvHcsKK2TX1",
        "outputId": "fc250478-3f57-413d-ebfe-e7bb0da71c7b"
      },
      "source": [
        "print(a.split())\n",
        "print(a.split('?'))"
      ],
      "execution_count": null,
      "outputs": [
        {
          "output_type": "stream",
          "name": "stdout",
          "text": [
            "['Mummy', 'Papa', 'Brother', 'Sister', 'Uncle']\n"
          ]
        }
      ]
    },
    {
      "cell_type": "code",
      "metadata": {
        "colab": {
          "base_uri": "https://localhost:8080/"
        },
        "id": "Ad7ra4863MGb",
        "outputId": "c9d218ad-a681-4501-b8ba-a974d37a2ea1"
      },
      "source": [
        "print(a.split('?',2))"
      ],
      "execution_count": null,
      "outputs": [
        {
          "output_type": "stream",
          "name": "stdout",
          "text": [
            "['Mummy', 'Papa', 'Brother?Sister?Uncle']\n"
          ]
        }
      ]
    },
    {
      "cell_type": "code",
      "metadata": {
        "id": "53LciInG3990"
      },
      "source": [
        ""
      ],
      "execution_count": null,
      "outputs": []
    }
  ]
}