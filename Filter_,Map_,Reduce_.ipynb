{
  "nbformat": 4,
  "nbformat_minor": 0,
  "metadata": {
    "colab": {
      "name": "Filter ,Map ,Reduce .ipynb",
      "provenance": [],
      "collapsed_sections": [],
      "authorship_tag": "ABX9TyMLGFi0utPTIfzwwR+a/zUR",
      "include_colab_link": true
    },
    "kernelspec": {
      "name": "python3",
      "display_name": "Python 3"
    },
    "language_info": {
      "name": "python"
    }
  },
  "cells": [
    {
      "cell_type": "markdown",
      "metadata": {
        "id": "view-in-github",
        "colab_type": "text"
      },
      "source": [
        "<a href=\"https://colab.research.google.com/github/himanshu683663/EDA-1-/blob/main/Filter_%2CMap_%2CReduce_.ipynb\" target=\"_parent\"><img src=\"https://colab.research.google.com/assets/colab-badge.svg\" alt=\"Open In Colab\"/></a>"
      ]
    },
    {
      "cell_type": "code",
      "metadata": {
        "id": "6q0fxQQwxRiL"
      },
      "source": [
        ""
      ],
      "execution_count": null,
      "outputs": []
    },
    {
      "cell_type": "markdown",
      "metadata": {
        "id": "jARDnh2sYnC8"
      },
      "source": [
        "## Lambda Function \n",
        "\n",
        "Python Lambda Functions are anonymous function means that the function is without a name. As we already know that the def keyword is used to define a normal function in Python. Similarly, the lambda keyword is used to define an anonymous function in Python. \n",
        "\n",
        "\n",
        "This function is called by name lambda function  or anonyomous function .\n",
        "\n",
        "Syntax \n",
        "lambda arguments : expression\n",
        "The expression is executed and the result is returned:\n",
        "\n",
        "\n",
        "\n",
        "further can be understand with example \n",
        "\n"
      ]
    },
    {
      "cell_type": "markdown",
      "metadata": {
        "id": "qvb5jpS8hI4Y"
      },
      "source": [
        "1 st example "
      ]
    },
    {
      "cell_type": "code",
      "metadata": {
        "colab": {
          "base_uri": "https://localhost:8080/"
        },
        "id": "EwGpOSQuY_zb",
        "outputId": "0dabbd12-6bc9-4959-a8c7-dee445bf6a20"
      },
      "source": [
        "#   1st alternative to sort out problem  (function creation)\n",
        "\n",
        "def function1(a):\n",
        "  return a*a\n",
        "\n",
        "# Call out the function \n",
        "result =function1(8)\n",
        "print(result)"
      ],
      "execution_count": null,
      "outputs": [
        {
          "output_type": "stream",
          "name": "stdout",
          "text": [
            "64\n"
          ]
        }
      ]
    },
    {
      "cell_type": "code",
      "metadata": {
        "id": "-MaxaAYdauSH",
        "colab": {
          "base_uri": "https://localhost:8080/"
        },
        "outputId": "9ccc5ebd-9383-4134-f05b-3b40f5101ed3"
      },
      "source": [
        "# Using lambda function \n",
        "\n",
        "f = lambda a:a*a \n",
        "result =f(6)\n",
        "print(result)\n",
        "\n"
      ],
      "execution_count": null,
      "outputs": [
        {
          "output_type": "stream",
          "name": "stdout",
          "text": [
            "36\n"
          ]
        }
      ]
    },
    {
      "cell_type": "markdown",
      "metadata": {
        "id": "6GoFUek0hMUC"
      },
      "source": [
        "2nd example \n",
        "\n",
        "\n",
        " where we are using 2 variable a ,b just line in that case we can use lot's of variable but only singular line of expression"
      ]
    },
    {
      "cell_type": "code",
      "metadata": {
        "colab": {
          "base_uri": "https://localhost:8080/"
        },
        "id": "3O-TFKPwgSr3",
        "outputId": "3886dce5-d6c0-4171-8014-c78970d0bacf"
      },
      "source": [
        "# using lambda function to create and use 2 variable \n",
        "f =lambda a,b :a+b \n",
        "result = f(5,10)\n",
        "print(result)"
      ],
      "execution_count": null,
      "outputs": [
        {
          "output_type": "stream",
          "name": "stdout",
          "text": [
            "15\n"
          ]
        }
      ]
    },
    {
      "cell_type": "markdown",
      "metadata": {
        "id": "7GitAbLK87SE"
      },
      "source": [
        "## Filter Function \n",
        "\n",
        "The filter() method filters the given sequence with the help of a function that tests each element in the sequence to be true or not.\n",
        "\n",
        "filter(function, sequence)\n",
        "Parameters:\n",
        "function: function that tests if each element of a \n",
        "sequence true or not.\n",
        "sequence: sequence which needs to be filtered, it can \n",
        "be sets, lists, tuples, or containers of any iterators.\n",
        "Returns:\n",
        "returns an iterator that is already filtered.\n",
        "Let's understand with example \n",
        "\n",
        "\n",
        "filter(function, sequence)"
      ]
    },
    {
      "cell_type": "code",
      "metadata": {
        "colab": {
          "base_uri": "https://localhost:8080/"
        },
        "id": "GR3gWbbU8-5U",
        "outputId": "a650cd9c-be1f-48a9-a23c-a5544f60b641"
      },
      "source": [
        "def is_even(n) :\n",
        "  return  n%2==0\n",
        "\n",
        "num =[3,2,6,4,5,8,9]\n",
        " \n",
        "evens = list(filter(is_even,num))\n",
        "print(evens)\n"
      ],
      "execution_count": null,
      "outputs": [
        {
          "output_type": "stream",
          "name": "stdout",
          "text": [
            "[2, 6, 4, 8]\n"
          ]
        }
      ]
    },
    {
      "cell_type": "markdown",
      "metadata": {
        "id": "KH3b0eXSAt6F"
      },
      "source": [
        "# But here it is very customized and all code and line of expression just for one result here we can use lambda  function ."
      ]
    },
    {
      "cell_type": "code",
      "metadata": {
        "colab": {
          "base_uri": "https://localhost:8080/"
        },
        "id": "w2YuqFRDA5KZ",
        "outputId": "c1b04648-5218-40cf-8c7d-094b2aa0b4be"
      },
      "source": [
        "# It's make code cooler and elegant  and in one line it gets solved .\n",
        "num =[3,2,6,4,5,8,9]\n",
        "is_even = list(filter(lambda n :n%2==0,num))\n",
        "print(is_even)\n",
        "\n"
      ],
      "execution_count": null,
      "outputs": [
        {
          "metadata": {
            "tags": null
          },
          "name": "stdout",
          "output_type": "stream",
          "text": [
            "[2, 6, 4, 8]\n"
          ]
        }
      ]
    },
    {
      "cell_type": "markdown",
      "metadata": {
        "id": "P-Pp0cZ2FJbJ"
      },
      "source": [
        "## Map Function \n",
        "\n",
        "map() function returns a map object(which is an iterator) of the results after applying the given function to each item of a given iterable (list, tuple etc.)\n",
        "\n",
        "\n",
        "map(fun, iter)\n",
        "\n",
        "Parameters:\n",
        "function: function that tests if each element of a \n",
        "sequence true or not.\n",
        "sequence: sequence which needs to be filtered, it can \n",
        "be sets, lists, tuples, or containers of any iterators.\n",
        "Returns:\n",
        "returns an iterator that is already filtered."
      ]
    },
    {
      "cell_type": "markdown",
      "metadata": {
        "id": "kmaH1aRcGeOE"
      },
      "source": [
        "Here what we want  is square of this number (obviously) in the list   & we will not use def function because the whole purpose of this is to create square of number instead of that we will use lambda function in itself as we have use in  filter function ."
      ]
    },
    {
      "cell_type": "code",
      "metadata": {
        "colab": {
          "base_uri": "https://localhost:8080/"
        },
        "id": "AoZ3YCiyFlZl",
        "outputId": "ed966fea-d05b-4006-f61a-0a9ee9f2c4ef"
      },
      "source": [
        "num =[3,2,6,4,5,8,9]\n",
        "\n",
        "double =list(map(lambda n :n*2 , num))\n",
        "print(double)\n",
        "\n"
      ],
      "execution_count": null,
      "outputs": [
        {
          "output_type": "stream",
          "name": "stdout",
          "text": [
            "[6, 4, 12, 8, 10, 16, 18]\n"
          ]
        }
      ]
    },
    {
      "cell_type": "markdown",
      "metadata": {
        "id": "9OFcTK4wNDaA"
      },
      "source": [
        "## Reduce Function \n",
        "\n",
        "\n",
        "The reduce(fun,seq) function is used to apply a particular function passed in its argument to all of the list elements mentioned in the sequence passed along.This function is defined in “functools” module.\n",
        "\n",
        "\n",
        "At first step, first two elements of sequence are picked and the result is obtained.\n",
        "\n",
        "\n",
        "Next step is to apply the same function to the previously attained result and the number just succeeding the second element and the result is again stored.\n",
        "\n",
        "\n",
        "\n",
        "This process continues till no more elements are left in the container.\n",
        "The final returned result is returned and printed on console.\n",
        "\n",
        "\n",
        "syntax  = reduce(fun,seq)\n",
        "\n",
        "\n",
        "## Statement to import  reduce function from func_tools in this 2 way \n",
        "\n",
        "import reduce as functools"
      ]
    },
    {
      "cell_type": "markdown",
      "metadata": {
        "id": "hhscfuqlQGi3"
      },
      "source": [
        "1. Here in 1st alternative  we will use def function "
      ]
    },
    {
      "cell_type": "code",
      "metadata": {
        "colab": {
          "base_uri": "https://localhost:8080/"
        },
        "id": "-lQpe556NtM5",
        "outputId": "b7b40abb-059e-4558-cec2-1716baac23cb"
      },
      "source": [
        "# Statement to module \n",
        "# Using def function  \n",
        "\n",
        "from functools import reduce\n",
        " \n",
        "def add_all(a,b) :\n",
        "  return a+b \n",
        "\n",
        "total_sum  = reduce (add_all , double )\n",
        "print(total_sum)\n",
        "\n",
        "\n"
      ],
      "execution_count": null,
      "outputs": [
        {
          "output_type": "stream",
          "name": "stdout",
          "text": [
            "74\n"
          ]
        }
      ]
    },
    {
      "cell_type": "code",
      "metadata": {
        "colab": {
          "base_uri": "https://localhost:8080/"
        },
        "id": "KCSodhmVT8V1",
        "outputId": "faf87774-7606-4bf0-b67d-844ce6bde013"
      },
      "source": [
        "# Using Lambda Function  (so no creation of def function)\n",
        "\n",
        "total_sum = (reduce (lambda a,b :a+b,double)) \n",
        "print(total_sum)\n"
      ],
      "execution_count": null,
      "outputs": [
        {
          "output_type": "stream",
          "name": "stdout",
          "text": [
            "74\n"
          ]
        }
      ]
    },
    {
      "cell_type": "markdown",
      "metadata": {
        "id": "vs0wCcLJRhM_"
      },
      "source": [
        "## We can also add default value in terms of  (arg1) , (arg2) so that if we don't add any value in  after function creation it will take default value so that after running code it will not show any error you can check preceding example ."
      ]
    }
  ]
}