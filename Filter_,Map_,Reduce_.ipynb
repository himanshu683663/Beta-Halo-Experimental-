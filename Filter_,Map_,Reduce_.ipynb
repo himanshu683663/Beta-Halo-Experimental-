{
  "nbformat": 4,
  "nbformat_minor": 0,
  "metadata": {
    "colab": {
      "name": "Filter ,Map ,Reduce .ipynb",
      "provenance": [],
      "collapsed_sections": [],
      "authorship_tag": "ABX9TyONMTs4E9/e1PsF/e5PZrTV",
      "include_colab_link": true
    },
    "kernelspec": {
      "name": "python3",
      "display_name": "Python 3"
    },
    "language_info": {
      "name": "python"
    }
  },
  "cells": [
    {
      "cell_type": "markdown",
      "metadata": {
        "id": "view-in-github",
        "colab_type": "text"
      },
      "source": [
        "<a href=\"https://colab.research.google.com/github/himanshu683663/Beta-Halo-Experimental--Google-Colab-/blob/main/Filter_%2CMap_%2CReduce_.ipynb\" target=\"_parent\"><img src=\"https://colab.research.google.com/assets/colab-badge.svg\" alt=\"Open In Colab\"/></a>"
      ]
    },
    {
      "cell_type": "code",
      "source": [
        "! git init "
      ],
      "metadata": {
        "colab": {
          "base_uri": "https://localhost:8080/"
        },
        "id": "zo6rurZyBZb9",
        "outputId": "e9b45ff7-d84f-4d5b-9656-1fac8f75c33d"
      },
      "execution_count": null,
      "outputs": [
        {
          "output_type": "stream",
          "name": "stdout",
          "text": [
            "Reinitialized existing Git repository in /content/.git/\n"
          ]
        }
      ]
    },
    {
      "cell_type": "markdown",
      "source": [
        ""
      ],
      "metadata": {
        "id": "RYQnoaFtcrMq"
      }
    },
    {
      "cell_type": "code",
      "source": [
        "! git clone https://github.com/himanshu683663/Beta-Halo-Experimental--Google-Colab-.git"
      ],
      "metadata": {
        "colab": {
          "base_uri": "https://localhost:8080/"
        },
        "id": "ROBJVnKBBg3n",
        "outputId": "9111fdc3-a938-4dfc-ff9e-1329631fd4ca"
      },
      "execution_count": null,
      "outputs": [
        {
          "output_type": "stream",
          "name": "stdout",
          "text": [
            "Cloning into 'Beta-Halo-Experimental--Google-Colab-'...\n",
            "remote: Enumerating objects: 46, done.\u001b[K\n",
            "remote: Counting objects: 100% (46/46), done.\u001b[K\n",
            "remote: Compressing objects: 100% (43/43), done.\u001b[K\n",
            "remote: Total 46 (delta 19), reused 0 (delta 0), pack-reused 0\u001b[K\n",
            "Unpacking objects: 100% (46/46), done.\n"
          ]
        }
      ]
    },
    {
      "cell_type": "code",
      "source": [
        "pwd"
      ],
      "metadata": {
        "colab": {
          "base_uri": "https://localhost:8080/",
          "height": 35
        },
        "id": "dc-1DxFgCC-2",
        "outputId": "9fb2b282-2011-46a8-a39d-5b7fbf61e06d"
      },
      "execution_count": null,
      "outputs": [
        {
          "output_type": "execute_result",
          "data": {
            "application/vnd.google.colaboratory.intrinsic+json": {
              "type": "string"
            },
            "text/plain": [
              "'/content'"
            ]
          },
          "metadata": {},
          "execution_count": 13
        }
      ]
    },
    {
      "cell_type": "code",
      "source": [
        "%cd Beta-Halo-Experimental--Google-Colab-/"
      ],
      "metadata": {
        "colab": {
          "base_uri": "https://localhost:8080/"
        },
        "id": "asC6pUD_Cf5q",
        "outputId": "0e7133cf-41b8-4d6b-daa2-4ab3d4c99e32"
      },
      "execution_count": null,
      "outputs": [
        {
          "output_type": "stream",
          "name": "stdout",
          "text": [
            "/content/Beta-Halo-Experimental--Google-Colab-\n"
          ]
        }
      ]
    },
    {
      "cell_type": "code",
      "source": [
        "! git status "
      ],
      "metadata": {
        "colab": {
          "base_uri": "https://localhost:8080/"
        },
        "id": "02qxUbFcCvtw",
        "outputId": "e7c482a3-7db2-49bf-f8ee-8255a361aa5a"
      },
      "execution_count": null,
      "outputs": [
        {
          "output_type": "stream",
          "name": "stdout",
          "text": [
            "On branch main\n",
            "Your branch is up to date with 'origin/main'.\n",
            "\n",
            "nothing to commit, working tree clean\n"
          ]
        }
      ]
    },
    {
      "cell_type": "code",
      "source": [
        "! git remote -v"
      ],
      "metadata": {
        "colab": {
          "base_uri": "https://localhost:8080/"
        },
        "id": "sJM1P8hhDWX4",
        "outputId": "14ba1f03-1b48-4a88-8237-b01aabcccc0d"
      },
      "execution_count": null,
      "outputs": [
        {
          "output_type": "stream",
          "name": "stdout",
          "text": [
            "origin\thttps://github.com/himanshu683663/Beta-Halo-Experimental--Google-Colab-.git (fetch)\n",
            "origin\thttps://github.com/himanshu683663/Beta-Halo-Experimental--Google-Colab-.git (push)\n"
          ]
        }
      ]
    },
    {
      "cell_type": "code",
      "source": [
        ""
      ],
      "metadata": {
        "id": "ZWQaJovZDu81"
      },
      "execution_count": null,
      "outputs": []
    },
    {
      "cell_type": "code",
      "source": [
        ""
      ],
      "metadata": {
        "id": "CWbcSXF7DWeE"
      },
      "execution_count": null,
      "outputs": []
    },
    {
      "cell_type": "markdown",
      "metadata": {
        "id": "jARDnh2sYnC8"
      },
      "source": [
        "## Lambda Function \n",
        "\n",
        "Python Lambda Functions are anonymous function means that the function is without a name. As we already know that the def keyword is used to define a normal function in Python. Similarly, the lambda keyword is used to define an anonymous function in Python. \n",
        "\n",
        "\n",
        "This function is called by name lambda function  or anonyomous function .\n",
        "\n",
        "Syntax \n",
        "lambda arguments : expression\n",
        "The expression is executed and the result is returned:\n",
        "\n",
        "\n",
        "\n",
        "further can be understand with example \n",
        "\n"
      ]
    },
    {
      "cell_type": "code",
      "source": [
        "from google.colab import drive\n",
        "drive.mount('/content/drive')"
      ],
      "metadata": {
        "id": "B8ArCbWsCI6x"
      },
      "execution_count": null,
      "outputs": []
    },
    {
      "cell_type": "markdown",
      "metadata": {
        "id": "qvb5jpS8hI4Y"
      },
      "source": [
        "1 st example "
      ]
    },
    {
      "cell_type": "code",
      "metadata": {
        "colab": {
          "base_uri": "https://localhost:8080/"
        },
        "id": "EwGpOSQuY_zb",
        "outputId": "11bfd062-d36f-47f6-8e84-0cdb3c298023"
      },
      "source": [
        "#   1st alternative to sort out problem  (function creation)\n",
        "\n",
        "def function1(a):\n",
        "  return a*a\n",
        "\n",
        "# Call out the function \n",
        "result =function1(8)\n",
        "print(result)"
      ],
      "execution_count": null,
      "outputs": [
        {
          "output_type": "stream",
          "name": "stdout",
          "text": [
            "64\n"
          ]
        }
      ]
    },
    {
      "cell_type": "code",
      "metadata": {
        "id": "-MaxaAYdauSH",
        "colab": {
          "base_uri": "https://localhost:8080/"
        },
        "outputId": "7eeacca1-fcb9-4e97-ea5e-58dfbf43511d"
      },
      "source": [
        "# Using lambda function \n",
        "\n",
        "f = lambda a:a*a \n",
        "result =f(6)\n",
        "print(result)\n",
        "\n"
      ],
      "execution_count": null,
      "outputs": [
        {
          "output_type": "stream",
          "name": "stdout",
          "text": [
            "36\n"
          ]
        }
      ]
    },
    {
      "cell_type": "markdown",
      "metadata": {
        "id": "6GoFUek0hMUC"
      },
      "source": [
        "2nd example \n",
        "\n",
        "\n",
        " where we are using 2 variable a ,b just line in that case we can use lot's of variable but only singular line of expression"
      ]
    },
    {
      "cell_type": "code",
      "metadata": {
        "colab": {
          "base_uri": "https://localhost:8080/"
        },
        "id": "3O-TFKPwgSr3",
        "outputId": "40c7e0ef-3523-472e-dedb-638b812f03f2"
      },
      "source": [
        "# using lambda function to create and use 2 variable \n",
        "f =lambda a,b :a+b \n",
        "result = f(5,10)\n",
        "print(result)"
      ],
      "execution_count": null,
      "outputs": [
        {
          "output_type": "stream",
          "name": "stdout",
          "text": [
            "15\n"
          ]
        }
      ]
    },
    {
      "cell_type": "markdown",
      "metadata": {
        "id": "7GitAbLK87SE"
      },
      "source": [
        "## Filter Function \n",
        "\n",
        "The filter() method filters the given sequence with the help of a function that tests each element in the sequence to be true or not.\n",
        "\n",
        "filter(function, sequence)\n",
        "Parameters:\n",
        "function: function that tests if each element of a \n",
        "sequence true or not.\n",
        "sequence: sequence which needs to be filtered, it can \n",
        "be sets, lists, tuples, or containers of any iterators.\n",
        "Returns:\n",
        "returns an iterator that is already filtered.\n",
        "Let's understand with example \n",
        "\n",
        "\n",
        "filter(function, sequence)"
      ]
    },
    {
      "cell_type": "code",
      "metadata": {
        "colab": {
          "base_uri": "https://localhost:8080/"
        },
        "id": "GR3gWbbU8-5U",
        "outputId": "2710047f-210e-48b8-ac94-9aa0481a7d7f"
      },
      "source": [
        "def is_even(n) :\n",
        "  return  n%2==0\n",
        "\n",
        "num =[3,2,6,4,5,8,9]\n",
        " \n",
        "evens = list(filter(is_even,num))\n",
        "print(evens)\n"
      ],
      "execution_count": null,
      "outputs": [
        {
          "output_type": "stream",
          "name": "stdout",
          "text": [
            "[2, 6, 4, 8]\n"
          ]
        }
      ]
    },
    {
      "cell_type": "markdown",
      "metadata": {
        "id": "KH3b0eXSAt6F"
      },
      "source": [
        "# But here it is very customized and all code and line of expression just for one result here we can use lambda  function ."
      ]
    },
    {
      "cell_type": "code",
      "metadata": {
        "colab": {
          "base_uri": "https://localhost:8080/"
        },
        "id": "w2YuqFRDA5KZ",
        "outputId": "bace832d-6378-4a21-812e-a052993b68ab"
      },
      "source": [
        "# It's make code cooler and elegant  and in one line it gets solved .\n",
        "num =[3,2,6,4,5,8,9]\n",
        "is_even = list(filter(lambda n :n%2==0,num))\n",
        "print(is_even)\n",
        "\n"
      ],
      "execution_count": null,
      "outputs": [
        {
          "output_type": "stream",
          "name": "stdout",
          "text": [
            "[2, 6, 4, 8]\n"
          ]
        }
      ]
    },
    {
      "cell_type": "markdown",
      "metadata": {
        "id": "P-Pp0cZ2FJbJ"
      },
      "source": [
        "## Map Function \n",
        "\n",
        "map() function returns a map object(which is an iterator) of the results after applying the given function to each item of a given iterable (list, tuple etc.)\n",
        "\n",
        "\n",
        "map(fun, iter)\n",
        "\n",
        "Parameters:\n",
        "function: function that tests if each element of a \n",
        "sequence true or not.\n",
        "sequence: sequence which needs to be filtered, it can \n",
        "be sets, lists, tuples, or containers of any iterators.\n",
        "Returns:\n",
        "returns an iterator that is already filtered."
      ]
    },
    {
      "cell_type": "markdown",
      "metadata": {
        "id": "kmaH1aRcGeOE"
      },
      "source": [
        "Here what we want  is square of this number (obviously) in the list   & we will not use def function because the whole purpose of this is to create square of number instead of that we will use lambda function in itself as we have use in  filter function ."
      ]
    },
    {
      "cell_type": "code",
      "metadata": {
        "colab": {
          "base_uri": "https://localhost:8080/"
        },
        "id": "AoZ3YCiyFlZl",
        "outputId": "3f2fcb94-0213-46f2-9cbb-81277ea27e6c"
      },
      "source": [
        "num =[3,2,6,4,5,8,9]\n",
        "\n",
        "double =list(map(lambda n :n*2 , num))\n",
        "print(double)\n",
        "\n"
      ],
      "execution_count": null,
      "outputs": [
        {
          "output_type": "stream",
          "name": "stdout",
          "text": [
            "[6, 4, 12, 8, 10, 16, 18]\n"
          ]
        }
      ]
    },
    {
      "cell_type": "markdown",
      "metadata": {
        "id": "9OFcTK4wNDaA"
      },
      "source": [
        "## Reduce Function \n",
        "\n",
        "\n",
        "The reduce(fun,seq) function is used to apply a particular function passed in its argument to all of the list elements mentioned in the sequence passed along.This function is defined in “functools” module.\n",
        "\n",
        "\n",
        "At first step, first two elements of sequence are picked and the result is obtained.\n",
        "\n",
        "\n",
        "Next step is to apply the same function to the previously attained result and the number just succeeding the second element and the result is again stored.\n",
        "\n",
        "\n",
        "\n",
        "This process continues till no more elements are left in the container.\n",
        "The final returned result is returned and printed on console.\n",
        "\n",
        "\n",
        "syntax  = reduce(fun,seq)\n",
        "\n",
        "\n",
        "## Statement to import  reduce function from func_tools in this 2 way \n",
        "\n",
        "import reduce as functools"
      ]
    },
    {
      "cell_type": "markdown",
      "metadata": {
        "id": "hhscfuqlQGi3"
      },
      "source": [
        "1. Here in 1st alternative  we will use def function "
      ]
    },
    {
      "cell_type": "code",
      "metadata": {
        "colab": {
          "base_uri": "https://localhost:8080/"
        },
        "id": "-lQpe556NtM5",
        "outputId": "a098a9e1-41a0-4534-a713-60e40ce97527"
      },
      "source": [
        "# Statement to module \n",
        "# Using def function  \n",
        "\n",
        "from functools import reduce\n",
        " \n",
        "def add_all(a,b) :\n",
        "  return a+b \n",
        "\n",
        "total_sum  = reduce (add_all , double )\n",
        "print(total_sum)\n",
        "\n",
        "\n"
      ],
      "execution_count": null,
      "outputs": [
        {
          "output_type": "stream",
          "name": "stdout",
          "text": [
            "74\n"
          ]
        }
      ]
    },
    {
      "cell_type": "code",
      "metadata": {
        "colab": {
          "base_uri": "https://localhost:8080/"
        },
        "id": "KCSodhmVT8V1",
        "outputId": "93e8a84a-3fdb-4837-aaa6-ef7af510de4e"
      },
      "source": [
        "# Using Lambda Function  (so no creation of def function)\n",
        "\n",
        "total_sum = (reduce (lambda a,b :a+b,double)) \n",
        "print(total_sum)\n"
      ],
      "execution_count": null,
      "outputs": [
        {
          "output_type": "stream",
          "name": "stdout",
          "text": [
            "74\n"
          ]
        }
      ]
    },
    {
      "cell_type": "markdown",
      "metadata": {
        "id": "vs0wCcLJRhM_"
      },
      "source": [
        "## We can also add default value in terms of  (arg1) , (arg2) so that if we don't add any value in  after function creation it will take default value so that after running code it will not show any error you can check preceding example ."
      ]
    },
    {
      "cell_type": "code",
      "source": [
        "1+1"
      ],
      "metadata": {
        "colab": {
          "base_uri": "https://localhost:8080/"
        },
        "id": "YF0BbufKcuz6",
        "outputId": "be61aed5-8a5f-4731-b7a7-3c0dcf26238a"
      },
      "execution_count": null,
      "outputs": [
        {
          "output_type": "execute_result",
          "data": {
            "text/plain": [
              "2"
            ]
          },
          "metadata": {},
          "execution_count": 9
        }
      ]
    },
    {
      "cell_type": "code",
      "source": [
        ""
      ],
      "metadata": {
        "id": "vbTnzgyncwFK"
      },
      "execution_count": null,
      "outputs": []
    }
  ]
}