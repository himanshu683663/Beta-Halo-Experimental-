{
  "nbformat": 4,
  "nbformat_minor": 0,
  "metadata": {
    "colab": {
      "name": "Regular Expressions ",
      "provenance": [],
      "collapsed_sections": [],
      "authorship_tag": "ABX9TyPngrNwik5qN3qe3TwM7iep",
      "include_colab_link": true
    },
    "kernelspec": {
      "name": "python3",
      "display_name": "Python 3"
    },
    "language_info": {
      "name": "python"
    }
  },
  "cells": [
    {
      "cell_type": "markdown",
      "metadata": {
        "id": "view-in-github",
        "colab_type": "text"
      },
      "source": [
        "<a href=\"https://colab.research.google.com/github/himanshu683663/Beta-Halo-Experimental-/blob/main/Regular_Expressions.ipynb\" target=\"_parent\"><img src=\"https://colab.research.google.com/assets/colab-badge.svg\" alt=\"Open In Colab\"/></a>"
      ]
    },
    {
      "cell_type": "markdown",
      "metadata": {
        "id": "oShStjIMwiib"
      },
      "source": [
        "## Regular Expression \n",
        "\n",
        "A sequence of symbols and characters expressing a string or pattern to be searched for within a longer piece of text.\n",
        "\n",
        "A Reg Ex , or Regular  Expression , is a sequence of characters that forms a search patterns .\n",
        "\n",
        "RegEx can be used to check if a string contains the specified search patterns .\n",
        "\n",
        "\n",
        "\n",
        "#RegEx Module \n",
        "\n",
        "Python has built in package called re , which can be used to work with regular expressions .\n",
        "\n",
        "\n",
        "Import the re module \n",
        "\n",
        "\n",
        "## Main Reg ex functions \n",
        "\n",
        "\n",
        "The re module offers a set of functions that allows us to search a string for a match .\n",
        "\n",
        "\n",
        " Functions                              Description \n",
        "\n",
        "finditer                         The re.finditer() works exactly the same as \n",
        "\n",
        "                                 as the re.findall() method except it returns\n",
        "\n",
        "                                 an iterator yielding match objects matching \n",
        "\n",
        "                                 regrex pattern in a sttring instead of a list .\n",
        "\n",
        "                            \n",
        "\n",
        "\n",
        "\n",
        "findall                          Return a list containing all matches .\n",
        "\n",
        "\n",
        "search                           Return a Match object if there is a match \n",
        "                                 anywhere in the string .\n",
        "\n",
        "\n",
        "\n",
        "\n",
        "\n",
        "split                            Return a list where the string has been \n",
        "                                 split at  each match .\n",
        "\n",
        "\n",
        "\n",
        "\n",
        "\n",
        "\n",
        "\n",
        "\n",
        "\n",
        "sub                              Replaces one or many matches with a string ."
      ]
    },
    {
      "cell_type": "markdown",
      "metadata": {
        "id": "0VSOHv2_a2hV"
      },
      "source": [
        ""
      ]
    },
    {
      "cell_type": "markdown",
      "metadata": {
        "id": "Lm0F-zCba2tS"
      },
      "source": [
        "## Compiler ##\n",
        "\n",
        "\n",
        "A compiler is a computer program that translates computer code written in one programming language (the source language) into another language (the target language). The name \"compiler\" is primarily used for programs that translate source code from a high-level programming language to a lower level language (e.g. assembly language, object code, or machine code) to create an executable program"
      ]
    },
    {
      "cell_type": "markdown",
      "metadata": {
        "id": "Kc34-8rQ6-Ub"
      },
      "source": [
        "## Find iter Function  (metacharacter) is available in folder)\n",
        "\n",
        "re.finditer() works exactly the same as the re.findall() method except it returns an iterator yielding match objects matching the regex pattern in a string instead of a list.\n",
        "\n",
        "It scans the string from left to right, and matches are returned in the iterator form. Later, we can use this iterator object to extract all matches.\n",
        "\n",
        "In simple words, finditer() returns an iterator over MatchObject objects."
      ]
    },
    {
      "cell_type": "markdown",
      "metadata": {
        "id": "ZsjNyKXqcVaL"
      },
      "source": [
        "Example  Q.1  \n",
        "\n",
        "mystr = '''Tata Limited\n",
        "Dr. David Landsman, executive director\n",
        "18, Grosvenor Place\n",
        "London SW1X 7HSc\n",
        "Phone: +44 (20) 7235 8281\n",
        "Fax: +44 (20) 7235 8727\n",
        "Email: tata@tata.co.uk\n",
        "Website: www.europe.tata.com\n",
        "Directions: View map\n",
        "\n",
        "Tata Sons, North America\n",
        "1700 North Moore St, Suite 1520\n",
        "Arlington, VA 22209-1911\n",
        "USA\n",
        "Phone: +1 (703) 243 9787\n",
        "Fax: +1 (703) 243 9791\n",
        "66-66\n",
        "455-4545\n",
        "Email: northamerica@tata.com \n",
        "Website: www.northamerica.tata.com\n",
        "Directions: View map fass\n",
        "harry bhai lekin\n",
        "bahut hi badia aadmi haiaiinaiiiiiiiiiiii'''\n",
        "\n",
        "\n",
        "\n",
        "\n",
        "Strin is given  Find out the positional value 'fass' in my string  ..... ??"
      ]
    },
    {
      "cell_type": "code",
      "metadata": {
        "id": "D6pPtwO6xHPi"
      },
      "source": [
        "import re \n",
        "\n",
        "mystr = '''Tata Limited\n",
        "Dr. David Landsman, executive director\n",
        "18, Grosvenor Place\n",
        "London SW1X 7HSc\n",
        "Phone: +44 (20) 7235 8281\n",
        "Fax: +44 (20) 7235 8727\n",
        "Email: tata@tata.co.uk\n",
        "Website: www.europe.tata.com\n",
        "Directions: View map\n",
        "\n",
        "Tata Sons, North America\n",
        "1700 North Moore St, Suite 1520\n",
        "Arlington, VA 22209-1911\n",
        "USA\n",
        "Phone: +1 (703) 243 9787\n",
        "Fax: +1 (703) 243 9791\n",
        "66-66\n",
        "455-4545\n",
        "Email: northamerica@tata.com \n",
        "Website: www.northamerica.tata.com\n",
        "Directions: View map fass\n",
        "harry bhai lekin\n",
        "bahut hi badia aadmi haiaiinaaiiiiiiiiiiii'''\n"
      ],
      "execution_count": null,
      "outputs": []
    },
    {
      "cell_type": "code",
      "metadata": {
        "id": "VbJupPcUYSp9",
        "colab": {
          "base_uri": "https://localhost:8080/"
        },
        "outputId": "2f3ac6ba-9a79-4749-c44c-23d72255174e"
      },
      "source": [
        "# Pl check out  how iterator is used \n",
        "pattern =  re.finditer(r'fass',mystr)\n",
        "\n",
        "for match in pattern :\n",
        "  print(match)\n",
        "\n",
        "print(mystr[448:452])"
      ],
      "execution_count": null,
      "outputs": [
        {
          "output_type": "stream",
          "name": "stdout",
          "text": [
            "<re.Match object; span=(448, 452), match='fass'>\n",
            "fass\n"
          ]
        }
      ]
    },
    {
      "cell_type": "markdown",
      "metadata": {
        "id": "MSEh6dPOfM3O"
      },
      "source": [
        "Ex 2 What if we want any character  then we will use (.) signify - Meta Character  w e can see in words "
      ]
    },
    {
      "cell_type": "code",
      "metadata": {
        "id": "0Fxx4rITblwE",
        "colab": {
          "base_uri": "https://localhost:8080/"
        },
        "outputId": "33f564bc-ce3a-45aa-c14a-9fad43871ca9"
      },
      "source": [
        "# Obviously  it will print entire character because (.) means any character \n",
        "# & it will print all character \n",
        "\n",
        "pattern = re.finditer(r'.',mystr)\n",
        "\n",
        "for match in pattern :\n",
        "  print(match)\n",
        "\n",
        "  "
      ],
      "execution_count": null,
      "outputs": [
        {
          "output_type": "stream",
          "name": "stdout",
          "text": [
            "<re.Match object; span=(0, 1), match='T'>\n",
            "<re.Match object; span=(1, 2), match='a'>\n",
            "<re.Match object; span=(2, 3), match='t'>\n",
            "<re.Match object; span=(3, 4), match='a'>\n",
            "<re.Match object; span=(4, 5), match=' '>\n",
            "<re.Match object; span=(5, 6), match='L'>\n",
            "<re.Match object; span=(6, 7), match='i'>\n",
            "<re.Match object; span=(7, 8), match='m'>\n",
            "<re.Match object; span=(8, 9), match='i'>\n",
            "<re.Match object; span=(9, 10), match='t'>\n",
            "<re.Match object; span=(10, 11), match='e'>\n",
            "<re.Match object; span=(11, 12), match='d'>\n",
            "<re.Match object; span=(13, 14), match='D'>\n",
            "<re.Match object; span=(14, 15), match='r'>\n",
            "<re.Match object; span=(15, 16), match='.'>\n",
            "<re.Match object; span=(16, 17), match=' '>\n",
            "<re.Match object; span=(17, 18), match='D'>\n",
            "<re.Match object; span=(18, 19), match='a'>\n",
            "<re.Match object; span=(19, 20), match='v'>\n",
            "<re.Match object; span=(20, 21), match='i'>\n",
            "<re.Match object; span=(21, 22), match='d'>\n",
            "<re.Match object; span=(22, 23), match=' '>\n",
            "<re.Match object; span=(23, 24), match='L'>\n",
            "<re.Match object; span=(24, 25), match='a'>\n",
            "<re.Match object; span=(25, 26), match='n'>\n",
            "<re.Match object; span=(26, 27), match='d'>\n",
            "<re.Match object; span=(27, 28), match='s'>\n",
            "<re.Match object; span=(28, 29), match='m'>\n",
            "<re.Match object; span=(29, 30), match='a'>\n",
            "<re.Match object; span=(30, 31), match='n'>\n",
            "<re.Match object; span=(31, 32), match=','>\n",
            "<re.Match object; span=(32, 33), match=' '>\n",
            "<re.Match object; span=(33, 34), match='e'>\n",
            "<re.Match object; span=(34, 35), match='x'>\n",
            "<re.Match object; span=(35, 36), match='e'>\n",
            "<re.Match object; span=(36, 37), match='c'>\n",
            "<re.Match object; span=(37, 38), match='u'>\n",
            "<re.Match object; span=(38, 39), match='t'>\n",
            "<re.Match object; span=(39, 40), match='i'>\n",
            "<re.Match object; span=(40, 41), match='v'>\n",
            "<re.Match object; span=(41, 42), match='e'>\n",
            "<re.Match object; span=(42, 43), match=' '>\n",
            "<re.Match object; span=(43, 44), match='d'>\n",
            "<re.Match object; span=(44, 45), match='i'>\n",
            "<re.Match object; span=(45, 46), match='r'>\n",
            "<re.Match object; span=(46, 47), match='e'>\n",
            "<re.Match object; span=(47, 48), match='c'>\n",
            "<re.Match object; span=(48, 49), match='t'>\n",
            "<re.Match object; span=(49, 50), match='o'>\n",
            "<re.Match object; span=(50, 51), match='r'>\n",
            "<re.Match object; span=(52, 53), match='1'>\n",
            "<re.Match object; span=(53, 54), match='8'>\n",
            "<re.Match object; span=(54, 55), match=','>\n",
            "<re.Match object; span=(55, 56), match=' '>\n",
            "<re.Match object; span=(56, 57), match='G'>\n",
            "<re.Match object; span=(57, 58), match='r'>\n",
            "<re.Match object; span=(58, 59), match='o'>\n",
            "<re.Match object; span=(59, 60), match='s'>\n",
            "<re.Match object; span=(60, 61), match='v'>\n",
            "<re.Match object; span=(61, 62), match='e'>\n",
            "<re.Match object; span=(62, 63), match='n'>\n",
            "<re.Match object; span=(63, 64), match='o'>\n",
            "<re.Match object; span=(64, 65), match='r'>\n",
            "<re.Match object; span=(65, 66), match=' '>\n",
            "<re.Match object; span=(66, 67), match='P'>\n",
            "<re.Match object; span=(67, 68), match='l'>\n",
            "<re.Match object; span=(68, 69), match='a'>\n",
            "<re.Match object; span=(69, 70), match='c'>\n",
            "<re.Match object; span=(70, 71), match='e'>\n",
            "<re.Match object; span=(72, 73), match='L'>\n",
            "<re.Match object; span=(73, 74), match='o'>\n",
            "<re.Match object; span=(74, 75), match='n'>\n",
            "<re.Match object; span=(75, 76), match='d'>\n",
            "<re.Match object; span=(76, 77), match='o'>\n",
            "<re.Match object; span=(77, 78), match='n'>\n",
            "<re.Match object; span=(78, 79), match=' '>\n",
            "<re.Match object; span=(79, 80), match='S'>\n",
            "<re.Match object; span=(80, 81), match='W'>\n",
            "<re.Match object; span=(81, 82), match='1'>\n",
            "<re.Match object; span=(82, 83), match='X'>\n",
            "<re.Match object; span=(83, 84), match=' '>\n",
            "<re.Match object; span=(84, 85), match='7'>\n",
            "<re.Match object; span=(85, 86), match='H'>\n",
            "<re.Match object; span=(86, 87), match='S'>\n",
            "<re.Match object; span=(87, 88), match='c'>\n",
            "<re.Match object; span=(89, 90), match='P'>\n",
            "<re.Match object; span=(90, 91), match='h'>\n",
            "<re.Match object; span=(91, 92), match='o'>\n",
            "<re.Match object; span=(92, 93), match='n'>\n",
            "<re.Match object; span=(93, 94), match='e'>\n",
            "<re.Match object; span=(94, 95), match=':'>\n",
            "<re.Match object; span=(95, 96), match=' '>\n",
            "<re.Match object; span=(96, 97), match='+'>\n",
            "<re.Match object; span=(97, 98), match='4'>\n",
            "<re.Match object; span=(98, 99), match='4'>\n",
            "<re.Match object; span=(99, 100), match=' '>\n",
            "<re.Match object; span=(100, 101), match='('>\n",
            "<re.Match object; span=(101, 102), match='2'>\n",
            "<re.Match object; span=(102, 103), match='0'>\n",
            "<re.Match object; span=(103, 104), match=')'>\n",
            "<re.Match object; span=(104, 105), match=' '>\n",
            "<re.Match object; span=(105, 106), match='7'>\n",
            "<re.Match object; span=(106, 107), match='2'>\n",
            "<re.Match object; span=(107, 108), match='3'>\n",
            "<re.Match object; span=(108, 109), match='5'>\n",
            "<re.Match object; span=(109, 110), match=' '>\n",
            "<re.Match object; span=(110, 111), match='8'>\n",
            "<re.Match object; span=(111, 112), match='2'>\n",
            "<re.Match object; span=(112, 113), match='8'>\n",
            "<re.Match object; span=(113, 114), match='1'>\n",
            "<re.Match object; span=(115, 116), match='F'>\n",
            "<re.Match object; span=(116, 117), match='a'>\n",
            "<re.Match object; span=(117, 118), match='x'>\n",
            "<re.Match object; span=(118, 119), match=':'>\n",
            "<re.Match object; span=(119, 120), match=' '>\n",
            "<re.Match object; span=(120, 121), match='+'>\n",
            "<re.Match object; span=(121, 122), match='4'>\n",
            "<re.Match object; span=(122, 123), match='4'>\n",
            "<re.Match object; span=(123, 124), match=' '>\n",
            "<re.Match object; span=(124, 125), match='('>\n",
            "<re.Match object; span=(125, 126), match='2'>\n",
            "<re.Match object; span=(126, 127), match='0'>\n",
            "<re.Match object; span=(127, 128), match=')'>\n",
            "<re.Match object; span=(128, 129), match=' '>\n",
            "<re.Match object; span=(129, 130), match='7'>\n",
            "<re.Match object; span=(130, 131), match='2'>\n",
            "<re.Match object; span=(131, 132), match='3'>\n",
            "<re.Match object; span=(132, 133), match='5'>\n",
            "<re.Match object; span=(133, 134), match=' '>\n",
            "<re.Match object; span=(134, 135), match='8'>\n",
            "<re.Match object; span=(135, 136), match='7'>\n",
            "<re.Match object; span=(136, 137), match='2'>\n",
            "<re.Match object; span=(137, 138), match='7'>\n",
            "<re.Match object; span=(139, 140), match='E'>\n",
            "<re.Match object; span=(140, 141), match='m'>\n",
            "<re.Match object; span=(141, 142), match='a'>\n",
            "<re.Match object; span=(142, 143), match='i'>\n",
            "<re.Match object; span=(143, 144), match='l'>\n",
            "<re.Match object; span=(144, 145), match=':'>\n",
            "<re.Match object; span=(145, 146), match=' '>\n",
            "<re.Match object; span=(146, 147), match='t'>\n",
            "<re.Match object; span=(147, 148), match='a'>\n",
            "<re.Match object; span=(148, 149), match='t'>\n",
            "<re.Match object; span=(149, 150), match='a'>\n",
            "<re.Match object; span=(150, 151), match='@'>\n",
            "<re.Match object; span=(151, 152), match='t'>\n",
            "<re.Match object; span=(152, 153), match='a'>\n",
            "<re.Match object; span=(153, 154), match='t'>\n",
            "<re.Match object; span=(154, 155), match='a'>\n",
            "<re.Match object; span=(155, 156), match='.'>\n",
            "<re.Match object; span=(156, 157), match='c'>\n",
            "<re.Match object; span=(157, 158), match='o'>\n",
            "<re.Match object; span=(158, 159), match='.'>\n",
            "<re.Match object; span=(159, 160), match='u'>\n",
            "<re.Match object; span=(160, 161), match='k'>\n",
            "<re.Match object; span=(162, 163), match='W'>\n",
            "<re.Match object; span=(163, 164), match='e'>\n",
            "<re.Match object; span=(164, 165), match='b'>\n",
            "<re.Match object; span=(165, 166), match='s'>\n",
            "<re.Match object; span=(166, 167), match='i'>\n",
            "<re.Match object; span=(167, 168), match='t'>\n",
            "<re.Match object; span=(168, 169), match='e'>\n",
            "<re.Match object; span=(169, 170), match=':'>\n",
            "<re.Match object; span=(170, 171), match=' '>\n",
            "<re.Match object; span=(171, 172), match='w'>\n",
            "<re.Match object; span=(172, 173), match='w'>\n",
            "<re.Match object; span=(173, 174), match='w'>\n",
            "<re.Match object; span=(174, 175), match='.'>\n",
            "<re.Match object; span=(175, 176), match='e'>\n",
            "<re.Match object; span=(176, 177), match='u'>\n",
            "<re.Match object; span=(177, 178), match='r'>\n",
            "<re.Match object; span=(178, 179), match='o'>\n",
            "<re.Match object; span=(179, 180), match='p'>\n",
            "<re.Match object; span=(180, 181), match='e'>\n",
            "<re.Match object; span=(181, 182), match='.'>\n",
            "<re.Match object; span=(182, 183), match='t'>\n",
            "<re.Match object; span=(183, 184), match='a'>\n",
            "<re.Match object; span=(184, 185), match='t'>\n",
            "<re.Match object; span=(185, 186), match='a'>\n",
            "<re.Match object; span=(186, 187), match='.'>\n",
            "<re.Match object; span=(187, 188), match='c'>\n",
            "<re.Match object; span=(188, 189), match='o'>\n",
            "<re.Match object; span=(189, 190), match='m'>\n",
            "<re.Match object; span=(191, 192), match='D'>\n",
            "<re.Match object; span=(192, 193), match='i'>\n",
            "<re.Match object; span=(193, 194), match='r'>\n",
            "<re.Match object; span=(194, 195), match='e'>\n",
            "<re.Match object; span=(195, 196), match='c'>\n",
            "<re.Match object; span=(196, 197), match='t'>\n",
            "<re.Match object; span=(197, 198), match='i'>\n",
            "<re.Match object; span=(198, 199), match='o'>\n",
            "<re.Match object; span=(199, 200), match='n'>\n",
            "<re.Match object; span=(200, 201), match='s'>\n",
            "<re.Match object; span=(201, 202), match=':'>\n",
            "<re.Match object; span=(202, 203), match=' '>\n",
            "<re.Match object; span=(203, 204), match='V'>\n",
            "<re.Match object; span=(204, 205), match='i'>\n",
            "<re.Match object; span=(205, 206), match='e'>\n",
            "<re.Match object; span=(206, 207), match='w'>\n",
            "<re.Match object; span=(207, 208), match=' '>\n",
            "<re.Match object; span=(208, 209), match='m'>\n",
            "<re.Match object; span=(209, 210), match='a'>\n",
            "<re.Match object; span=(210, 211), match='p'>\n",
            "<re.Match object; span=(213, 214), match='T'>\n",
            "<re.Match object; span=(214, 215), match='a'>\n",
            "<re.Match object; span=(215, 216), match='t'>\n",
            "<re.Match object; span=(216, 217), match='a'>\n",
            "<re.Match object; span=(217, 218), match=' '>\n",
            "<re.Match object; span=(218, 219), match='S'>\n",
            "<re.Match object; span=(219, 220), match='o'>\n",
            "<re.Match object; span=(220, 221), match='n'>\n",
            "<re.Match object; span=(221, 222), match='s'>\n",
            "<re.Match object; span=(222, 223), match=','>\n",
            "<re.Match object; span=(223, 224), match=' '>\n",
            "<re.Match object; span=(224, 225), match='N'>\n",
            "<re.Match object; span=(225, 226), match='o'>\n",
            "<re.Match object; span=(226, 227), match='r'>\n",
            "<re.Match object; span=(227, 228), match='t'>\n",
            "<re.Match object; span=(228, 229), match='h'>\n",
            "<re.Match object; span=(229, 230), match=' '>\n",
            "<re.Match object; span=(230, 231), match='A'>\n",
            "<re.Match object; span=(231, 232), match='m'>\n",
            "<re.Match object; span=(232, 233), match='e'>\n",
            "<re.Match object; span=(233, 234), match='r'>\n",
            "<re.Match object; span=(234, 235), match='i'>\n",
            "<re.Match object; span=(235, 236), match='c'>\n",
            "<re.Match object; span=(236, 237), match='a'>\n",
            "<re.Match object; span=(238, 239), match='1'>\n",
            "<re.Match object; span=(239, 240), match='7'>\n",
            "<re.Match object; span=(240, 241), match='0'>\n",
            "<re.Match object; span=(241, 242), match='0'>\n",
            "<re.Match object; span=(242, 243), match=' '>\n",
            "<re.Match object; span=(243, 244), match='N'>\n",
            "<re.Match object; span=(244, 245), match='o'>\n",
            "<re.Match object; span=(245, 246), match='r'>\n",
            "<re.Match object; span=(246, 247), match='t'>\n",
            "<re.Match object; span=(247, 248), match='h'>\n",
            "<re.Match object; span=(248, 249), match=' '>\n",
            "<re.Match object; span=(249, 250), match='M'>\n",
            "<re.Match object; span=(250, 251), match='o'>\n",
            "<re.Match object; span=(251, 252), match='o'>\n",
            "<re.Match object; span=(252, 253), match='r'>\n",
            "<re.Match object; span=(253, 254), match='e'>\n",
            "<re.Match object; span=(254, 255), match=' '>\n",
            "<re.Match object; span=(255, 256), match='S'>\n",
            "<re.Match object; span=(256, 257), match='t'>\n",
            "<re.Match object; span=(257, 258), match=','>\n",
            "<re.Match object; span=(258, 259), match=' '>\n",
            "<re.Match object; span=(259, 260), match='S'>\n",
            "<re.Match object; span=(260, 261), match='u'>\n",
            "<re.Match object; span=(261, 262), match='i'>\n",
            "<re.Match object; span=(262, 263), match='t'>\n",
            "<re.Match object; span=(263, 264), match='e'>\n",
            "<re.Match object; span=(264, 265), match=' '>\n",
            "<re.Match object; span=(265, 266), match='1'>\n",
            "<re.Match object; span=(266, 267), match='5'>\n",
            "<re.Match object; span=(267, 268), match='2'>\n",
            "<re.Match object; span=(268, 269), match='0'>\n",
            "<re.Match object; span=(270, 271), match='A'>\n",
            "<re.Match object; span=(271, 272), match='r'>\n",
            "<re.Match object; span=(272, 273), match='l'>\n",
            "<re.Match object; span=(273, 274), match='i'>\n",
            "<re.Match object; span=(274, 275), match='n'>\n",
            "<re.Match object; span=(275, 276), match='g'>\n",
            "<re.Match object; span=(276, 277), match='t'>\n",
            "<re.Match object; span=(277, 278), match='o'>\n",
            "<re.Match object; span=(278, 279), match='n'>\n",
            "<re.Match object; span=(279, 280), match=','>\n",
            "<re.Match object; span=(280, 281), match=' '>\n",
            "<re.Match object; span=(281, 282), match='V'>\n",
            "<re.Match object; span=(282, 283), match='A'>\n",
            "<re.Match object; span=(283, 284), match=' '>\n",
            "<re.Match object; span=(284, 285), match='2'>\n",
            "<re.Match object; span=(285, 286), match='2'>\n",
            "<re.Match object; span=(286, 287), match='2'>\n",
            "<re.Match object; span=(287, 288), match='0'>\n",
            "<re.Match object; span=(288, 289), match='9'>\n",
            "<re.Match object; span=(289, 290), match='-'>\n",
            "<re.Match object; span=(290, 291), match='1'>\n",
            "<re.Match object; span=(291, 292), match='9'>\n",
            "<re.Match object; span=(292, 293), match='1'>\n",
            "<re.Match object; span=(293, 294), match='1'>\n",
            "<re.Match object; span=(295, 296), match='U'>\n",
            "<re.Match object; span=(296, 297), match='S'>\n",
            "<re.Match object; span=(297, 298), match='A'>\n",
            "<re.Match object; span=(299, 300), match='P'>\n",
            "<re.Match object; span=(300, 301), match='h'>\n",
            "<re.Match object; span=(301, 302), match='o'>\n",
            "<re.Match object; span=(302, 303), match='n'>\n",
            "<re.Match object; span=(303, 304), match='e'>\n",
            "<re.Match object; span=(304, 305), match=':'>\n",
            "<re.Match object; span=(305, 306), match=' '>\n",
            "<re.Match object; span=(306, 307), match='+'>\n",
            "<re.Match object; span=(307, 308), match='1'>\n",
            "<re.Match object; span=(308, 309), match=' '>\n",
            "<re.Match object; span=(309, 310), match='('>\n",
            "<re.Match object; span=(310, 311), match='7'>\n",
            "<re.Match object; span=(311, 312), match='0'>\n",
            "<re.Match object; span=(312, 313), match='3'>\n",
            "<re.Match object; span=(313, 314), match=')'>\n",
            "<re.Match object; span=(314, 315), match=' '>\n",
            "<re.Match object; span=(315, 316), match='2'>\n",
            "<re.Match object; span=(316, 317), match='4'>\n",
            "<re.Match object; span=(317, 318), match='3'>\n",
            "<re.Match object; span=(318, 319), match=' '>\n",
            "<re.Match object; span=(319, 320), match='9'>\n",
            "<re.Match object; span=(320, 321), match='7'>\n",
            "<re.Match object; span=(321, 322), match='8'>\n",
            "<re.Match object; span=(322, 323), match='7'>\n",
            "<re.Match object; span=(324, 325), match='F'>\n",
            "<re.Match object; span=(325, 326), match='a'>\n",
            "<re.Match object; span=(326, 327), match='x'>\n",
            "<re.Match object; span=(327, 328), match=':'>\n",
            "<re.Match object; span=(328, 329), match=' '>\n",
            "<re.Match object; span=(329, 330), match='+'>\n",
            "<re.Match object; span=(330, 331), match='1'>\n",
            "<re.Match object; span=(331, 332), match=' '>\n",
            "<re.Match object; span=(332, 333), match='('>\n",
            "<re.Match object; span=(333, 334), match='7'>\n",
            "<re.Match object; span=(334, 335), match='0'>\n",
            "<re.Match object; span=(335, 336), match='3'>\n",
            "<re.Match object; span=(336, 337), match=')'>\n",
            "<re.Match object; span=(337, 338), match=' '>\n",
            "<re.Match object; span=(338, 339), match='2'>\n",
            "<re.Match object; span=(339, 340), match='4'>\n",
            "<re.Match object; span=(340, 341), match='3'>\n",
            "<re.Match object; span=(341, 342), match=' '>\n",
            "<re.Match object; span=(342, 343), match='9'>\n",
            "<re.Match object; span=(343, 344), match='7'>\n",
            "<re.Match object; span=(344, 345), match='9'>\n",
            "<re.Match object; span=(345, 346), match='1'>\n",
            "<re.Match object; span=(347, 348), match='6'>\n",
            "<re.Match object; span=(348, 349), match='6'>\n",
            "<re.Match object; span=(349, 350), match='-'>\n",
            "<re.Match object; span=(350, 351), match='6'>\n",
            "<re.Match object; span=(351, 352), match='6'>\n",
            "<re.Match object; span=(353, 354), match='4'>\n",
            "<re.Match object; span=(354, 355), match='5'>\n",
            "<re.Match object; span=(355, 356), match='5'>\n",
            "<re.Match object; span=(356, 357), match='-'>\n",
            "<re.Match object; span=(357, 358), match='4'>\n",
            "<re.Match object; span=(358, 359), match='5'>\n",
            "<re.Match object; span=(359, 360), match='4'>\n",
            "<re.Match object; span=(360, 361), match='5'>\n",
            "<re.Match object; span=(362, 363), match='E'>\n",
            "<re.Match object; span=(363, 364), match='m'>\n",
            "<re.Match object; span=(364, 365), match='a'>\n",
            "<re.Match object; span=(365, 366), match='i'>\n",
            "<re.Match object; span=(366, 367), match='l'>\n",
            "<re.Match object; span=(367, 368), match=':'>\n",
            "<re.Match object; span=(368, 369), match=' '>\n",
            "<re.Match object; span=(369, 370), match='n'>\n",
            "<re.Match object; span=(370, 371), match='o'>\n",
            "<re.Match object; span=(371, 372), match='r'>\n",
            "<re.Match object; span=(372, 373), match='t'>\n",
            "<re.Match object; span=(373, 374), match='h'>\n",
            "<re.Match object; span=(374, 375), match='a'>\n",
            "<re.Match object; span=(375, 376), match='m'>\n",
            "<re.Match object; span=(376, 377), match='e'>\n",
            "<re.Match object; span=(377, 378), match='r'>\n",
            "<re.Match object; span=(378, 379), match='i'>\n",
            "<re.Match object; span=(379, 380), match='c'>\n",
            "<re.Match object; span=(380, 381), match='a'>\n",
            "<re.Match object; span=(381, 382), match='@'>\n",
            "<re.Match object; span=(382, 383), match='t'>\n",
            "<re.Match object; span=(383, 384), match='a'>\n",
            "<re.Match object; span=(384, 385), match='t'>\n",
            "<re.Match object; span=(385, 386), match='a'>\n",
            "<re.Match object; span=(386, 387), match='.'>\n",
            "<re.Match object; span=(387, 388), match='c'>\n",
            "<re.Match object; span=(388, 389), match='o'>\n",
            "<re.Match object; span=(389, 390), match='m'>\n",
            "<re.Match object; span=(390, 391), match=' '>\n",
            "<re.Match object; span=(392, 393), match='W'>\n",
            "<re.Match object; span=(393, 394), match='e'>\n",
            "<re.Match object; span=(394, 395), match='b'>\n",
            "<re.Match object; span=(395, 396), match='s'>\n",
            "<re.Match object; span=(396, 397), match='i'>\n",
            "<re.Match object; span=(397, 398), match='t'>\n",
            "<re.Match object; span=(398, 399), match='e'>\n",
            "<re.Match object; span=(399, 400), match=':'>\n",
            "<re.Match object; span=(400, 401), match=' '>\n",
            "<re.Match object; span=(401, 402), match='w'>\n",
            "<re.Match object; span=(402, 403), match='w'>\n",
            "<re.Match object; span=(403, 404), match='w'>\n",
            "<re.Match object; span=(404, 405), match='.'>\n",
            "<re.Match object; span=(405, 406), match='n'>\n",
            "<re.Match object; span=(406, 407), match='o'>\n",
            "<re.Match object; span=(407, 408), match='r'>\n",
            "<re.Match object; span=(408, 409), match='t'>\n",
            "<re.Match object; span=(409, 410), match='h'>\n",
            "<re.Match object; span=(410, 411), match='a'>\n",
            "<re.Match object; span=(411, 412), match='m'>\n",
            "<re.Match object; span=(412, 413), match='e'>\n",
            "<re.Match object; span=(413, 414), match='r'>\n",
            "<re.Match object; span=(414, 415), match='i'>\n",
            "<re.Match object; span=(415, 416), match='c'>\n",
            "<re.Match object; span=(416, 417), match='a'>\n",
            "<re.Match object; span=(417, 418), match='.'>\n",
            "<re.Match object; span=(418, 419), match='t'>\n",
            "<re.Match object; span=(419, 420), match='a'>\n",
            "<re.Match object; span=(420, 421), match='t'>\n",
            "<re.Match object; span=(421, 422), match='a'>\n",
            "<re.Match object; span=(422, 423), match='.'>\n",
            "<re.Match object; span=(423, 424), match='c'>\n",
            "<re.Match object; span=(424, 425), match='o'>\n",
            "<re.Match object; span=(425, 426), match='m'>\n",
            "<re.Match object; span=(427, 428), match='D'>\n",
            "<re.Match object; span=(428, 429), match='i'>\n",
            "<re.Match object; span=(429, 430), match='r'>\n",
            "<re.Match object; span=(430, 431), match='e'>\n",
            "<re.Match object; span=(431, 432), match='c'>\n",
            "<re.Match object; span=(432, 433), match='t'>\n",
            "<re.Match object; span=(433, 434), match='i'>\n",
            "<re.Match object; span=(434, 435), match='o'>\n",
            "<re.Match object; span=(435, 436), match='n'>\n",
            "<re.Match object; span=(436, 437), match='s'>\n",
            "<re.Match object; span=(437, 438), match=':'>\n",
            "<re.Match object; span=(438, 439), match=' '>\n",
            "<re.Match object; span=(439, 440), match='V'>\n",
            "<re.Match object; span=(440, 441), match='i'>\n",
            "<re.Match object; span=(441, 442), match='e'>\n",
            "<re.Match object; span=(442, 443), match='w'>\n",
            "<re.Match object; span=(443, 444), match=' '>\n",
            "<re.Match object; span=(444, 445), match='m'>\n",
            "<re.Match object; span=(445, 446), match='a'>\n",
            "<re.Match object; span=(446, 447), match='p'>\n",
            "<re.Match object; span=(447, 448), match=' '>\n",
            "<re.Match object; span=(448, 449), match='f'>\n",
            "<re.Match object; span=(449, 450), match='a'>\n",
            "<re.Match object; span=(450, 451), match='s'>\n",
            "<re.Match object; span=(451, 452), match='s'>\n",
            "<re.Match object; span=(453, 454), match='h'>\n",
            "<re.Match object; span=(454, 455), match='a'>\n",
            "<re.Match object; span=(455, 456), match='r'>\n",
            "<re.Match object; span=(456, 457), match='r'>\n",
            "<re.Match object; span=(457, 458), match='y'>\n",
            "<re.Match object; span=(458, 459), match=' '>\n",
            "<re.Match object; span=(459, 460), match='b'>\n",
            "<re.Match object; span=(460, 461), match='h'>\n",
            "<re.Match object; span=(461, 462), match='a'>\n",
            "<re.Match object; span=(462, 463), match='i'>\n",
            "<re.Match object; span=(463, 464), match=' '>\n",
            "<re.Match object; span=(464, 465), match='l'>\n",
            "<re.Match object; span=(465, 466), match='e'>\n",
            "<re.Match object; span=(466, 467), match='k'>\n",
            "<re.Match object; span=(467, 468), match='i'>\n",
            "<re.Match object; span=(468, 469), match='n'>\n",
            "<re.Match object; span=(470, 471), match='b'>\n",
            "<re.Match object; span=(471, 472), match='a'>\n",
            "<re.Match object; span=(472, 473), match='h'>\n",
            "<re.Match object; span=(473, 474), match='u'>\n",
            "<re.Match object; span=(474, 475), match='t'>\n",
            "<re.Match object; span=(475, 476), match=' '>\n",
            "<re.Match object; span=(476, 477), match='h'>\n",
            "<re.Match object; span=(477, 478), match='i'>\n",
            "<re.Match object; span=(478, 479), match=' '>\n",
            "<re.Match object; span=(479, 480), match='b'>\n",
            "<re.Match object; span=(480, 481), match='a'>\n",
            "<re.Match object; span=(481, 482), match='d'>\n",
            "<re.Match object; span=(482, 483), match='i'>\n",
            "<re.Match object; span=(483, 484), match='a'>\n",
            "<re.Match object; span=(484, 485), match=' '>\n",
            "<re.Match object; span=(485, 486), match='a'>\n",
            "<re.Match object; span=(486, 487), match='a'>\n",
            "<re.Match object; span=(487, 488), match='d'>\n",
            "<re.Match object; span=(488, 489), match='m'>\n",
            "<re.Match object; span=(489, 490), match='i'>\n",
            "<re.Match object; span=(490, 491), match=' '>\n",
            "<re.Match object; span=(491, 492), match='h'>\n",
            "<re.Match object; span=(492, 493), match='a'>\n",
            "<re.Match object; span=(493, 494), match='i'>\n",
            "<re.Match object; span=(494, 495), match='a'>\n",
            "<re.Match object; span=(495, 496), match='i'>\n",
            "<re.Match object; span=(496, 497), match='i'>\n",
            "<re.Match object; span=(497, 498), match='n'>\n",
            "<re.Match object; span=(498, 499), match='a'>\n",
            "<re.Match object; span=(499, 500), match='a'>\n",
            "<re.Match object; span=(500, 501), match='i'>\n",
            "<re.Match object; span=(501, 502), match='i'>\n",
            "<re.Match object; span=(502, 503), match='i'>\n",
            "<re.Match object; span=(503, 504), match='i'>\n",
            "<re.Match object; span=(504, 505), match='i'>\n",
            "<re.Match object; span=(505, 506), match='i'>\n",
            "<re.Match object; span=(506, 507), match='i'>\n",
            "<re.Match object; span=(507, 508), match='i'>\n",
            "<re.Match object; span=(508, 509), match='i'>\n",
            "<re.Match object; span=(509, 510), match='i'>\n",
            "<re.Match object; span=(510, 511), match='i'>\n",
            "<re.Match object; span=(511, 512), match='i'>\n"
          ]
        }
      ]
    },
    {
      "cell_type": "code",
      "metadata": {
        "id": "8Z3_rB5VW2ON",
        "colab": {
          "base_uri": "https://localhost:8080/"
        },
        "outputId": "72b4dbac-bb20-4730-9c80-fe42e405cc1b"
      },
      "source": [
        "# If we want to print (.& some character like adm ) \n",
        "\n",
        "pattern = re.finditer(r'.adm',mystr)\n",
        "\n",
        "for match in pattern :\n",
        "  print(match)"
      ],
      "execution_count": null,
      "outputs": [
        {
          "output_type": "stream",
          "name": "stdout",
          "text": [
            "<re.Match object; span=(485, 489), match='aadm'>\n"
          ]
        }
      ]
    },
    {
      "cell_type": "markdown",
      "metadata": {
        "id": "i9AGxjpPYgOt"
      },
      "source": [
        "Q How to use meta character ^ - meaning start with in meta characters "
      ]
    },
    {
      "cell_type": "code",
      "metadata": {
        "id": "JuzXqVJHMVPD"
      },
      "source": [
        "\n",
        "import re \n",
        "\n",
        "pattern = re.finditer(r'^email',mystr)\n",
        "\n",
        "for match in pattern :\n",
        "  print(match)"
      ],
      "execution_count": null,
      "outputs": []
    },
    {
      "cell_type": "markdown",
      "metadata": {
        "id": "kPHhswdJ48Ot"
      },
      "source": [
        "Obviously because (^) sign  connotes first matches the beginning of the input  so there is no match so it will not return any output ."
      ]
    },
    {
      "cell_type": "code",
      "metadata": {
        "id": "nCCjocMbH0MO",
        "colab": {
          "base_uri": "https://localhost:8080/"
        },
        "outputId": "e3015fbf-8bdd-49c2-b16f-3ec757034917"
      },
      "source": [
        "# we know first letter is Tata \n",
        "\n",
        "pattern = re.finditer(r'^Tata',mystr)\n",
        "\n",
        "for match in pattern :\n",
        "  print(match)\n",
        "\n"
      ],
      "execution_count": null,
      "outputs": [
        {
          "output_type": "stream",
          "name": "stdout",
          "text": [
            "<re.Match object; span=(0, 4), match='Tata'>\n"
          ]
        }
      ]
    },
    {
      "cell_type": "markdown",
      "metadata": {
        "id": "88P9QcR_5_jh"
      },
      "source": [
        "As we can see here First letter is Tata as it matches with the first letter of input that' why it derives the result ."
      ]
    },
    {
      "cell_type": "markdown",
      "metadata": {
        "id": "JFKsPmnc6dml"
      },
      "source": [
        "## Q  Meta character $ in the end signify character ending and matches with end of input . let's take an example "
      ]
    },
    {
      "cell_type": "code",
      "metadata": {
        "id": "9kgE0XLq7CJ8"
      },
      "source": [
        "import re\n",
        "# No result because fax is not last input in mystr that's why no result .\n",
        "pattern = re.finditer(r'$Fax',mystr)\n",
        "for match in pattern :\n",
        "  print(match)\n",
        "\n",
        "\n",
        "\n",
        "# What if there is last input   and we connote with finditer function \n",
        "\n",
        "\n",
        "pattern =  re.finditer(r'haiaiinaiiiiiiiiiiii$',mystr)\n",
        "for match in pattern :\n",
        "  print(match)"
      ],
      "execution_count": null,
      "outputs": []
    },
    {
      "cell_type": "markdown",
      "metadata": {
        "id": "A8LQRuNL8EB2"
      },
      "source": [
        ""
      ]
    },
    {
      "cell_type": "markdown",
      "metadata": {
        "id": "encSrSSO8EKv"
      },
      "source": [
        " if concerned in put is the last input then it will derive the actual position of the input and yield output because we are using $ (meta characters) which used for find match with last input ."
      ]
    },
    {
      "cell_type": "markdown",
      "metadata": {
        "id": "ErsBuw1s8_3U"
      },
      "source": [
        "## Meta Characters  ( * )  means kitni bhi characters ho usko pakad lena  in other words matches the preceding character 0 or more times . ex \n",
        "\n",
        "a."
      ]
    },
    {
      "cell_type": "code",
      "metadata": {
        "id": "XDKTOoU98-jN",
        "colab": {
          "base_uri": "https://localhost:8080/"
        },
        "outputId": "b62999f3-02d1-419f-d0c2-a0afa31229cc"
      },
      "source": [
        "# means a is fixed while no if times i is present from 0 to n  (no) of occurences \n",
        "# means a fixed hain i 0ya usse zyada ho \n",
        "pattern = re.finditer(r'ai*',mystr)\n",
        "for match in pattern :\n",
        "  print(match)\n",
        "\n",
        "\n"
      ],
      "execution_count": null,
      "outputs": [
        {
          "output_type": "stream",
          "name": "stdout",
          "text": [
            "<re.Match object; span=(1, 2), match='a'>\n",
            "<re.Match object; span=(3, 4), match='a'>\n",
            "<re.Match object; span=(18, 19), match='a'>\n",
            "<re.Match object; span=(24, 25), match='a'>\n",
            "<re.Match object; span=(29, 30), match='a'>\n",
            "<re.Match object; span=(68, 69), match='a'>\n",
            "<re.Match object; span=(116, 117), match='a'>\n",
            "<re.Match object; span=(141, 143), match='ai'>\n",
            "<re.Match object; span=(147, 148), match='a'>\n",
            "<re.Match object; span=(149, 150), match='a'>\n",
            "<re.Match object; span=(152, 153), match='a'>\n",
            "<re.Match object; span=(154, 155), match='a'>\n",
            "<re.Match object; span=(183, 184), match='a'>\n",
            "<re.Match object; span=(185, 186), match='a'>\n",
            "<re.Match object; span=(209, 210), match='a'>\n",
            "<re.Match object; span=(214, 215), match='a'>\n",
            "<re.Match object; span=(216, 217), match='a'>\n",
            "<re.Match object; span=(236, 237), match='a'>\n",
            "<re.Match object; span=(325, 326), match='a'>\n",
            "<re.Match object; span=(364, 366), match='ai'>\n",
            "<re.Match object; span=(374, 375), match='a'>\n",
            "<re.Match object; span=(380, 381), match='a'>\n",
            "<re.Match object; span=(383, 384), match='a'>\n",
            "<re.Match object; span=(385, 386), match='a'>\n",
            "<re.Match object; span=(410, 411), match='a'>\n",
            "<re.Match object; span=(416, 417), match='a'>\n",
            "<re.Match object; span=(419, 420), match='a'>\n",
            "<re.Match object; span=(421, 422), match='a'>\n",
            "<re.Match object; span=(445, 446), match='a'>\n",
            "<re.Match object; span=(449, 450), match='a'>\n",
            "<re.Match object; span=(454, 455), match='a'>\n",
            "<re.Match object; span=(461, 463), match='ai'>\n",
            "<re.Match object; span=(471, 472), match='a'>\n",
            "<re.Match object; span=(480, 481), match='a'>\n",
            "<re.Match object; span=(483, 484), match='a'>\n",
            "<re.Match object; span=(485, 486), match='a'>\n",
            "<re.Match object; span=(486, 487), match='a'>\n",
            "<re.Match object; span=(492, 494), match='ai'>\n",
            "<re.Match object; span=(494, 497), match='aii'>\n",
            "<re.Match object; span=(498, 499), match='a'>\n",
            "<re.Match object; span=(499, 512), match='aiiiiiiiiiiii'>\n"
          ]
        }
      ]
    },
    {
      "cell_type": "markdown",
      "metadata": {
        "id": "lValKVd7G3pY"
      },
      "source": [
        "b."
      ]
    },
    {
      "cell_type": "code",
      "metadata": {
        "id": "s8AwOKt0AJrB",
        "colab": {
          "base_uri": "https://localhost:8080/"
        },
        "outputId": "5601c26a-cd90-4cba-b31f-8fbf871a2253"
      },
      "source": [
        "# if we put (*) preceding a  and preceding i \n",
        "# means a & i  zero ya usse zyada ho \n",
        "\n",
        "pattern = re.finditer(r'a*i*',mystr) \n",
        "for match in pattern :\n",
        "  print(match)\n",
        "\n"
      ],
      "execution_count": null,
      "outputs": [
        {
          "output_type": "stream",
          "name": "stdout",
          "text": [
            "<re.Match object; span=(0, 0), match=''>\n",
            "<re.Match object; span=(1, 2), match='a'>\n",
            "<re.Match object; span=(2, 2), match=''>\n",
            "<re.Match object; span=(3, 4), match='a'>\n",
            "<re.Match object; span=(4, 4), match=''>\n",
            "<re.Match object; span=(5, 5), match=''>\n",
            "<re.Match object; span=(6, 7), match='i'>\n",
            "<re.Match object; span=(7, 7), match=''>\n",
            "<re.Match object; span=(8, 9), match='i'>\n",
            "<re.Match object; span=(9, 9), match=''>\n",
            "<re.Match object; span=(10, 10), match=''>\n",
            "<re.Match object; span=(11, 11), match=''>\n",
            "<re.Match object; span=(12, 12), match=''>\n",
            "<re.Match object; span=(13, 13), match=''>\n",
            "<re.Match object; span=(14, 14), match=''>\n",
            "<re.Match object; span=(15, 15), match=''>\n",
            "<re.Match object; span=(16, 16), match=''>\n",
            "<re.Match object; span=(17, 17), match=''>\n",
            "<re.Match object; span=(18, 19), match='a'>\n",
            "<re.Match object; span=(19, 19), match=''>\n",
            "<re.Match object; span=(20, 21), match='i'>\n",
            "<re.Match object; span=(21, 21), match=''>\n",
            "<re.Match object; span=(22, 22), match=''>\n",
            "<re.Match object; span=(23, 23), match=''>\n",
            "<re.Match object; span=(24, 25), match='a'>\n",
            "<re.Match object; span=(25, 25), match=''>\n",
            "<re.Match object; span=(26, 26), match=''>\n",
            "<re.Match object; span=(27, 27), match=''>\n",
            "<re.Match object; span=(28, 28), match=''>\n",
            "<re.Match object; span=(29, 30), match='a'>\n",
            "<re.Match object; span=(30, 30), match=''>\n",
            "<re.Match object; span=(31, 31), match=''>\n",
            "<re.Match object; span=(32, 32), match=''>\n",
            "<re.Match object; span=(33, 33), match=''>\n",
            "<re.Match object; span=(34, 34), match=''>\n",
            "<re.Match object; span=(35, 35), match=''>\n",
            "<re.Match object; span=(36, 36), match=''>\n",
            "<re.Match object; span=(37, 37), match=''>\n",
            "<re.Match object; span=(38, 38), match=''>\n",
            "<re.Match object; span=(39, 40), match='i'>\n",
            "<re.Match object; span=(40, 40), match=''>\n",
            "<re.Match object; span=(41, 41), match=''>\n",
            "<re.Match object; span=(42, 42), match=''>\n",
            "<re.Match object; span=(43, 43), match=''>\n",
            "<re.Match object; span=(44, 45), match='i'>\n",
            "<re.Match object; span=(45, 45), match=''>\n",
            "<re.Match object; span=(46, 46), match=''>\n",
            "<re.Match object; span=(47, 47), match=''>\n",
            "<re.Match object; span=(48, 48), match=''>\n",
            "<re.Match object; span=(49, 49), match=''>\n",
            "<re.Match object; span=(50, 50), match=''>\n",
            "<re.Match object; span=(51, 51), match=''>\n",
            "<re.Match object; span=(52, 52), match=''>\n",
            "<re.Match object; span=(53, 53), match=''>\n",
            "<re.Match object; span=(54, 54), match=''>\n",
            "<re.Match object; span=(55, 55), match=''>\n",
            "<re.Match object; span=(56, 56), match=''>\n",
            "<re.Match object; span=(57, 57), match=''>\n",
            "<re.Match object; span=(58, 58), match=''>\n",
            "<re.Match object; span=(59, 59), match=''>\n",
            "<re.Match object; span=(60, 60), match=''>\n",
            "<re.Match object; span=(61, 61), match=''>\n",
            "<re.Match object; span=(62, 62), match=''>\n",
            "<re.Match object; span=(63, 63), match=''>\n",
            "<re.Match object; span=(64, 64), match=''>\n",
            "<re.Match object; span=(65, 65), match=''>\n",
            "<re.Match object; span=(66, 66), match=''>\n",
            "<re.Match object; span=(67, 67), match=''>\n",
            "<re.Match object; span=(68, 69), match='a'>\n",
            "<re.Match object; span=(69, 69), match=''>\n",
            "<re.Match object; span=(70, 70), match=''>\n",
            "<re.Match object; span=(71, 71), match=''>\n",
            "<re.Match object; span=(72, 72), match=''>\n",
            "<re.Match object; span=(73, 73), match=''>\n",
            "<re.Match object; span=(74, 74), match=''>\n",
            "<re.Match object; span=(75, 75), match=''>\n",
            "<re.Match object; span=(76, 76), match=''>\n",
            "<re.Match object; span=(77, 77), match=''>\n",
            "<re.Match object; span=(78, 78), match=''>\n",
            "<re.Match object; span=(79, 79), match=''>\n",
            "<re.Match object; span=(80, 80), match=''>\n",
            "<re.Match object; span=(81, 81), match=''>\n",
            "<re.Match object; span=(82, 82), match=''>\n",
            "<re.Match object; span=(83, 83), match=''>\n",
            "<re.Match object; span=(84, 84), match=''>\n",
            "<re.Match object; span=(85, 85), match=''>\n",
            "<re.Match object; span=(86, 86), match=''>\n",
            "<re.Match object; span=(87, 87), match=''>\n",
            "<re.Match object; span=(88, 88), match=''>\n",
            "<re.Match object; span=(89, 89), match=''>\n",
            "<re.Match object; span=(90, 90), match=''>\n",
            "<re.Match object; span=(91, 91), match=''>\n",
            "<re.Match object; span=(92, 92), match=''>\n",
            "<re.Match object; span=(93, 93), match=''>\n",
            "<re.Match object; span=(94, 94), match=''>\n",
            "<re.Match object; span=(95, 95), match=''>\n",
            "<re.Match object; span=(96, 96), match=''>\n",
            "<re.Match object; span=(97, 97), match=''>\n",
            "<re.Match object; span=(98, 98), match=''>\n",
            "<re.Match object; span=(99, 99), match=''>\n",
            "<re.Match object; span=(100, 100), match=''>\n",
            "<re.Match object; span=(101, 101), match=''>\n",
            "<re.Match object; span=(102, 102), match=''>\n",
            "<re.Match object; span=(103, 103), match=''>\n",
            "<re.Match object; span=(104, 104), match=''>\n",
            "<re.Match object; span=(105, 105), match=''>\n",
            "<re.Match object; span=(106, 106), match=''>\n",
            "<re.Match object; span=(107, 107), match=''>\n",
            "<re.Match object; span=(108, 108), match=''>\n",
            "<re.Match object; span=(109, 109), match=''>\n",
            "<re.Match object; span=(110, 110), match=''>\n",
            "<re.Match object; span=(111, 111), match=''>\n",
            "<re.Match object; span=(112, 112), match=''>\n",
            "<re.Match object; span=(113, 113), match=''>\n",
            "<re.Match object; span=(114, 114), match=''>\n",
            "<re.Match object; span=(115, 115), match=''>\n",
            "<re.Match object; span=(116, 117), match='a'>\n",
            "<re.Match object; span=(117, 117), match=''>\n",
            "<re.Match object; span=(118, 118), match=''>\n",
            "<re.Match object; span=(119, 119), match=''>\n",
            "<re.Match object; span=(120, 120), match=''>\n",
            "<re.Match object; span=(121, 121), match=''>\n",
            "<re.Match object; span=(122, 122), match=''>\n",
            "<re.Match object; span=(123, 123), match=''>\n",
            "<re.Match object; span=(124, 124), match=''>\n",
            "<re.Match object; span=(125, 125), match=''>\n",
            "<re.Match object; span=(126, 126), match=''>\n",
            "<re.Match object; span=(127, 127), match=''>\n",
            "<re.Match object; span=(128, 128), match=''>\n",
            "<re.Match object; span=(129, 129), match=''>\n",
            "<re.Match object; span=(130, 130), match=''>\n",
            "<re.Match object; span=(131, 131), match=''>\n",
            "<re.Match object; span=(132, 132), match=''>\n",
            "<re.Match object; span=(133, 133), match=''>\n",
            "<re.Match object; span=(134, 134), match=''>\n",
            "<re.Match object; span=(135, 135), match=''>\n",
            "<re.Match object; span=(136, 136), match=''>\n",
            "<re.Match object; span=(137, 137), match=''>\n",
            "<re.Match object; span=(138, 138), match=''>\n",
            "<re.Match object; span=(139, 139), match=''>\n",
            "<re.Match object; span=(140, 140), match=''>\n",
            "<re.Match object; span=(141, 143), match='ai'>\n",
            "<re.Match object; span=(143, 143), match=''>\n",
            "<re.Match object; span=(144, 144), match=''>\n",
            "<re.Match object; span=(145, 145), match=''>\n",
            "<re.Match object; span=(146, 146), match=''>\n",
            "<re.Match object; span=(147, 148), match='a'>\n",
            "<re.Match object; span=(148, 148), match=''>\n",
            "<re.Match object; span=(149, 150), match='a'>\n",
            "<re.Match object; span=(150, 150), match=''>\n",
            "<re.Match object; span=(151, 151), match=''>\n",
            "<re.Match object; span=(152, 153), match='a'>\n",
            "<re.Match object; span=(153, 153), match=''>\n",
            "<re.Match object; span=(154, 155), match='a'>\n",
            "<re.Match object; span=(155, 155), match=''>\n",
            "<re.Match object; span=(156, 156), match=''>\n",
            "<re.Match object; span=(157, 157), match=''>\n",
            "<re.Match object; span=(158, 158), match=''>\n",
            "<re.Match object; span=(159, 159), match=''>\n",
            "<re.Match object; span=(160, 160), match=''>\n",
            "<re.Match object; span=(161, 161), match=''>\n",
            "<re.Match object; span=(162, 162), match=''>\n",
            "<re.Match object; span=(163, 163), match=''>\n",
            "<re.Match object; span=(164, 164), match=''>\n",
            "<re.Match object; span=(165, 165), match=''>\n",
            "<re.Match object; span=(166, 167), match='i'>\n",
            "<re.Match object; span=(167, 167), match=''>\n",
            "<re.Match object; span=(168, 168), match=''>\n",
            "<re.Match object; span=(169, 169), match=''>\n",
            "<re.Match object; span=(170, 170), match=''>\n",
            "<re.Match object; span=(171, 171), match=''>\n",
            "<re.Match object; span=(172, 172), match=''>\n",
            "<re.Match object; span=(173, 173), match=''>\n",
            "<re.Match object; span=(174, 174), match=''>\n",
            "<re.Match object; span=(175, 175), match=''>\n",
            "<re.Match object; span=(176, 176), match=''>\n",
            "<re.Match object; span=(177, 177), match=''>\n",
            "<re.Match object; span=(178, 178), match=''>\n",
            "<re.Match object; span=(179, 179), match=''>\n",
            "<re.Match object; span=(180, 180), match=''>\n",
            "<re.Match object; span=(181, 181), match=''>\n",
            "<re.Match object; span=(182, 182), match=''>\n",
            "<re.Match object; span=(183, 184), match='a'>\n",
            "<re.Match object; span=(184, 184), match=''>\n",
            "<re.Match object; span=(185, 186), match='a'>\n",
            "<re.Match object; span=(186, 186), match=''>\n",
            "<re.Match object; span=(187, 187), match=''>\n",
            "<re.Match object; span=(188, 188), match=''>\n",
            "<re.Match object; span=(189, 189), match=''>\n",
            "<re.Match object; span=(190, 190), match=''>\n",
            "<re.Match object; span=(191, 191), match=''>\n",
            "<re.Match object; span=(192, 193), match='i'>\n",
            "<re.Match object; span=(193, 193), match=''>\n",
            "<re.Match object; span=(194, 194), match=''>\n",
            "<re.Match object; span=(195, 195), match=''>\n",
            "<re.Match object; span=(196, 196), match=''>\n",
            "<re.Match object; span=(197, 198), match='i'>\n",
            "<re.Match object; span=(198, 198), match=''>\n",
            "<re.Match object; span=(199, 199), match=''>\n",
            "<re.Match object; span=(200, 200), match=''>\n",
            "<re.Match object; span=(201, 201), match=''>\n",
            "<re.Match object; span=(202, 202), match=''>\n",
            "<re.Match object; span=(203, 203), match=''>\n",
            "<re.Match object; span=(204, 205), match='i'>\n",
            "<re.Match object; span=(205, 205), match=''>\n",
            "<re.Match object; span=(206, 206), match=''>\n",
            "<re.Match object; span=(207, 207), match=''>\n",
            "<re.Match object; span=(208, 208), match=''>\n",
            "<re.Match object; span=(209, 210), match='a'>\n",
            "<re.Match object; span=(210, 210), match=''>\n",
            "<re.Match object; span=(211, 211), match=''>\n",
            "<re.Match object; span=(212, 212), match=''>\n",
            "<re.Match object; span=(213, 213), match=''>\n",
            "<re.Match object; span=(214, 215), match='a'>\n",
            "<re.Match object; span=(215, 215), match=''>\n",
            "<re.Match object; span=(216, 217), match='a'>\n",
            "<re.Match object; span=(217, 217), match=''>\n",
            "<re.Match object; span=(218, 218), match=''>\n",
            "<re.Match object; span=(219, 219), match=''>\n",
            "<re.Match object; span=(220, 220), match=''>\n",
            "<re.Match object; span=(221, 221), match=''>\n",
            "<re.Match object; span=(222, 222), match=''>\n",
            "<re.Match object; span=(223, 223), match=''>\n",
            "<re.Match object; span=(224, 224), match=''>\n",
            "<re.Match object; span=(225, 225), match=''>\n",
            "<re.Match object; span=(226, 226), match=''>\n",
            "<re.Match object; span=(227, 227), match=''>\n",
            "<re.Match object; span=(228, 228), match=''>\n",
            "<re.Match object; span=(229, 229), match=''>\n",
            "<re.Match object; span=(230, 230), match=''>\n",
            "<re.Match object; span=(231, 231), match=''>\n",
            "<re.Match object; span=(232, 232), match=''>\n",
            "<re.Match object; span=(233, 233), match=''>\n",
            "<re.Match object; span=(234, 235), match='i'>\n",
            "<re.Match object; span=(235, 235), match=''>\n",
            "<re.Match object; span=(236, 237), match='a'>\n",
            "<re.Match object; span=(237, 237), match=''>\n",
            "<re.Match object; span=(238, 238), match=''>\n",
            "<re.Match object; span=(239, 239), match=''>\n",
            "<re.Match object; span=(240, 240), match=''>\n",
            "<re.Match object; span=(241, 241), match=''>\n",
            "<re.Match object; span=(242, 242), match=''>\n",
            "<re.Match object; span=(243, 243), match=''>\n",
            "<re.Match object; span=(244, 244), match=''>\n",
            "<re.Match object; span=(245, 245), match=''>\n",
            "<re.Match object; span=(246, 246), match=''>\n",
            "<re.Match object; span=(247, 247), match=''>\n",
            "<re.Match object; span=(248, 248), match=''>\n",
            "<re.Match object; span=(249, 249), match=''>\n",
            "<re.Match object; span=(250, 250), match=''>\n",
            "<re.Match object; span=(251, 251), match=''>\n",
            "<re.Match object; span=(252, 252), match=''>\n",
            "<re.Match object; span=(253, 253), match=''>\n",
            "<re.Match object; span=(254, 254), match=''>\n",
            "<re.Match object; span=(255, 255), match=''>\n",
            "<re.Match object; span=(256, 256), match=''>\n",
            "<re.Match object; span=(257, 257), match=''>\n",
            "<re.Match object; span=(258, 258), match=''>\n",
            "<re.Match object; span=(259, 259), match=''>\n",
            "<re.Match object; span=(260, 260), match=''>\n",
            "<re.Match object; span=(261, 262), match='i'>\n",
            "<re.Match object; span=(262, 262), match=''>\n",
            "<re.Match object; span=(263, 263), match=''>\n",
            "<re.Match object; span=(264, 264), match=''>\n",
            "<re.Match object; span=(265, 265), match=''>\n",
            "<re.Match object; span=(266, 266), match=''>\n",
            "<re.Match object; span=(267, 267), match=''>\n",
            "<re.Match object; span=(268, 268), match=''>\n",
            "<re.Match object; span=(269, 269), match=''>\n",
            "<re.Match object; span=(270, 270), match=''>\n",
            "<re.Match object; span=(271, 271), match=''>\n",
            "<re.Match object; span=(272, 272), match=''>\n",
            "<re.Match object; span=(273, 274), match='i'>\n",
            "<re.Match object; span=(274, 274), match=''>\n",
            "<re.Match object; span=(275, 275), match=''>\n",
            "<re.Match object; span=(276, 276), match=''>\n",
            "<re.Match object; span=(277, 277), match=''>\n",
            "<re.Match object; span=(278, 278), match=''>\n",
            "<re.Match object; span=(279, 279), match=''>\n",
            "<re.Match object; span=(280, 280), match=''>\n",
            "<re.Match object; span=(281, 281), match=''>\n",
            "<re.Match object; span=(282, 282), match=''>\n",
            "<re.Match object; span=(283, 283), match=''>\n",
            "<re.Match object; span=(284, 284), match=''>\n",
            "<re.Match object; span=(285, 285), match=''>\n",
            "<re.Match object; span=(286, 286), match=''>\n",
            "<re.Match object; span=(287, 287), match=''>\n",
            "<re.Match object; span=(288, 288), match=''>\n",
            "<re.Match object; span=(289, 289), match=''>\n",
            "<re.Match object; span=(290, 290), match=''>\n",
            "<re.Match object; span=(291, 291), match=''>\n",
            "<re.Match object; span=(292, 292), match=''>\n",
            "<re.Match object; span=(293, 293), match=''>\n",
            "<re.Match object; span=(294, 294), match=''>\n",
            "<re.Match object; span=(295, 295), match=''>\n",
            "<re.Match object; span=(296, 296), match=''>\n",
            "<re.Match object; span=(297, 297), match=''>\n",
            "<re.Match object; span=(298, 298), match=''>\n",
            "<re.Match object; span=(299, 299), match=''>\n",
            "<re.Match object; span=(300, 300), match=''>\n",
            "<re.Match object; span=(301, 301), match=''>\n",
            "<re.Match object; span=(302, 302), match=''>\n",
            "<re.Match object; span=(303, 303), match=''>\n",
            "<re.Match object; span=(304, 304), match=''>\n",
            "<re.Match object; span=(305, 305), match=''>\n",
            "<re.Match object; span=(306, 306), match=''>\n",
            "<re.Match object; span=(307, 307), match=''>\n",
            "<re.Match object; span=(308, 308), match=''>\n",
            "<re.Match object; span=(309, 309), match=''>\n",
            "<re.Match object; span=(310, 310), match=''>\n",
            "<re.Match object; span=(311, 311), match=''>\n",
            "<re.Match object; span=(312, 312), match=''>\n",
            "<re.Match object; span=(313, 313), match=''>\n",
            "<re.Match object; span=(314, 314), match=''>\n",
            "<re.Match object; span=(315, 315), match=''>\n",
            "<re.Match object; span=(316, 316), match=''>\n",
            "<re.Match object; span=(317, 317), match=''>\n",
            "<re.Match object; span=(318, 318), match=''>\n",
            "<re.Match object; span=(319, 319), match=''>\n",
            "<re.Match object; span=(320, 320), match=''>\n",
            "<re.Match object; span=(321, 321), match=''>\n",
            "<re.Match object; span=(322, 322), match=''>\n",
            "<re.Match object; span=(323, 323), match=''>\n",
            "<re.Match object; span=(324, 324), match=''>\n",
            "<re.Match object; span=(325, 326), match='a'>\n",
            "<re.Match object; span=(326, 326), match=''>\n",
            "<re.Match object; span=(327, 327), match=''>\n",
            "<re.Match object; span=(328, 328), match=''>\n",
            "<re.Match object; span=(329, 329), match=''>\n",
            "<re.Match object; span=(330, 330), match=''>\n",
            "<re.Match object; span=(331, 331), match=''>\n",
            "<re.Match object; span=(332, 332), match=''>\n",
            "<re.Match object; span=(333, 333), match=''>\n",
            "<re.Match object; span=(334, 334), match=''>\n",
            "<re.Match object; span=(335, 335), match=''>\n",
            "<re.Match object; span=(336, 336), match=''>\n",
            "<re.Match object; span=(337, 337), match=''>\n",
            "<re.Match object; span=(338, 338), match=''>\n",
            "<re.Match object; span=(339, 339), match=''>\n",
            "<re.Match object; span=(340, 340), match=''>\n",
            "<re.Match object; span=(341, 341), match=''>\n",
            "<re.Match object; span=(342, 342), match=''>\n",
            "<re.Match object; span=(343, 343), match=''>\n",
            "<re.Match object; span=(344, 344), match=''>\n",
            "<re.Match object; span=(345, 345), match=''>\n",
            "<re.Match object; span=(346, 346), match=''>\n",
            "<re.Match object; span=(347, 347), match=''>\n",
            "<re.Match object; span=(348, 348), match=''>\n",
            "<re.Match object; span=(349, 349), match=''>\n",
            "<re.Match object; span=(350, 350), match=''>\n",
            "<re.Match object; span=(351, 351), match=''>\n",
            "<re.Match object; span=(352, 352), match=''>\n",
            "<re.Match object; span=(353, 353), match=''>\n",
            "<re.Match object; span=(354, 354), match=''>\n",
            "<re.Match object; span=(355, 355), match=''>\n",
            "<re.Match object; span=(356, 356), match=''>\n",
            "<re.Match object; span=(357, 357), match=''>\n",
            "<re.Match object; span=(358, 358), match=''>\n",
            "<re.Match object; span=(359, 359), match=''>\n",
            "<re.Match object; span=(360, 360), match=''>\n",
            "<re.Match object; span=(361, 361), match=''>\n",
            "<re.Match object; span=(362, 362), match=''>\n",
            "<re.Match object; span=(363, 363), match=''>\n",
            "<re.Match object; span=(364, 366), match='ai'>\n",
            "<re.Match object; span=(366, 366), match=''>\n",
            "<re.Match object; span=(367, 367), match=''>\n",
            "<re.Match object; span=(368, 368), match=''>\n",
            "<re.Match object; span=(369, 369), match=''>\n",
            "<re.Match object; span=(370, 370), match=''>\n",
            "<re.Match object; span=(371, 371), match=''>\n",
            "<re.Match object; span=(372, 372), match=''>\n",
            "<re.Match object; span=(373, 373), match=''>\n",
            "<re.Match object; span=(374, 375), match='a'>\n",
            "<re.Match object; span=(375, 375), match=''>\n",
            "<re.Match object; span=(376, 376), match=''>\n",
            "<re.Match object; span=(377, 377), match=''>\n",
            "<re.Match object; span=(378, 379), match='i'>\n",
            "<re.Match object; span=(379, 379), match=''>\n",
            "<re.Match object; span=(380, 381), match='a'>\n",
            "<re.Match object; span=(381, 381), match=''>\n",
            "<re.Match object; span=(382, 382), match=''>\n",
            "<re.Match object; span=(383, 384), match='a'>\n",
            "<re.Match object; span=(384, 384), match=''>\n",
            "<re.Match object; span=(385, 386), match='a'>\n",
            "<re.Match object; span=(386, 386), match=''>\n",
            "<re.Match object; span=(387, 387), match=''>\n",
            "<re.Match object; span=(388, 388), match=''>\n",
            "<re.Match object; span=(389, 389), match=''>\n",
            "<re.Match object; span=(390, 390), match=''>\n",
            "<re.Match object; span=(391, 391), match=''>\n",
            "<re.Match object; span=(392, 392), match=''>\n",
            "<re.Match object; span=(393, 393), match=''>\n",
            "<re.Match object; span=(394, 394), match=''>\n",
            "<re.Match object; span=(395, 395), match=''>\n",
            "<re.Match object; span=(396, 397), match='i'>\n",
            "<re.Match object; span=(397, 397), match=''>\n",
            "<re.Match object; span=(398, 398), match=''>\n",
            "<re.Match object; span=(399, 399), match=''>\n",
            "<re.Match object; span=(400, 400), match=''>\n",
            "<re.Match object; span=(401, 401), match=''>\n",
            "<re.Match object; span=(402, 402), match=''>\n",
            "<re.Match object; span=(403, 403), match=''>\n",
            "<re.Match object; span=(404, 404), match=''>\n",
            "<re.Match object; span=(405, 405), match=''>\n",
            "<re.Match object; span=(406, 406), match=''>\n",
            "<re.Match object; span=(407, 407), match=''>\n",
            "<re.Match object; span=(408, 408), match=''>\n",
            "<re.Match object; span=(409, 409), match=''>\n",
            "<re.Match object; span=(410, 411), match='a'>\n",
            "<re.Match object; span=(411, 411), match=''>\n",
            "<re.Match object; span=(412, 412), match=''>\n",
            "<re.Match object; span=(413, 413), match=''>\n",
            "<re.Match object; span=(414, 415), match='i'>\n",
            "<re.Match object; span=(415, 415), match=''>\n",
            "<re.Match object; span=(416, 417), match='a'>\n",
            "<re.Match object; span=(417, 417), match=''>\n",
            "<re.Match object; span=(418, 418), match=''>\n",
            "<re.Match object; span=(419, 420), match='a'>\n",
            "<re.Match object; span=(420, 420), match=''>\n",
            "<re.Match object; span=(421, 422), match='a'>\n",
            "<re.Match object; span=(422, 422), match=''>\n",
            "<re.Match object; span=(423, 423), match=''>\n",
            "<re.Match object; span=(424, 424), match=''>\n",
            "<re.Match object; span=(425, 425), match=''>\n",
            "<re.Match object; span=(426, 426), match=''>\n",
            "<re.Match object; span=(427, 427), match=''>\n",
            "<re.Match object; span=(428, 429), match='i'>\n",
            "<re.Match object; span=(429, 429), match=''>\n",
            "<re.Match object; span=(430, 430), match=''>\n",
            "<re.Match object; span=(431, 431), match=''>\n",
            "<re.Match object; span=(432, 432), match=''>\n",
            "<re.Match object; span=(433, 434), match='i'>\n",
            "<re.Match object; span=(434, 434), match=''>\n",
            "<re.Match object; span=(435, 435), match=''>\n",
            "<re.Match object; span=(436, 436), match=''>\n",
            "<re.Match object; span=(437, 437), match=''>\n",
            "<re.Match object; span=(438, 438), match=''>\n",
            "<re.Match object; span=(439, 439), match=''>\n",
            "<re.Match object; span=(440, 441), match='i'>\n",
            "<re.Match object; span=(441, 441), match=''>\n",
            "<re.Match object; span=(442, 442), match=''>\n",
            "<re.Match object; span=(443, 443), match=''>\n",
            "<re.Match object; span=(444, 444), match=''>\n",
            "<re.Match object; span=(445, 446), match='a'>\n",
            "<re.Match object; span=(446, 446), match=''>\n",
            "<re.Match object; span=(447, 447), match=''>\n",
            "<re.Match object; span=(448, 448), match=''>\n",
            "<re.Match object; span=(449, 450), match='a'>\n",
            "<re.Match object; span=(450, 450), match=''>\n",
            "<re.Match object; span=(451, 451), match=''>\n",
            "<re.Match object; span=(452, 452), match=''>\n",
            "<re.Match object; span=(453, 453), match=''>\n",
            "<re.Match object; span=(454, 455), match='a'>\n",
            "<re.Match object; span=(455, 455), match=''>\n",
            "<re.Match object; span=(456, 456), match=''>\n",
            "<re.Match object; span=(457, 457), match=''>\n",
            "<re.Match object; span=(458, 458), match=''>\n",
            "<re.Match object; span=(459, 459), match=''>\n",
            "<re.Match object; span=(460, 460), match=''>\n",
            "<re.Match object; span=(461, 463), match='ai'>\n",
            "<re.Match object; span=(463, 463), match=''>\n",
            "<re.Match object; span=(464, 464), match=''>\n",
            "<re.Match object; span=(465, 465), match=''>\n",
            "<re.Match object; span=(466, 466), match=''>\n",
            "<re.Match object; span=(467, 468), match='i'>\n",
            "<re.Match object; span=(468, 468), match=''>\n",
            "<re.Match object; span=(469, 469), match=''>\n",
            "<re.Match object; span=(470, 470), match=''>\n",
            "<re.Match object; span=(471, 472), match='a'>\n",
            "<re.Match object; span=(472, 472), match=''>\n",
            "<re.Match object; span=(473, 473), match=''>\n",
            "<re.Match object; span=(474, 474), match=''>\n",
            "<re.Match object; span=(475, 475), match=''>\n",
            "<re.Match object; span=(476, 476), match=''>\n",
            "<re.Match object; span=(477, 478), match='i'>\n",
            "<re.Match object; span=(478, 478), match=''>\n",
            "<re.Match object; span=(479, 479), match=''>\n",
            "<re.Match object; span=(480, 481), match='a'>\n",
            "<re.Match object; span=(481, 481), match=''>\n",
            "<re.Match object; span=(482, 483), match='i'>\n",
            "<re.Match object; span=(483, 484), match='a'>\n",
            "<re.Match object; span=(484, 484), match=''>\n",
            "<re.Match object; span=(485, 487), match='aa'>\n",
            "<re.Match object; span=(487, 487), match=''>\n",
            "<re.Match object; span=(488, 488), match=''>\n",
            "<re.Match object; span=(489, 490), match='i'>\n",
            "<re.Match object; span=(490, 490), match=''>\n",
            "<re.Match object; span=(491, 491), match=''>\n",
            "<re.Match object; span=(492, 494), match='ai'>\n",
            "<re.Match object; span=(494, 497), match='aii'>\n",
            "<re.Match object; span=(497, 497), match=''>\n",
            "<re.Match object; span=(498, 512), match='aaiiiiiiiiiiii'>\n",
            "<re.Match object; span=(512, 512), match=''>\n"
          ]
        }
      ]
    },
    {
      "cell_type": "markdown",
      "metadata": {
        "id": "aVdmSux6FZx9"
      },
      "source": [
        "## ( + ) meta characters  means one or more occurences \n",
        "ex "
      ]
    },
    {
      "cell_type": "code",
      "metadata": {
        "id": "QtUVKYAwC70f",
        "colab": {
          "base_uri": "https://localhost:8080/"
        },
        "outputId": "ff3db2ee-117e-4264-a67e-7cd70bd47abb"
      },
      "source": [
        "# basically ek ya usse zyada  occurence hua ho jiske pheeche + sign hua ho\n",
        "pattern  =re.finditer(r'ai+',mystr)\n",
        "for match in pattern :\n",
        "  print(match)"
      ],
      "execution_count": null,
      "outputs": [
        {
          "output_type": "stream",
          "name": "stdout",
          "text": [
            "<re.Match object; span=(141, 143), match='ai'>\n",
            "<re.Match object; span=(364, 366), match='ai'>\n",
            "<re.Match object; span=(461, 463), match='ai'>\n",
            "<re.Match object; span=(492, 494), match='ai'>\n",
            "<re.Match object; span=(494, 497), match='aii'>\n",
            "<re.Match object; span=(499, 512), match='aiiiiiiiiiiii'>\n"
          ]
        }
      ]
    },
    {
      "cell_type": "markdown",
      "metadata": {
        "id": "Q2U30QyWIwWq"
      },
      "source": [
        "##  Meta Character - {  } Exactly the specified no of occurences \n",
        "means what no of occurences you want we have to typein this bracket "
      ]
    },
    {
      "cell_type": "code",
      "metadata": {
        "id": "IaBxiwS9JfcB",
        "colab": {
          "base_uri": "https://localhost:8080/"
        },
        "outputId": "737d34a9-5226-4cf3-82a7-af45cd20cee1"
      },
      "source": [
        "# It means only 1 times 3 times i 's occurence occur \n",
        "pattern = re.finditer(r'ai{3}',mystr)\n",
        "for match in pattern :\n",
        "  print(match)"
      ],
      "execution_count": null,
      "outputs": [
        {
          "output_type": "stream",
          "name": "stdout",
          "text": [
            "<re.Match object; span=(499, 503), match='aiii'>\n"
          ]
        }
      ]
    },
    {
      "cell_type": "markdown",
      "metadata": {
        "id": "k3X-HoBcK9YO"
      },
      "source": [
        "##  Meta Character -( ) - capture and group  means it makes a group of data whatever we have entered   basically (ai) {2} hain means aiai output dega .\n"
      ]
    },
    {
      "cell_type": "code",
      "metadata": {
        "id": "wb6F6pwlLJjo",
        "colab": {
          "base_uri": "https://localhost:8080/"
        },
        "outputId": "bd54237e-4664-4a75-dfa4-02f973b1e7cc"
      },
      "source": [
        "pattern = re.finditer(r'(ai){2}',mystr) \n",
        "for match in pattern :\n",
        "  print(match)"
      ],
      "execution_count": null,
      "outputs": [
        {
          "output_type": "stream",
          "name": "stdout",
          "text": [
            "<re.Match object; span=(492, 496), match='aiai'>\n"
          ]
        }
      ]
    },
    {
      "cell_type": "markdown",
      "metadata": {
        "id": "3A0YZ4cjReEw"
      },
      "source": [
        "## Meta character  =  (  | ) means either  , or ex "
      ]
    },
    {
      "cell_type": "code",
      "metadata": {
        "id": "j8oAZBviR0nG",
        "colab": {
          "base_uri": "https://localhost:8080/"
        },
        "outputId": "8c9b412b-b7b0-40dd-ab61-b1ff815b95fe"
      },
      "source": [
        "pattern = re.finditer(r'ai{1}|Fax',mystr) \n",
        "for match in pattern :\n",
        "  print(match)"
      ],
      "execution_count": null,
      "outputs": [
        {
          "output_type": "stream",
          "name": "stdout",
          "text": [
            "<re.Match object; span=(115, 118), match='Fax'>\n",
            "<re.Match object; span=(141, 143), match='ai'>\n",
            "<re.Match object; span=(324, 327), match='Fax'>\n",
            "<re.Match object; span=(364, 366), match='ai'>\n",
            "<re.Match object; span=(461, 463), match='ai'>\n",
            "<re.Match object; span=(492, 494), match='ai'>\n",
            "<re.Match object; span=(494, 496), match='ai'>\n",
            "<re.Match object; span=(499, 501), match='ai'>\n"
          ]
        }
      ]
    },
    {
      "cell_type": "markdown",
      "metadata": {
        "id": "oCCW8DSWTafn"
      },
      "source": [
        "## Now we will talk about special sequence \n",
        "\n",
        "•\t Sequential Characters  - \\A:         the resultant is a match if the input characters are at the beginning of the string                "
      ]
    },
    {
      "cell_type": "code",
      "metadata": {
        "id": "yC04_-LMTe2D",
        "colab": {
          "base_uri": "https://localhost:8080/"
        },
        "outputId": "4c3903d6-7fe7-4eac-b76f-1aa83128ff55"
      },
      "source": [
        "pattern =re.finditer(r'\\ATata',mystr)\n",
        "for match in pattern :\n",
        "  print(match)"
      ],
      "execution_count": null,
      "outputs": [
        {
          "output_type": "stream",
          "name": "stdout",
          "text": [
            "<re.Match object; span=(0, 4), match='Tata'>\n"
          ]
        }
      ]
    },
    {
      "cell_type": "markdown",
      "metadata": {
        "id": "5o7E7kmXW-Mi"
      },
      "source": [
        "•\t Sequential Characters  -\\b   the resultant is a match whether the input characters are at the beginning or the end of a word                               "
      ]
    },
    {
      "cell_type": "code",
      "metadata": {
        "id": "DojzM8VZW_b1",
        "colab": {
          "base_uri": "https://localhost:8080/"
        },
        "outputId": "da64a1f1-ef0e-440e-85c5-e1a6a0079860"
      },
      "source": [
        "pattern = re.finditer(r'4545\\b',mystr)\n",
        "for match in pattern :\n",
        "  print(match)"
      ],
      "execution_count": null,
      "outputs": [
        {
          "output_type": "stream",
          "name": "stdout",
          "text": [
            "<re.Match object; span=(357, 361), match='4545'>\n"
          ]
        }
      ]
    },
    {
      "cell_type": "markdown",
      "metadata": {
        "id": "mOy0qy29lv5Q"
      },
      "source": [
        "Sequential Characters -\\d Returns a match where the string contains digits (numbers from 0-9)"
      ]
    },
    {
      "cell_type": "code",
      "metadata": {
        "id": "KnnvZQGvln9L",
        "colab": {
          "base_uri": "https://localhost:8080/"
        },
        "outputId": "86396c88-446b-48ef-a749-91ede0755e79"
      },
      "source": [
        "import re\n",
        "pattern =re.finditer(r'\\d{5}',mystr)\n",
        "for match in pattern :\n",
        "  print(match)"
      ],
      "execution_count": null,
      "outputs": [
        {
          "output_type": "stream",
          "name": "stdout",
          "text": [
            "<re.Match object; span=(284, 289), match='22209'>\n"
          ]
        }
      ]
    },
    {
      "cell_type": "code",
      "metadata": {
        "id": "GiMlf_bIudgR"
      },
      "source": [
        ""
      ],
      "execution_count": null,
      "outputs": []
    },
    {
      "cell_type": "code",
      "metadata": {
        "id": "LY_vNuK-n8wo"
      },
      "source": [
        "import re\n",
        "pattern =re.finditer(r'\\d{5} -\\d{4}',mystr)\n",
        "for match in pattern :\n",
        "  print(match)"
      ],
      "execution_count": null,
      "outputs": []
    },
    {
      "cell_type": "markdown",
      "metadata": {
        "id": "ubInH9TA0MEH"
      },
      "source": [
        "##Search function\n",
        "\n",
        "Python regex re.search() method looks for occurrences of the regex pattern inside the entire target string and returns the corresponding Match Object instance where the match found.\n",
        "\n",
        "The re.search() returns only the first match to the pattern from the target string. Use a re.search() to search pattern anywhere in the string."
      ]
    },
    {
      "cell_type": "markdown",
      "metadata": {
        "id": "I2SreoxANIGe"
      },
      "source": [
        "##When to use re.search()\n",
        "\n",
        "The search() method will always match and return only the first occurrence of the pattern from the target string.\n",
        "\n",
        "\n",
        "\n",
        "\n",
        "Use it when you want to find the first match. The search method is useful for a quick match. I.e., As soon as it gets the first match, it will stop its execution. You will get performance benefits.\n",
        "\n",
        "\n",
        "Also, please use it when you want to check the possibility of a pattern in a long target string.\n",
        "\n",
        "Avoid using the search() method in the following cases .\n",
        "\n",
        "\n",
        "\n",
        "To search all occurrence to a regular expression, please use the findall() method instead.\n",
        "\n",
        "\n",
        "To search at the start of the string, Please use the match() method instead. Also, read regex search() vs. match()"
      ]
    },
    {
      "cell_type": "code",
      "metadata": {
        "id": "XbtJaSt603jZ",
        "colab": {
          "base_uri": "https://localhost:8080/"
        },
        "outputId": "baa7a6cc-0abf-416d-bb0a-cacc550c2efe"
      },
      "source": [
        "# It will search and find out the first match (first occurrence) from target string and stops .\n",
        "import re\n",
        "target_string = \"Emma is a baseball player who was born on June 17 , 79 \"\n",
        "\n",
        "# using search function \n",
        "result =re.search(r'\\w{8}',target_string)\n",
        "print(result)"
      ],
      "execution_count": null,
      "outputs": [
        {
          "output_type": "stream",
          "name": "stdout",
          "text": [
            "<re.Match object; span=(10, 18), match='baseball'>\n"
          ]
        }
      ]
    },
    {
      "cell_type": "code",
      "metadata": {
        "colab": {
          "base_uri": "https://localhost:8080/"
        },
        "id": "1qGhA1CdOVek",
        "outputId": "6537f153-7c6b-4e63-bef8-a5acd9529314"
      },
      "source": [
        "# Find out the digit(2) no and when it matches first match ultimately it stops . \n",
        "result = re.search(r\"\\d{2}\",target_string)\n",
        "print(result)"
      ],
      "execution_count": null,
      "outputs": [
        {
          "output_type": "stream",
          "name": "stdout",
          "text": [
            "<re.Match object; span=(47, 49), match='17'>\n"
          ]
        }
      ]
    },
    {
      "cell_type": "markdown",
      "metadata": {
        "id": "4xJzSb9kbDpr"
      },
      "source": [
        "# Meta Character (usage) \\b "
      ]
    },
    {
      "cell_type": "markdown",
      "metadata": {
        "id": "OsaaGCirQkVs"
      },
      "source": [
        "In this example, we will find substring “ball” and “player” inside a target string."
      ]
    },
    {
      "cell_type": "code",
      "metadata": {
        "colab": {
          "base_uri": "https://localhost:8080/"
        },
        "id": "tLxIeJL6dVPX",
        "outputId": "372dfffe-9b8e-4f3c-e40f-656a087598bc"
      },
      "source": [
        "# find substring ball and players \n",
        "import  re\n",
        "results  = re.search(r'\\bball',target_string)\n",
        "results =re.search(r'\\bplayer',target_string)\n",
        "print(results)"
      ],
      "execution_count": null,
      "outputs": [
        {
          "output_type": "stream",
          "name": "stdout",
          "text": [
            "None\n"
          ]
        }
      ]
    },
    {
      "cell_type": "code",
      "metadata": {
        "colab": {
          "base_uri": "https://localhost:8080/"
        },
        "id": "L5hxweKdrEt3",
        "outputId": "43d265fd-2461-4712-fdff-0972c3eb31d7"
      },
      "source": [
        "# finding substring players \n",
        "results =re.search(r'\\bplayer',target_string)\n",
        "print(results)"
      ],
      "execution_count": null,
      "outputs": [
        {
          "output_type": "stream",
          "name": "stdout",
          "text": [
            "<re.Match object; span=(19, 25), match='player'>\n"
          ]
        }
      ]
    },
    {
      "cell_type": "markdown",
      "metadata": {
        "id": "sptfp_BWdbch"
      },
      "source": [
        "# Meta Character (usage) \\b  and it's positionality "
      ]
    },
    {
      "cell_type": "code",
      "metadata": {
        "colab": {
          "base_uri": "https://localhost:8080/"
        },
        "id": "RUgMC4WwQpfL",
        "outputId": "e11421ed-ac6d-498b-bc5d-f8e941638366"
      },
      "source": [
        "\n",
        "import re\n",
        "result = re.search(r'\\byer',target_string)\n",
        "print(result)"
      ],
      "execution_count": null,
      "outputs": [
        {
          "output_type": "stream",
          "name": "stdout",
          "text": [
            "None\n"
          ]
        }
      ]
    },
    {
      "cell_type": "markdown",
      "metadata": {
        "id": "fHNDZePx0MOG"
      },
      "source": [
        "In this case \\b is preceded the word 'yer' but 'yer' is the last character of the word that's why yielding no result ."
      ]
    },
    {
      "cell_type": "code",
      "metadata": {
        "colab": {
          "base_uri": "https://localhost:8080/"
        },
        "id": "YF6WOUqYYgMO",
        "outputId": "c50950a1-5bf7-4e65-c97b-370d79a9be89"
      },
      "source": [
        "import re\n",
        "result =re.search(r'yer\\b',target_string)\n",
        "print(result)"
      ],
      "execution_count": null,
      "outputs": [
        {
          "output_type": "stream",
          "name": "stdout",
          "text": [
            "<re.Match object; span=(22, 25), match='yer'>\n"
          ]
        }
      ]
    },
    {
      "cell_type": "markdown",
      "metadata": {
        "id": "vE1IA7onYvZb"
      },
      "source": [
        "In this case it yielded result because \\b meta character is in the last of the word (\\b gives starting and ending of the word depending upon the position of the \\b used (whereabout) aage ya peenche (in short)"
      ]
    },
    {
      "cell_type": "markdown",
      "metadata": {
        "id": "Fb7UEJb_v5AA"
      },
      "source": [
        "## Example to search multiple patterns\n"
      ]
    },
    {
      "cell_type": "markdown",
      "metadata": {
        "id": "yAq4MKQXx-0Z"
      },
      "source": [
        "##re.MatchObject.group() method \n",
        "returns the complete matched subgroup by default or a tuple of matched subgroups depending on the number of arguments .\n",
        "\n",
        "\n",
        "group: (optional) group defaults to zero (meaning that it it will return the complete matched string). Return -1 if group exists but did not contribute to the match.\n",
        "\n",
        "\n",
        "Return: Complete match by default else one or more matched subgroups depending on the arguments.\n",
        "\n",
        "\n",
        "IndexError: If the group number passed as argument is negative or greater than the number of groups defined in the match pattern then an IndexError exception will be raised\n",
        "\n",
        "\n",
        "\n",
        "AttributeError: If a matching pattern is not found then it raise AttributeError."
      ]
    },
    {
      "cell_type": "code",
      "metadata": {
        "id": "zjOAwzTov7dK"
      },
      "source": [
        "target_string =\" Emma is a basketball player who was born on June 17 , 79  \""
      ],
      "execution_count": null,
      "outputs": []
    },
    {
      "cell_type": "code",
      "metadata": {
        "colab": {
          "base_uri": "https://localhost:8080/"
        },
        "id": "eKWGXNmDYt6z",
        "outputId": "bb5e4ae9-d26b-4ecd-f6b4-b5439949066f"
      },
      "source": [
        "# 1st Alternative (2 subgroup)\n",
        "import re\n",
        "results  =re.search(r'(\\w{10}).+(\\d{2})',target_string)\n",
        "print(results.group(2))"
      ],
      "execution_count": null,
      "outputs": [
        {
          "output_type": "stream",
          "name": "stdout",
          "text": [
            "79\n"
          ]
        }
      ]
    },
    {
      "cell_type": "code",
      "metadata": {
        "colab": {
          "base_uri": "https://localhost:8080/"
        },
        "id": "uWqQ4BUEbZmx",
        "outputId": "999131b3-0e84-4f28-f37e-ea3b05fb7aca"
      },
      "source": [
        "# 2nd Alternative (2 subgroup)\n",
        "import re\n",
        "results =re.search(r'(\\w{4}) .+ (\\w{6})',target_string)\n",
        "print(results.group(2))"
      ],
      "execution_count": null,
      "outputs": [
        {
          "output_type": "stream",
          "name": "stdout",
          "text": [
            "player\n"
          ]
        }
      ]
    },
    {
      "cell_type": "code",
      "metadata": {
        "id": "I0TES6nOaipx",
        "colab": {
          "base_uri": "https://localhost:8080/"
        },
        "outputId": "61884fc8-0d9c-47c4-b53c-5f53166b9335"
      },
      "source": [
        "# What if we need multiple patterns (we can take only 2 subgroup)\n",
        "import re\n",
        "results =re.search(r\"(\\w{10}) .+ (\\d{2}) \",target_string)\n",
        "print(results.group(1))\n"
      ],
      "execution_count": null,
      "outputs": [
        {
          "output_type": "stream",
          "name": "stdout",
          "text": [
            "basketball\n"
          ]
        }
      ]
    },
    {
      "cell_type": "code",
      "metadata": {
        "colab": {
          "base_uri": "https://localhost:8080/",
          "height": 1000
        },
        "id": "UNRLiyXU2uXN",
        "outputId": "c2d05ae7-e12a-44e4-be37-e4359a630ca4"
      },
      "source": [
        "# Here we have more than 2 groups so it is showing error \n",
        "import re\n",
        "results =re.search(r\"(\\w{10}) .+ (\\d{2}.+(\\b{10})\",target_string)\n",
        "print(results.group(1))"
      ],
      "execution_count": null,
      "outputs": [
        {
          "output_type": "error",
          "ename": "error",
          "evalue": "ignored",
          "traceback": [
            "\u001b[0;31m---------------------------------------------------------------------------\u001b[0m",
            "\u001b[0;31merror\u001b[0m                                     Traceback (most recent call last)",
            "\u001b[0;32m<ipython-input-58-bedd516b78cb>\u001b[0m in \u001b[0;36m<module>\u001b[0;34m()\u001b[0m\n\u001b[1;32m      1\u001b[0m \u001b[0;31m# Here we have more than 2 groups so it is showing error\u001b[0m\u001b[0;34m\u001b[0m\u001b[0;34m\u001b[0m\u001b[0;34m\u001b[0m\u001b[0m\n\u001b[1;32m      2\u001b[0m \u001b[0;32mimport\u001b[0m \u001b[0mre\u001b[0m\u001b[0;34m\u001b[0m\u001b[0;34m\u001b[0m\u001b[0m\n\u001b[0;32m----> 3\u001b[0;31m \u001b[0mresults\u001b[0m \u001b[0;34m=\u001b[0m\u001b[0mre\u001b[0m\u001b[0;34m.\u001b[0m\u001b[0msearch\u001b[0m\u001b[0;34m(\u001b[0m\u001b[0;34mr\"(\\w{10}) .+ (\\d{2}.+(\\b{10})\"\u001b[0m\u001b[0;34m,\u001b[0m\u001b[0mtarget_string\u001b[0m\u001b[0;34m)\u001b[0m\u001b[0;34m\u001b[0m\u001b[0;34m\u001b[0m\u001b[0m\n\u001b[0m\u001b[1;32m      4\u001b[0m \u001b[0mprint\u001b[0m\u001b[0;34m(\u001b[0m\u001b[0mresults\u001b[0m\u001b[0;34m.\u001b[0m\u001b[0mgroup\u001b[0m\u001b[0;34m(\u001b[0m\u001b[0;36m1\u001b[0m\u001b[0;34m)\u001b[0m\u001b[0;34m)\u001b[0m\u001b[0;34m\u001b[0m\u001b[0;34m\u001b[0m\u001b[0m\n",
            "\u001b[0;32m/usr/lib/python3.7/re.py\u001b[0m in \u001b[0;36msearch\u001b[0;34m(pattern, string, flags)\u001b[0m\n\u001b[1;32m    183\u001b[0m     \"\"\"Scan through string looking for a match to the pattern, returning\n\u001b[1;32m    184\u001b[0m     a Match object, or None if no match was found.\"\"\"\n\u001b[0;32m--> 185\u001b[0;31m     \u001b[0;32mreturn\u001b[0m \u001b[0m_compile\u001b[0m\u001b[0;34m(\u001b[0m\u001b[0mpattern\u001b[0m\u001b[0;34m,\u001b[0m \u001b[0mflags\u001b[0m\u001b[0;34m)\u001b[0m\u001b[0;34m.\u001b[0m\u001b[0msearch\u001b[0m\u001b[0;34m(\u001b[0m\u001b[0mstring\u001b[0m\u001b[0;34m)\u001b[0m\u001b[0;34m\u001b[0m\u001b[0;34m\u001b[0m\u001b[0m\n\u001b[0m\u001b[1;32m    186\u001b[0m \u001b[0;34m\u001b[0m\u001b[0m\n\u001b[1;32m    187\u001b[0m \u001b[0;32mdef\u001b[0m \u001b[0msub\u001b[0m\u001b[0;34m(\u001b[0m\u001b[0mpattern\u001b[0m\u001b[0;34m,\u001b[0m \u001b[0mrepl\u001b[0m\u001b[0;34m,\u001b[0m \u001b[0mstring\u001b[0m\u001b[0;34m,\u001b[0m \u001b[0mcount\u001b[0m\u001b[0;34m=\u001b[0m\u001b[0;36m0\u001b[0m\u001b[0;34m,\u001b[0m \u001b[0mflags\u001b[0m\u001b[0;34m=\u001b[0m\u001b[0;36m0\u001b[0m\u001b[0;34m)\u001b[0m\u001b[0;34m:\u001b[0m\u001b[0;34m\u001b[0m\u001b[0;34m\u001b[0m\u001b[0m\n",
            "\u001b[0;32m/usr/lib/python3.7/re.py\u001b[0m in \u001b[0;36m_compile\u001b[0;34m(pattern, flags)\u001b[0m\n\u001b[1;32m    286\u001b[0m     \u001b[0;32mif\u001b[0m \u001b[0;32mnot\u001b[0m \u001b[0msre_compile\u001b[0m\u001b[0;34m.\u001b[0m\u001b[0misstring\u001b[0m\u001b[0;34m(\u001b[0m\u001b[0mpattern\u001b[0m\u001b[0;34m)\u001b[0m\u001b[0;34m:\u001b[0m\u001b[0;34m\u001b[0m\u001b[0;34m\u001b[0m\u001b[0m\n\u001b[1;32m    287\u001b[0m         \u001b[0;32mraise\u001b[0m \u001b[0mTypeError\u001b[0m\u001b[0;34m(\u001b[0m\u001b[0;34m\"first argument must be string or compiled pattern\"\u001b[0m\u001b[0;34m)\u001b[0m\u001b[0;34m\u001b[0m\u001b[0;34m\u001b[0m\u001b[0m\n\u001b[0;32m--> 288\u001b[0;31m     \u001b[0mp\u001b[0m \u001b[0;34m=\u001b[0m \u001b[0msre_compile\u001b[0m\u001b[0;34m.\u001b[0m\u001b[0mcompile\u001b[0m\u001b[0;34m(\u001b[0m\u001b[0mpattern\u001b[0m\u001b[0;34m,\u001b[0m \u001b[0mflags\u001b[0m\u001b[0;34m)\u001b[0m\u001b[0;34m\u001b[0m\u001b[0;34m\u001b[0m\u001b[0m\n\u001b[0m\u001b[1;32m    289\u001b[0m     \u001b[0;32mif\u001b[0m \u001b[0;32mnot\u001b[0m \u001b[0;34m(\u001b[0m\u001b[0mflags\u001b[0m \u001b[0;34m&\u001b[0m \u001b[0mDEBUG\u001b[0m\u001b[0;34m)\u001b[0m\u001b[0;34m:\u001b[0m\u001b[0;34m\u001b[0m\u001b[0;34m\u001b[0m\u001b[0m\n\u001b[1;32m    290\u001b[0m         \u001b[0;32mif\u001b[0m \u001b[0mlen\u001b[0m\u001b[0;34m(\u001b[0m\u001b[0m_cache\u001b[0m\u001b[0;34m)\u001b[0m \u001b[0;34m>=\u001b[0m \u001b[0m_MAXCACHE\u001b[0m\u001b[0;34m:\u001b[0m\u001b[0;34m\u001b[0m\u001b[0;34m\u001b[0m\u001b[0m\n",
            "\u001b[0;32m/usr/lib/python3.7/sre_compile.py\u001b[0m in \u001b[0;36mcompile\u001b[0;34m(p, flags)\u001b[0m\n\u001b[1;32m    762\u001b[0m     \u001b[0;32mif\u001b[0m \u001b[0misstring\u001b[0m\u001b[0;34m(\u001b[0m\u001b[0mp\u001b[0m\u001b[0;34m)\u001b[0m\u001b[0;34m:\u001b[0m\u001b[0;34m\u001b[0m\u001b[0;34m\u001b[0m\u001b[0m\n\u001b[1;32m    763\u001b[0m         \u001b[0mpattern\u001b[0m \u001b[0;34m=\u001b[0m \u001b[0mp\u001b[0m\u001b[0;34m\u001b[0m\u001b[0;34m\u001b[0m\u001b[0m\n\u001b[0;32m--> 764\u001b[0;31m         \u001b[0mp\u001b[0m \u001b[0;34m=\u001b[0m \u001b[0msre_parse\u001b[0m\u001b[0;34m.\u001b[0m\u001b[0mparse\u001b[0m\u001b[0;34m(\u001b[0m\u001b[0mp\u001b[0m\u001b[0;34m,\u001b[0m \u001b[0mflags\u001b[0m\u001b[0;34m)\u001b[0m\u001b[0;34m\u001b[0m\u001b[0;34m\u001b[0m\u001b[0m\n\u001b[0m\u001b[1;32m    765\u001b[0m     \u001b[0;32melse\u001b[0m\u001b[0;34m:\u001b[0m\u001b[0;34m\u001b[0m\u001b[0;34m\u001b[0m\u001b[0m\n\u001b[1;32m    766\u001b[0m         \u001b[0mpattern\u001b[0m \u001b[0;34m=\u001b[0m \u001b[0;32mNone\u001b[0m\u001b[0;34m\u001b[0m\u001b[0;34m\u001b[0m\u001b[0m\n",
            "\u001b[0;32m/usr/lib/python3.7/sre_parse.py\u001b[0m in \u001b[0;36mparse\u001b[0;34m(str, flags, pattern)\u001b[0m\n\u001b[1;32m    922\u001b[0m \u001b[0;34m\u001b[0m\u001b[0m\n\u001b[1;32m    923\u001b[0m     \u001b[0;32mtry\u001b[0m\u001b[0;34m:\u001b[0m\u001b[0;34m\u001b[0m\u001b[0;34m\u001b[0m\u001b[0m\n\u001b[0;32m--> 924\u001b[0;31m         \u001b[0mp\u001b[0m \u001b[0;34m=\u001b[0m \u001b[0m_parse_sub\u001b[0m\u001b[0;34m(\u001b[0m\u001b[0msource\u001b[0m\u001b[0;34m,\u001b[0m \u001b[0mpattern\u001b[0m\u001b[0;34m,\u001b[0m \u001b[0mflags\u001b[0m \u001b[0;34m&\u001b[0m \u001b[0mSRE_FLAG_VERBOSE\u001b[0m\u001b[0;34m,\u001b[0m \u001b[0;36m0\u001b[0m\u001b[0;34m)\u001b[0m\u001b[0;34m\u001b[0m\u001b[0;34m\u001b[0m\u001b[0m\n\u001b[0m\u001b[1;32m    925\u001b[0m     \u001b[0;32mexcept\u001b[0m \u001b[0mVerbose\u001b[0m\u001b[0;34m:\u001b[0m\u001b[0;34m\u001b[0m\u001b[0;34m\u001b[0m\u001b[0m\n\u001b[1;32m    926\u001b[0m         \u001b[0;31m# the VERBOSE flag was switched on inside the pattern.  to be\u001b[0m\u001b[0;34m\u001b[0m\u001b[0;34m\u001b[0m\u001b[0;34m\u001b[0m\u001b[0m\n",
            "\u001b[0;32m/usr/lib/python3.7/sre_parse.py\u001b[0m in \u001b[0;36m_parse_sub\u001b[0;34m(source, state, verbose, nested)\u001b[0m\n\u001b[1;32m    418\u001b[0m     \u001b[0;32mwhile\u001b[0m \u001b[0;32mTrue\u001b[0m\u001b[0;34m:\u001b[0m\u001b[0;34m\u001b[0m\u001b[0;34m\u001b[0m\u001b[0m\n\u001b[1;32m    419\u001b[0m         itemsappend(_parse(source, state, verbose, nested + 1,\n\u001b[0;32m--> 420\u001b[0;31m                            not nested and not items))\n\u001b[0m\u001b[1;32m    421\u001b[0m         \u001b[0;32mif\u001b[0m \u001b[0;32mnot\u001b[0m \u001b[0msourcematch\u001b[0m\u001b[0;34m(\u001b[0m\u001b[0;34m\"|\"\u001b[0m\u001b[0;34m)\u001b[0m\u001b[0;34m:\u001b[0m\u001b[0;34m\u001b[0m\u001b[0;34m\u001b[0m\u001b[0m\n\u001b[1;32m    422\u001b[0m             \u001b[0;32mbreak\u001b[0m\u001b[0;34m\u001b[0m\u001b[0;34m\u001b[0m\u001b[0m\n",
            "\u001b[0;32m/usr/lib/python3.7/sre_parse.py\u001b[0m in \u001b[0;36m_parse\u001b[0;34m(source, state, verbose, nested, first)\u001b[0m\n\u001b[1;32m    808\u001b[0m             sub_verbose = ((verbose or (add_flags & SRE_FLAG_VERBOSE)) and\n\u001b[1;32m    809\u001b[0m                            not (del_flags & SRE_FLAG_VERBOSE))\n\u001b[0;32m--> 810\u001b[0;31m             \u001b[0mp\u001b[0m \u001b[0;34m=\u001b[0m \u001b[0m_parse_sub\u001b[0m\u001b[0;34m(\u001b[0m\u001b[0msource\u001b[0m\u001b[0;34m,\u001b[0m \u001b[0mstate\u001b[0m\u001b[0;34m,\u001b[0m \u001b[0msub_verbose\u001b[0m\u001b[0;34m,\u001b[0m \u001b[0mnested\u001b[0m \u001b[0;34m+\u001b[0m \u001b[0;36m1\u001b[0m\u001b[0;34m)\u001b[0m\u001b[0;34m\u001b[0m\u001b[0;34m\u001b[0m\u001b[0m\n\u001b[0m\u001b[1;32m    811\u001b[0m             \u001b[0;32mif\u001b[0m \u001b[0;32mnot\u001b[0m \u001b[0msource\u001b[0m\u001b[0;34m.\u001b[0m\u001b[0mmatch\u001b[0m\u001b[0;34m(\u001b[0m\u001b[0;34m\")\"\u001b[0m\u001b[0;34m)\u001b[0m\u001b[0;34m:\u001b[0m\u001b[0;34m\u001b[0m\u001b[0;34m\u001b[0m\u001b[0m\n\u001b[1;32m    812\u001b[0m                 raise source.error(\"missing ), unterminated subpattern\",\n",
            "\u001b[0;32m/usr/lib/python3.7/sre_parse.py\u001b[0m in \u001b[0;36m_parse_sub\u001b[0;34m(source, state, verbose, nested)\u001b[0m\n\u001b[1;32m    418\u001b[0m     \u001b[0;32mwhile\u001b[0m \u001b[0;32mTrue\u001b[0m\u001b[0;34m:\u001b[0m\u001b[0;34m\u001b[0m\u001b[0;34m\u001b[0m\u001b[0m\n\u001b[1;32m    419\u001b[0m         itemsappend(_parse(source, state, verbose, nested + 1,\n\u001b[0;32m--> 420\u001b[0;31m                            not nested and not items))\n\u001b[0m\u001b[1;32m    421\u001b[0m         \u001b[0;32mif\u001b[0m \u001b[0;32mnot\u001b[0m \u001b[0msourcematch\u001b[0m\u001b[0;34m(\u001b[0m\u001b[0;34m\"|\"\u001b[0m\u001b[0;34m)\u001b[0m\u001b[0;34m:\u001b[0m\u001b[0;34m\u001b[0m\u001b[0;34m\u001b[0m\u001b[0m\n\u001b[1;32m    422\u001b[0m             \u001b[0;32mbreak\u001b[0m\u001b[0;34m\u001b[0m\u001b[0;34m\u001b[0m\u001b[0m\n",
            "\u001b[0;32m/usr/lib/python3.7/sre_parse.py\u001b[0m in \u001b[0;36m_parse\u001b[0;34m(source, state, verbose, nested, first)\u001b[0m\n\u001b[1;32m    808\u001b[0m             sub_verbose = ((verbose or (add_flags & SRE_FLAG_VERBOSE)) and\n\u001b[1;32m    809\u001b[0m                            not (del_flags & SRE_FLAG_VERBOSE))\n\u001b[0;32m--> 810\u001b[0;31m             \u001b[0mp\u001b[0m \u001b[0;34m=\u001b[0m \u001b[0m_parse_sub\u001b[0m\u001b[0;34m(\u001b[0m\u001b[0msource\u001b[0m\u001b[0;34m,\u001b[0m \u001b[0mstate\u001b[0m\u001b[0;34m,\u001b[0m \u001b[0msub_verbose\u001b[0m\u001b[0;34m,\u001b[0m \u001b[0mnested\u001b[0m \u001b[0;34m+\u001b[0m \u001b[0;36m1\u001b[0m\u001b[0;34m)\u001b[0m\u001b[0;34m\u001b[0m\u001b[0;34m\u001b[0m\u001b[0m\n\u001b[0m\u001b[1;32m    811\u001b[0m             \u001b[0;32mif\u001b[0m \u001b[0;32mnot\u001b[0m \u001b[0msource\u001b[0m\u001b[0;34m.\u001b[0m\u001b[0mmatch\u001b[0m\u001b[0;34m(\u001b[0m\u001b[0;34m\")\"\u001b[0m\u001b[0;34m)\u001b[0m\u001b[0;34m:\u001b[0m\u001b[0;34m\u001b[0m\u001b[0;34m\u001b[0m\u001b[0m\n\u001b[1;32m    812\u001b[0m                 raise source.error(\"missing ), unterminated subpattern\",\n",
            "\u001b[0;32m/usr/lib/python3.7/sre_parse.py\u001b[0m in \u001b[0;36m_parse_sub\u001b[0;34m(source, state, verbose, nested)\u001b[0m\n\u001b[1;32m    418\u001b[0m     \u001b[0;32mwhile\u001b[0m \u001b[0;32mTrue\u001b[0m\u001b[0;34m:\u001b[0m\u001b[0;34m\u001b[0m\u001b[0;34m\u001b[0m\u001b[0m\n\u001b[1;32m    419\u001b[0m         itemsappend(_parse(source, state, verbose, nested + 1,\n\u001b[0;32m--> 420\u001b[0;31m                            not nested and not items))\n\u001b[0m\u001b[1;32m    421\u001b[0m         \u001b[0;32mif\u001b[0m \u001b[0;32mnot\u001b[0m \u001b[0msourcematch\u001b[0m\u001b[0;34m(\u001b[0m\u001b[0;34m\"|\"\u001b[0m\u001b[0;34m)\u001b[0m\u001b[0;34m:\u001b[0m\u001b[0;34m\u001b[0m\u001b[0;34m\u001b[0m\u001b[0m\n\u001b[1;32m    422\u001b[0m             \u001b[0;32mbreak\u001b[0m\u001b[0;34m\u001b[0m\u001b[0;34m\u001b[0m\u001b[0m\n",
            "\u001b[0;32m/usr/lib/python3.7/sre_parse.py\u001b[0m in \u001b[0;36m_parse\u001b[0;34m(source, state, verbose, nested, first)\u001b[0m\n\u001b[1;32m    643\u001b[0m             \u001b[0;32mif\u001b[0m \u001b[0;32mnot\u001b[0m \u001b[0mitem\u001b[0m \u001b[0;32mor\u001b[0m \u001b[0mitem\u001b[0m\u001b[0;34m[\u001b[0m\u001b[0;36m0\u001b[0m\u001b[0;34m]\u001b[0m\u001b[0;34m[\u001b[0m\u001b[0;36m0\u001b[0m\u001b[0;34m]\u001b[0m \u001b[0;32mis\u001b[0m \u001b[0mAT\u001b[0m\u001b[0;34m:\u001b[0m\u001b[0;34m\u001b[0m\u001b[0;34m\u001b[0m\u001b[0m\n\u001b[1;32m    644\u001b[0m                 raise source.error(\"nothing to repeat\",\n\u001b[0;32m--> 645\u001b[0;31m                                    source.tell() - here + len(this))\n\u001b[0m\u001b[1;32m    646\u001b[0m             \u001b[0;32mif\u001b[0m \u001b[0mitem\u001b[0m\u001b[0;34m[\u001b[0m\u001b[0;36m0\u001b[0m\u001b[0;34m]\u001b[0m\u001b[0;34m[\u001b[0m\u001b[0;36m0\u001b[0m\u001b[0;34m]\u001b[0m \u001b[0;32min\u001b[0m \u001b[0m_REPEATCODES\u001b[0m\u001b[0;34m:\u001b[0m\u001b[0;34m\u001b[0m\u001b[0;34m\u001b[0m\u001b[0m\n\u001b[1;32m    647\u001b[0m                 raise source.error(\"multiple repeat\",\n",
            "\u001b[0;31merror\u001b[0m: nothing to repeat at position 23"
          ]
        }
      ]
    },
    {
      "cell_type": "markdown",
      "metadata": {
        "id": "SfaBxwKX51Va"
      },
      "source": [
        "## findall() Method\n",
        "\n",
        "\n",
        "we will learn how to find all matches to the regular expression in Python. The RE module’s re.findall() method scans the regex pattern through the entire target string and returns all the matches that were found in the form of a list.\n",
        "\n",
        "Syntax:\n",
        "\n",
        "re.findall(pattern, string, flags=0)\n",
        "\n",
        "\n",
        "pattern: regular expression pattern we want to find in the string or text\n",
        "\n",
        "\n",
        "string: It is the variable pointing to the target string (In which we want to look for occurrences of the pattern).\n",
        "\n",
        "\n",
        "Flags: It refers to optional regex flags. by default, no flags are applied. For example, the re.I flag is used for performing case-insensitive findings.\n",
        "\n",
        "\n",
        "Return Value\n",
        "\n",
        "The re.findall() scans the target string from left to right as per the regular expression pattern and returns all matches in the order they were found.\n",
        "\n",
        "It returns None if it fails to locate the occurrences of the pattern or such a pattern doesn’t exist in a target string."
      ]
    },
    {
      "cell_type": "code",
      "metadata": {
        "colab": {
          "base_uri": "https://localhost:8080/"
        },
        "id": "_aWjxIK72QKZ",
        "outputId": "b81b1fbd-2e08-48f3-a159-f91f4aa7f57b"
      },
      "source": [
        "target_string = \"Emma is a basketball player who was born on June 17, 1993. She played 112 matches with scoring average 26.12 points per game. Her weight is 51 kg.\"\n",
        "results  =re.findall(r'\\d{2}',target_string)\n",
        "print(results)\n"
      ],
      "execution_count": null,
      "outputs": [
        {
          "output_type": "stream",
          "name": "stdout",
          "text": [
            "['17', '19', '93', '11', '26', '12', '51']\n"
          ]
        }
      ]
    },
    {
      "cell_type": "code",
      "metadata": {
        "colab": {
          "base_uri": "https://localhost:8080/"
        },
        "id": "khKeCpO0-tRM",
        "outputId": "47ba163c-243c-4d29-afc0-18fa1a9c4688"
      },
      "source": [
        "results = re.findall(r'\\w{6}',target_string)\n",
        "print(results)"
      ],
      "execution_count": null,
      "outputs": [
        {
          "output_type": "stream",
          "name": "stdout",
          "text": [
            "['basket', 'player', 'played', 'matche', 'scorin', 'averag', 'points', 'weight']\n"
          ]
        }
      ]
    },
    {
      "cell_type": "code",
      "metadata": {
        "colab": {
          "base_uri": "https://localhost:8080/"
        },
        "id": "VUVf-G0ICY63",
        "outputId": "53d0f72c-0985-412b-f5f8-e5aff2542fd1"
      },
      "source": [
        "results = re.findall(r'\\swho',target_string)\n",
        "print(results)"
      ],
      "execution_count": null,
      "outputs": [
        {
          "output_type": "stream",
          "name": "stdout",
          "text": [
            "[' who']\n"
          ]
        }
      ]
    },
    {
      "cell_type": "markdown",
      "metadata": {
        "id": "D_2pGCgD8z9j"
      },
      "source": [
        "d/w between search  vs findall method  is that \n",
        "\n",
        "*   Findall() method  is used to search for all ocurences that match a          given pattern . \n",
        "*   In contrast , search() module will only return the first occurences that match the specified return .\n",
        "\n"
      ]
    },
    {
      "cell_type": "markdown",
      "metadata": {
        "id": "OKExa1gQ3Rk-"
      },
      "source": [
        "## Split  Method \n",
        "\n",
        "In this article, will learn how to split a string based on a regular expression pattern in Python. The Pythons re module’s re.split() method split the string by the occurrences of the regex pattern, returning a list containing the resulting substrings.\n",
        "\n",
        "After reading this article you will be able to perform the following split operations using regex in Python.\n",
        "\n",
        "syntax \n",
        "\n",
        "re.split(pattern, string, maxsplit=0, flags=0)\n",
        "\n",
        "\n",
        "The regular expression pattern and target string are the mandatory arguments. The maxsplit, and flags are optional.\n",
        "\n",
        "\n",
        "pattern: the regular expression pattern used for splitting the target string.\n",
        "\n",
        "string: The variable pointing to the target string (i.e., the string we want to split).\n",
        "\n",
        "maxsplit: The number of splits you wanted to perform. If maxsplit is 2, at most two splits occur, and the remainder of the string is returned as the final element of the list.\n",
        "\n",
        "\n",
        "flags: By default, no flags are applied.\n",
        "\n",
        "\n",
        "There are many regex flags we can use. For example, the re.I is used for performing case-insensitive searching."
      ]
    },
    {
      "cell_type": "markdown",
      "metadata": {
        "id": "tMmX8e_afQ7q"
      },
      "source": [
        "So let’s take a simple example to split a string on the occurrence of any non-digit. Here we will use the \\D special sequence that matches any non-digit character and matches occurrence of any non digit  Ex "
      ]
    },
    {
      "cell_type": "code",
      "metadata": {
        "id": "ipUSEeIk7nMr",
        "colab": {
          "base_uri": "https://localhost:8080/"
        },
        "outputId": "bb430813-47fc-43ee-9341-58c3c515621d"
      },
      "source": [
        "import re \n",
        "\n",
        "target_string = \"My name is maximums and my luck numbers are 12 45 78\"\n",
        "results = re.split(r'\\d{2}',target_string)\n",
        "print(results)\n",
        "#As you can see in the output, we got the list of words separated by whitespace."
      ],
      "execution_count": null,
      "outputs": [
        {
          "output_type": "stream",
          "name": "stdout",
          "text": [
            "['My name is maximums and my luck numbers are ', ' ', ' ', '']\n"
          ]
        }
      ]
    },
    {
      "cell_type": "code",
      "metadata": {
        "colab": {
          "base_uri": "https://localhost:8080/"
        },
        "id": "SDkZ-FtFSy87",
        "outputId": "b1ff8c4e-86f8-474e-c97a-6d3827236a5c"
      },
      "source": [
        "# split a string on non digit occurrences that is (-)\n",
        "import re\n",
        "target_string = \"12-45-78\"\n",
        "results = re.split(r'\\D',target_string)\n",
        "print(results)\n"
      ],
      "execution_count": null,
      "outputs": [
        {
          "output_type": "stream",
          "name": "stdout",
          "text": [
            "['12', '45', '78']\n"
          ]
        }
      ]
    },
    {
      "cell_type": "markdown",
      "metadata": {
        "id": "uuzGAuN5nnCG"
      },
      "source": [
        "Let’s add the + metacharacter at the end of \\s. Now, The \\s+ regex pattern will split the target string on the occurrence of one or more whitespace characters. Let’s see the demo Ex  and \"\" On that point it will split the same "
      ]
    },
    {
      "cell_type": "code",
      "metadata": {
        "colab": {
          "base_uri": "https://localhost:8080/"
        },
        "id": "_RujQlZ_UZQt",
        "outputId": "9658d060-1101-4c95-b66f-b17785aaefc4"
      },
      "source": [
        "# We have use  ( \\s ) meta characters \n",
        "import re \n",
        "target_string =\"My name is maximums and my luck numbers are 12 45 78\"\n",
        "results =re.split(r'\\s',target_string)\n",
        "print(results)"
      ],
      "execution_count": null,
      "outputs": [
        {
          "output_type": "stream",
          "name": "stdout",
          "text": [
            "['My', 'name', 'is', 'maximums', 'and', 'my', 'luck', 'numbers', 'are', '12', '45', '78']\n"
          ]
        }
      ]
    },
    {
      "cell_type": "code",
      "metadata": {
        "colab": {
          "base_uri": "https://localhost:8080/"
        },
        "id": "4N7t65CwnxhJ",
        "outputId": "a021925a-39fa-485f-dfd8-f04b47609789"
      },
      "source": [
        "# Now we have use (\\s+) Meta characters  (basically (+) means more white space characters \n",
        "import re\n",
        "target_string = \"My name is maximums and my luck numbers are 12 45 78\" \n",
        "results =re.split(r'\\s+',target_string)      \n",
        "print(results)              "
      ],
      "execution_count": null,
      "outputs": [
        {
          "output_type": "stream",
          "name": "stdout",
          "text": [
            "['My', 'name', 'is', 'maximums', 'and', 'my', 'luck', 'numbers', 'are', '12', '45', '78']\n"
          ]
        }
      ]
    },
    {
      "cell_type": "markdown",
      "metadata": {
        "id": "LVP2DgtDqg0-"
      },
      "source": [
        "This are list of words seperated by whitespace characters "
      ]
    },
    {
      "cell_type": "markdown",
      "metadata": {
        "id": "jIhyi-FIqtkX"
      },
      "source": [
        "# Limiting the Split  Method \n",
        "\n",
        "The maxsplit parameter of re.split() is used to define how many splits you want to perform.\n",
        "\n",
        "In simple words, if the maxsplit is 2, then two splits will be done, and the remainder of the string is returned as the final element of the list.\n",
        "\n",
        "So let’s take a simple example to split a string on the occurrence of any non-digit. Here we will use the \\D special sequence that matches any non-digit character."
      ]
    },
    {
      "cell_type": "code",
      "metadata": {
        "colab": {
          "base_uri": "https://localhost:8080/"
        },
        "id": "nmjGPaD-q5fW",
        "outputId": "9bfab33a-adff-4f25-9ec3-d24e84f1de7b"
      },
      "source": [
        "import re\n",
        "# Split only on first occurrence \\\n",
        "# We can do like this  1st alternative\n",
        "target_string = \"12-45-78\"\n",
        "results = re.split(r'-',target_string,maxsplit=1)\n",
        "print(results)\n",
        "\n",
        "\n"
      ],
      "execution_count": null,
      "outputs": [
        {
          "output_type": "stream",
          "name": "stdout",
          "text": [
            "['12', '45-78']\n"
          ]
        }
      ]
    },
    {
      "cell_type": "code",
      "metadata": {
        "colab": {
          "base_uri": "https://localhost:8080/"
        },
        "id": "PZKmsiQkr8rt",
        "outputId": "72038d1e-b655-4480-d4d2-1b08701afe41"
      },
      "source": [
        "# Split on all 3 occurrence \n",
        "target_string = \"12-45-78\"\n",
        "results = re.split(r'\\D',target_string,maxsplit =3)\n",
        "print(results)"
      ],
      "execution_count": null,
      "outputs": [
        {
          "output_type": "stream",
          "name": "stdout",
          "text": [
            "['12', '45', '78']\n"
          ]
        }
      ]
    },
    {
      "cell_type": "markdown",
      "metadata": {
        "id": "m5FJw4N-wO38"
      },
      "source": [
        "## Regex to Split string with multiple delimiters\n",
        "\n",
        "\n",
        "For example, using the regular expression re.split() method, we can split the string either by the comma or by space.\n",
        "\n",
        "\n",
        "\n",
        "With the regex split() method, you will get more flexibility. You can specify a pattern for the delimiters where you can specify multiple delimiters, while with the string’s split() method, you could have used only a fixed character or set of characters to split a string.\n",
        "\n",
        "\n",
        "Example to split string by two delimiters"
      ]
    },
    {
      "cell_type": "code",
      "metadata": {
        "colab": {
          "base_uri": "https://localhost:8080/"
        },
        "id": "B4tyRKwXuff5",
        "outputId": "572d2d6f-af2c-48ab-ea42-885f9abefbcf"
      },
      "source": [
        "# We can use  ( | ) for either & or purpose \n",
        "import re\n",
        "target_string = \"12,45,78,85-17-89\"\n",
        "result = re.split(r',|-',target_string)\n",
        "print(results)"
      ],
      "execution_count": null,
      "outputs": [
        {
          "output_type": "stream",
          "name": "stdout",
          "text": [
            "['12', '45', '78']\n"
          ]
        }
      ]
    },
    {
      "cell_type": "markdown",
      "metadata": {
        "id": "xh3VCBvx-bvR"
      },
      "source": [
        "## Regex to split string on five delimiters\n",
        "\n",
        "Here we will use regex to split a string with five delimiters Including the dot, comma, semicolon, a hyphen, and space followed by any amount of extra whitespace.\n",
        "\n",
        "\n",
        "## In the context of regular expressions , a character class is a set of characters enclosed within square brackets . It specifies the characters that will successfully match a single characters from a given input string  and that 's what we are gonna use in setting up 5 delimiters in [ ] bracket .\n",
        "\n"
      ]
    },
    {
      "cell_type": "code",
      "metadata": {
        "colab": {
          "base_uri": "https://localhost:8080/"
        },
        "id": "UQAQTLJaysgl",
        "outputId": "b8f9b90b-2449-428b-83df-b36c46edfe5c"
      },
      "source": [
        "target_string = \"PYnative   dot.com; is for, Python-developer\"\n",
        "results = re.split(r'[\\s.;,]',target_string)\n",
        "print(results)"
      ],
      "execution_count": null,
      "outputs": [
        {
          "output_type": "stream",
          "name": "stdout",
          "text": [
            "['PYnative', '', '', 'dot', 'com', '', 'is', 'for', '', 'Python-developer']\n"
          ]
        }
      ]
    },
    {
      "cell_type": "markdown",
      "metadata": {
        "id": "EvvsdW2nE9AA"
      },
      "source": [
        "## Regex to split String into words with multiple word boundary delimiters\n",
        "\n",
        "\n",
        "In this example, we will use the[\\b\\W\\b]+ regex pattern to cater to any Non-alphanumeric delimiters. Using this pattern we can split string by multiple word boundary delimiters that will result in a list of alphanumeric/word tokens.\n",
        "\n",
        "\n",
        "\n",
        "Note: The \\W is a regex special sequence that matches any Non-alphanumeric character. Non-alphanumeric means no letter, digit, and underscore."
      ]
    },
    {
      "cell_type": "code",
      "metadata": {
        "colab": {
          "base_uri": "https://localhost:8080/"
        },
        "id": "0sEbCbe5_Sya",
        "outputId": "a66b0a04-2e8d-4e5b-d993-c299f539759d"
      },
      "source": [
        "import re\n",
        "\n",
        "target_string = \"PYnative! dot.com; is for, Python-developer?\"\n",
        "results = re.split(r'[\\b\\w\\b]+',target_string)\n",
        "print(results)"
      ],
      "execution_count": null,
      "outputs": [
        {
          "output_type": "stream",
          "name": "stdout",
          "text": [
            "['', '! ', '.', '; ', ' ', ', ', '-', '?']\n"
          ]
        }
      ]
    },
    {
      "cell_type": "markdown",
      "metadata": {
        "id": "4W_qv2EfNiSa"
      },
      "source": [
        "## The sub() Function\n",
        "The sub() function replaces the matches with the text of your choice:\n",
        "\n",
        "Example\n",
        "Replace every white-space character with the number 9:\n",
        "\n"
      ]
    },
    {
      "cell_type": "code",
      "metadata": {
        "colab": {
          "base_uri": "https://localhost:8080/"
        },
        "id": "bG6WVCBrGsfT",
        "outputId": "22910f07-eb99-4d85-aa42-dcd6525af987"
      },
      "source": [
        "# using (\\s) help to replace white space character with digit 9\n",
        "import re\n",
        "txt =\"The Rain in Spain\"\n",
        "results = re.sub('\\s','9',txt)\n",
        "print(results)"
      ],
      "execution_count": null,
      "outputs": [
        {
          "output_type": "stream",
          "name": "stdout",
          "text": [
            "The9Rain9in9Spain\n"
          ]
        }
      ]
    },
    {
      "cell_type": "markdown",
      "metadata": {
        "id": "H3Y7-betoDlm"
      },
      "source": [
        "You can control the number of replacements by specifying the count parameter:  Ex are given "
      ]
    },
    {
      "cell_type": "code",
      "metadata": {
        "colab": {
          "base_uri": "https://localhost:8080/"
        },
        "id": "W-EEvlKvMrK3",
        "outputId": "e3198d04-3e4f-4945-adc8-7f314f370d60"
      },
      "source": [
        "import re\n",
        "txt = \"The Rain in Spain\"\n",
        "results = re.sub(r'\\s','9',txt,2)\n",
        "print(results)"
      ],
      "execution_count": null,
      "outputs": [
        {
          "output_type": "stream",
          "name": "stdout",
          "text": [
            "The9Rain9in Spain\n"
          ]
        }
      ]
    },
    {
      "cell_type": "code",
      "metadata": {
        "id": "UicetMldzRA_"
      },
      "source": [
        ""
      ],
      "execution_count": null,
      "outputs": []
    }
  ]
}